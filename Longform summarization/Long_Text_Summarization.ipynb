{
  "nbformat": 4,
  "nbformat_minor": 0,
  "metadata": {
    "colab": {
      "name": "Long Text Summarization.ipynb",
      "provenance": [],
      "collapsed_sections": []
    },
    "kernelspec": {
      "name": "python3",
      "display_name": "Python 3"
    },
    "widgets": {
      "application/vnd.jupyter.widget-state+json": {
        "6fef1339786b420ea2d426a19c812c38": {
          "model_module": "@jupyter-widgets/controls",
          "model_name": "HBoxModel",
          "state": {
            "_view_name": "HBoxView",
            "_dom_classes": [],
            "_model_name": "HBoxModel",
            "_view_module": "@jupyter-widgets/controls",
            "_model_module_version": "1.5.0",
            "_view_count": null,
            "_view_module_version": "1.5.0",
            "box_style": "",
            "layout": "IPY_MODEL_ea5cbe100c4a45f7b6332fb4af391678",
            "_model_module": "@jupyter-widgets/controls",
            "children": [
              "IPY_MODEL_3435385e8b0e429ba7c35fb186954a24",
              "IPY_MODEL_0bda37363ac14e3aadc53e90ecc70bd1"
            ]
          }
        },
        "ea5cbe100c4a45f7b6332fb4af391678": {
          "model_module": "@jupyter-widgets/base",
          "model_name": "LayoutModel",
          "state": {
            "_view_name": "LayoutView",
            "grid_template_rows": null,
            "right": null,
            "justify_content": null,
            "_view_module": "@jupyter-widgets/base",
            "overflow": null,
            "_model_module_version": "1.2.0",
            "_view_count": null,
            "flex_flow": null,
            "width": null,
            "min_width": null,
            "border": null,
            "align_items": null,
            "bottom": null,
            "_model_module": "@jupyter-widgets/base",
            "top": null,
            "grid_column": null,
            "overflow_y": null,
            "overflow_x": null,
            "grid_auto_flow": null,
            "grid_area": null,
            "grid_template_columns": null,
            "flex": null,
            "_model_name": "LayoutModel",
            "justify_items": null,
            "grid_row": null,
            "max_height": null,
            "align_content": null,
            "visibility": null,
            "align_self": null,
            "height": null,
            "min_height": null,
            "padding": null,
            "grid_auto_rows": null,
            "grid_gap": null,
            "max_width": null,
            "order": null,
            "_view_module_version": "1.2.0",
            "grid_template_areas": null,
            "object_position": null,
            "object_fit": null,
            "grid_auto_columns": null,
            "margin": null,
            "display": null,
            "left": null
          }
        },
        "3435385e8b0e429ba7c35fb186954a24": {
          "model_module": "@jupyter-widgets/controls",
          "model_name": "FloatProgressModel",
          "state": {
            "_view_name": "ProgressView",
            "style": "IPY_MODEL_bb9bededff4144f28d0e7fcf41789718",
            "_dom_classes": [],
            "description": "Downloading: 100%",
            "_model_name": "FloatProgressModel",
            "bar_style": "success",
            "max": 1621,
            "_view_module": "@jupyter-widgets/controls",
            "_model_module_version": "1.5.0",
            "value": 1621,
            "_view_count": null,
            "_view_module_version": "1.5.0",
            "orientation": "horizontal",
            "min": 0,
            "description_tooltip": null,
            "_model_module": "@jupyter-widgets/controls",
            "layout": "IPY_MODEL_079b82b17b1243289576687287ca2d6f"
          }
        },
        "0bda37363ac14e3aadc53e90ecc70bd1": {
          "model_module": "@jupyter-widgets/controls",
          "model_name": "HTMLModel",
          "state": {
            "_view_name": "HTMLView",
            "style": "IPY_MODEL_a40d253939b3477f8a1576f83ef2e998",
            "_dom_classes": [],
            "description": "",
            "_model_name": "HTMLModel",
            "placeholder": "​",
            "_view_module": "@jupyter-widgets/controls",
            "_model_module_version": "1.5.0",
            "value": " 1.62k/1.62k [00:00&lt;00:00, 8.76kB/s]",
            "_view_count": null,
            "_view_module_version": "1.5.0",
            "description_tooltip": null,
            "_model_module": "@jupyter-widgets/controls",
            "layout": "IPY_MODEL_e214b0b4930045ca9984a2206e8afe2b"
          }
        },
        "bb9bededff4144f28d0e7fcf41789718": {
          "model_module": "@jupyter-widgets/controls",
          "model_name": "ProgressStyleModel",
          "state": {
            "_view_name": "StyleView",
            "_model_name": "ProgressStyleModel",
            "description_width": "initial",
            "_view_module": "@jupyter-widgets/base",
            "_model_module_version": "1.5.0",
            "_view_count": null,
            "_view_module_version": "1.2.0",
            "bar_color": null,
            "_model_module": "@jupyter-widgets/controls"
          }
        },
        "079b82b17b1243289576687287ca2d6f": {
          "model_module": "@jupyter-widgets/base",
          "model_name": "LayoutModel",
          "state": {
            "_view_name": "LayoutView",
            "grid_template_rows": null,
            "right": null,
            "justify_content": null,
            "_view_module": "@jupyter-widgets/base",
            "overflow": null,
            "_model_module_version": "1.2.0",
            "_view_count": null,
            "flex_flow": null,
            "width": null,
            "min_width": null,
            "border": null,
            "align_items": null,
            "bottom": null,
            "_model_module": "@jupyter-widgets/base",
            "top": null,
            "grid_column": null,
            "overflow_y": null,
            "overflow_x": null,
            "grid_auto_flow": null,
            "grid_area": null,
            "grid_template_columns": null,
            "flex": null,
            "_model_name": "LayoutModel",
            "justify_items": null,
            "grid_row": null,
            "max_height": null,
            "align_content": null,
            "visibility": null,
            "align_self": null,
            "height": null,
            "min_height": null,
            "padding": null,
            "grid_auto_rows": null,
            "grid_gap": null,
            "max_width": null,
            "order": null,
            "_view_module_version": "1.2.0",
            "grid_template_areas": null,
            "object_position": null,
            "object_fit": null,
            "grid_auto_columns": null,
            "margin": null,
            "display": null,
            "left": null
          }
        },
        "a40d253939b3477f8a1576f83ef2e998": {
          "model_module": "@jupyter-widgets/controls",
          "model_name": "DescriptionStyleModel",
          "state": {
            "_view_name": "StyleView",
            "_model_name": "DescriptionStyleModel",
            "description_width": "",
            "_view_module": "@jupyter-widgets/base",
            "_model_module_version": "1.5.0",
            "_view_count": null,
            "_view_module_version": "1.2.0",
            "_model_module": "@jupyter-widgets/controls"
          }
        },
        "e214b0b4930045ca9984a2206e8afe2b": {
          "model_module": "@jupyter-widgets/base",
          "model_name": "LayoutModel",
          "state": {
            "_view_name": "LayoutView",
            "grid_template_rows": null,
            "right": null,
            "justify_content": null,
            "_view_module": "@jupyter-widgets/base",
            "overflow": null,
            "_model_module_version": "1.2.0",
            "_view_count": null,
            "flex_flow": null,
            "width": null,
            "min_width": null,
            "border": null,
            "align_items": null,
            "bottom": null,
            "_model_module": "@jupyter-widgets/base",
            "top": null,
            "grid_column": null,
            "overflow_y": null,
            "overflow_x": null,
            "grid_auto_flow": null,
            "grid_area": null,
            "grid_template_columns": null,
            "flex": null,
            "_model_name": "LayoutModel",
            "justify_items": null,
            "grid_row": null,
            "max_height": null,
            "align_content": null,
            "visibility": null,
            "align_self": null,
            "height": null,
            "min_height": null,
            "padding": null,
            "grid_auto_rows": null,
            "grid_gap": null,
            "max_width": null,
            "order": null,
            "_view_module_version": "1.2.0",
            "grid_template_areas": null,
            "object_position": null,
            "object_fit": null,
            "grid_auto_columns": null,
            "margin": null,
            "display": null,
            "left": null
          }
        },
        "74745cb3e1394785ac5226713c7ad609": {
          "model_module": "@jupyter-widgets/controls",
          "model_name": "HBoxModel",
          "state": {
            "_view_name": "HBoxView",
            "_dom_classes": [],
            "_model_name": "HBoxModel",
            "_view_module": "@jupyter-widgets/controls",
            "_model_module_version": "1.5.0",
            "_view_count": null,
            "_view_module_version": "1.5.0",
            "box_style": "",
            "layout": "IPY_MODEL_d255b96ff1d14c9ab63b6ea6d8b4711d",
            "_model_module": "@jupyter-widgets/controls",
            "children": [
              "IPY_MODEL_ada3351575f14dc5b00da1171e6a3214",
              "IPY_MODEL_f81eaaa8b9054109a5ba6c4959167ed6"
            ]
          }
        },
        "d255b96ff1d14c9ab63b6ea6d8b4711d": {
          "model_module": "@jupyter-widgets/base",
          "model_name": "LayoutModel",
          "state": {
            "_view_name": "LayoutView",
            "grid_template_rows": null,
            "right": null,
            "justify_content": null,
            "_view_module": "@jupyter-widgets/base",
            "overflow": null,
            "_model_module_version": "1.2.0",
            "_view_count": null,
            "flex_flow": null,
            "width": null,
            "min_width": null,
            "border": null,
            "align_items": null,
            "bottom": null,
            "_model_module": "@jupyter-widgets/base",
            "top": null,
            "grid_column": null,
            "overflow_y": null,
            "overflow_x": null,
            "grid_auto_flow": null,
            "grid_area": null,
            "grid_template_columns": null,
            "flex": null,
            "_model_name": "LayoutModel",
            "justify_items": null,
            "grid_row": null,
            "max_height": null,
            "align_content": null,
            "visibility": null,
            "align_self": null,
            "height": null,
            "min_height": null,
            "padding": null,
            "grid_auto_rows": null,
            "grid_gap": null,
            "max_width": null,
            "order": null,
            "_view_module_version": "1.2.0",
            "grid_template_areas": null,
            "object_position": null,
            "object_fit": null,
            "grid_auto_columns": null,
            "margin": null,
            "display": null,
            "left": null
          }
        },
        "ada3351575f14dc5b00da1171e6a3214": {
          "model_module": "@jupyter-widgets/controls",
          "model_name": "FloatProgressModel",
          "state": {
            "_view_name": "ProgressView",
            "style": "IPY_MODEL_faa14ed153e544d0bce2910a01c8d20a",
            "_dom_classes": [],
            "description": "Downloading:  80%",
            "_model_name": "FloatProgressModel",
            "bar_style": "",
            "max": 1222317369,
            "_view_module": "@jupyter-widgets/controls",
            "_model_module_version": "1.5.0",
            "value": 976448512,
            "_view_count": null,
            "_view_module_version": "1.5.0",
            "orientation": "horizontal",
            "min": 0,
            "description_tooltip": null,
            "_model_module": "@jupyter-widgets/controls",
            "layout": "IPY_MODEL_644896084fbf4e2d9ff4ebfbd3970d09"
          }
        },
        "f81eaaa8b9054109a5ba6c4959167ed6": {
          "model_module": "@jupyter-widgets/controls",
          "model_name": "HTMLModel",
          "state": {
            "_view_name": "HTMLView",
            "style": "IPY_MODEL_2a889bf56c254a08b6825a6a2464a64c",
            "_dom_classes": [],
            "description": "",
            "_model_name": "HTMLModel",
            "placeholder": "​",
            "_view_module": "@jupyter-widgets/controls",
            "_model_module_version": "1.5.0",
            "value": " 1.22G/1.22G [00:24&lt;00:00, 49.6MB/s]",
            "_view_count": null,
            "_view_module_version": "1.5.0",
            "description_tooltip": null,
            "_model_module": "@jupyter-widgets/controls",
            "layout": "IPY_MODEL_c9dad6a614b8421a98343a1b4167cd90"
          }
        },
        "faa14ed153e544d0bce2910a01c8d20a": {
          "model_module": "@jupyter-widgets/controls",
          "model_name": "ProgressStyleModel",
          "state": {
            "_view_name": "StyleView",
            "_model_name": "ProgressStyleModel",
            "description_width": "initial",
            "_view_module": "@jupyter-widgets/base",
            "_model_module_version": "1.5.0",
            "_view_count": null,
            "_view_module_version": "1.2.0",
            "bar_color": null,
            "_model_module": "@jupyter-widgets/controls"
          }
        },
        "644896084fbf4e2d9ff4ebfbd3970d09": {
          "model_module": "@jupyter-widgets/base",
          "model_name": "LayoutModel",
          "state": {
            "_view_name": "LayoutView",
            "grid_template_rows": null,
            "right": null,
            "justify_content": null,
            "_view_module": "@jupyter-widgets/base",
            "overflow": null,
            "_model_module_version": "1.2.0",
            "_view_count": null,
            "flex_flow": null,
            "width": null,
            "min_width": null,
            "border": null,
            "align_items": null,
            "bottom": null,
            "_model_module": "@jupyter-widgets/base",
            "top": null,
            "grid_column": null,
            "overflow_y": null,
            "overflow_x": null,
            "grid_auto_flow": null,
            "grid_area": null,
            "grid_template_columns": null,
            "flex": null,
            "_model_name": "LayoutModel",
            "justify_items": null,
            "grid_row": null,
            "max_height": null,
            "align_content": null,
            "visibility": null,
            "align_self": null,
            "height": null,
            "min_height": null,
            "padding": null,
            "grid_auto_rows": null,
            "grid_gap": null,
            "max_width": null,
            "order": null,
            "_view_module_version": "1.2.0",
            "grid_template_areas": null,
            "object_position": null,
            "object_fit": null,
            "grid_auto_columns": null,
            "margin": null,
            "display": null,
            "left": null
          }
        },
        "2a889bf56c254a08b6825a6a2464a64c": {
          "model_module": "@jupyter-widgets/controls",
          "model_name": "DescriptionStyleModel",
          "state": {
            "_view_name": "StyleView",
            "_model_name": "DescriptionStyleModel",
            "description_width": "",
            "_view_module": "@jupyter-widgets/base",
            "_model_module_version": "1.5.0",
            "_view_count": null,
            "_view_module_version": "1.2.0",
            "_model_module": "@jupyter-widgets/controls"
          }
        },
        "c9dad6a614b8421a98343a1b4167cd90": {
          "model_module": "@jupyter-widgets/base",
          "model_name": "LayoutModel",
          "state": {
            "_view_name": "LayoutView",
            "grid_template_rows": null,
            "right": null,
            "justify_content": null,
            "_view_module": "@jupyter-widgets/base",
            "overflow": null,
            "_model_module_version": "1.2.0",
            "_view_count": null,
            "flex_flow": null,
            "width": null,
            "min_width": null,
            "border": null,
            "align_items": null,
            "bottom": null,
            "_model_module": "@jupyter-widgets/base",
            "top": null,
            "grid_column": null,
            "overflow_y": null,
            "overflow_x": null,
            "grid_auto_flow": null,
            "grid_area": null,
            "grid_template_columns": null,
            "flex": null,
            "_model_name": "LayoutModel",
            "justify_items": null,
            "grid_row": null,
            "max_height": null,
            "align_content": null,
            "visibility": null,
            "align_self": null,
            "height": null,
            "min_height": null,
            "padding": null,
            "grid_auto_rows": null,
            "grid_gap": null,
            "max_width": null,
            "order": null,
            "_view_module_version": "1.2.0",
            "grid_template_areas": null,
            "object_position": null,
            "object_fit": null,
            "grid_auto_columns": null,
            "margin": null,
            "display": null,
            "left": null
          }
        },
        "7f37d0d1505d4b8ca7a8a5d3151aae0d": {
          "model_module": "@jupyter-widgets/controls",
          "model_name": "HBoxModel",
          "state": {
            "_view_name": "HBoxView",
            "_dom_classes": [],
            "_model_name": "HBoxModel",
            "_view_module": "@jupyter-widgets/controls",
            "_model_module_version": "1.5.0",
            "_view_count": null,
            "_view_module_version": "1.5.0",
            "box_style": "",
            "layout": "IPY_MODEL_cf159358b9874c8aab6ea90ea476a025",
            "_model_module": "@jupyter-widgets/controls",
            "children": [
              "IPY_MODEL_158d17a355f64276999edc7708d498b0",
              "IPY_MODEL_6a756e25ec11455c83cd343b3112ef6e"
            ]
          }
        },
        "cf159358b9874c8aab6ea90ea476a025": {
          "model_module": "@jupyter-widgets/base",
          "model_name": "LayoutModel",
          "state": {
            "_view_name": "LayoutView",
            "grid_template_rows": null,
            "right": null,
            "justify_content": null,
            "_view_module": "@jupyter-widgets/base",
            "overflow": null,
            "_model_module_version": "1.2.0",
            "_view_count": null,
            "flex_flow": null,
            "width": null,
            "min_width": null,
            "border": null,
            "align_items": null,
            "bottom": null,
            "_model_module": "@jupyter-widgets/base",
            "top": null,
            "grid_column": null,
            "overflow_y": null,
            "overflow_x": null,
            "grid_auto_flow": null,
            "grid_area": null,
            "grid_template_columns": null,
            "flex": null,
            "_model_name": "LayoutModel",
            "justify_items": null,
            "grid_row": null,
            "max_height": null,
            "align_content": null,
            "visibility": null,
            "align_self": null,
            "height": null,
            "min_height": null,
            "padding": null,
            "grid_auto_rows": null,
            "grid_gap": null,
            "max_width": null,
            "order": null,
            "_view_module_version": "1.2.0",
            "grid_template_areas": null,
            "object_position": null,
            "object_fit": null,
            "grid_auto_columns": null,
            "margin": null,
            "display": null,
            "left": null
          }
        },
        "158d17a355f64276999edc7708d498b0": {
          "model_module": "@jupyter-widgets/controls",
          "model_name": "FloatProgressModel",
          "state": {
            "_view_name": "ProgressView",
            "style": "IPY_MODEL_629fb8c37c3a437091cf159a86f03a89",
            "_dom_classes": [],
            "description": "Downloading: 100%",
            "_model_name": "FloatProgressModel",
            "bar_style": "success",
            "max": 898822,
            "_view_module": "@jupyter-widgets/controls",
            "_model_module_version": "1.5.0",
            "value": 898822,
            "_view_count": null,
            "_view_module_version": "1.5.0",
            "orientation": "horizontal",
            "min": 0,
            "description_tooltip": null,
            "_model_module": "@jupyter-widgets/controls",
            "layout": "IPY_MODEL_12d5c64d44e945829b410faccc92e3ae"
          }
        },
        "6a756e25ec11455c83cd343b3112ef6e": {
          "model_module": "@jupyter-widgets/controls",
          "model_name": "HTMLModel",
          "state": {
            "_view_name": "HTMLView",
            "style": "IPY_MODEL_cf6a79febd7a49ea806a7cc146fb89d3",
            "_dom_classes": [],
            "description": "",
            "_model_name": "HTMLModel",
            "placeholder": "​",
            "_view_module": "@jupyter-widgets/controls",
            "_model_module_version": "1.5.0",
            "value": " 899k/899k [00:00&lt;00:00, 1.28MB/s]",
            "_view_count": null,
            "_view_module_version": "1.5.0",
            "description_tooltip": null,
            "_model_module": "@jupyter-widgets/controls",
            "layout": "IPY_MODEL_b21b239352f6427c8f9819ad1658a705"
          }
        },
        "629fb8c37c3a437091cf159a86f03a89": {
          "model_module": "@jupyter-widgets/controls",
          "model_name": "ProgressStyleModel",
          "state": {
            "_view_name": "StyleView",
            "_model_name": "ProgressStyleModel",
            "description_width": "initial",
            "_view_module": "@jupyter-widgets/base",
            "_model_module_version": "1.5.0",
            "_view_count": null,
            "_view_module_version": "1.2.0",
            "bar_color": null,
            "_model_module": "@jupyter-widgets/controls"
          }
        },
        "12d5c64d44e945829b410faccc92e3ae": {
          "model_module": "@jupyter-widgets/base",
          "model_name": "LayoutModel",
          "state": {
            "_view_name": "LayoutView",
            "grid_template_rows": null,
            "right": null,
            "justify_content": null,
            "_view_module": "@jupyter-widgets/base",
            "overflow": null,
            "_model_module_version": "1.2.0",
            "_view_count": null,
            "flex_flow": null,
            "width": null,
            "min_width": null,
            "border": null,
            "align_items": null,
            "bottom": null,
            "_model_module": "@jupyter-widgets/base",
            "top": null,
            "grid_column": null,
            "overflow_y": null,
            "overflow_x": null,
            "grid_auto_flow": null,
            "grid_area": null,
            "grid_template_columns": null,
            "flex": null,
            "_model_name": "LayoutModel",
            "justify_items": null,
            "grid_row": null,
            "max_height": null,
            "align_content": null,
            "visibility": null,
            "align_self": null,
            "height": null,
            "min_height": null,
            "padding": null,
            "grid_auto_rows": null,
            "grid_gap": null,
            "max_width": null,
            "order": null,
            "_view_module_version": "1.2.0",
            "grid_template_areas": null,
            "object_position": null,
            "object_fit": null,
            "grid_auto_columns": null,
            "margin": null,
            "display": null,
            "left": null
          }
        },
        "cf6a79febd7a49ea806a7cc146fb89d3": {
          "model_module": "@jupyter-widgets/controls",
          "model_name": "DescriptionStyleModel",
          "state": {
            "_view_name": "StyleView",
            "_model_name": "DescriptionStyleModel",
            "description_width": "",
            "_view_module": "@jupyter-widgets/base",
            "_model_module_version": "1.5.0",
            "_view_count": null,
            "_view_module_version": "1.2.0",
            "_model_module": "@jupyter-widgets/controls"
          }
        },
        "b21b239352f6427c8f9819ad1658a705": {
          "model_module": "@jupyter-widgets/base",
          "model_name": "LayoutModel",
          "state": {
            "_view_name": "LayoutView",
            "grid_template_rows": null,
            "right": null,
            "justify_content": null,
            "_view_module": "@jupyter-widgets/base",
            "overflow": null,
            "_model_module_version": "1.2.0",
            "_view_count": null,
            "flex_flow": null,
            "width": null,
            "min_width": null,
            "border": null,
            "align_items": null,
            "bottom": null,
            "_model_module": "@jupyter-widgets/base",
            "top": null,
            "grid_column": null,
            "overflow_y": null,
            "overflow_x": null,
            "grid_auto_flow": null,
            "grid_area": null,
            "grid_template_columns": null,
            "flex": null,
            "_model_name": "LayoutModel",
            "justify_items": null,
            "grid_row": null,
            "max_height": null,
            "align_content": null,
            "visibility": null,
            "align_self": null,
            "height": null,
            "min_height": null,
            "padding": null,
            "grid_auto_rows": null,
            "grid_gap": null,
            "max_width": null,
            "order": null,
            "_view_module_version": "1.2.0",
            "grid_template_areas": null,
            "object_position": null,
            "object_fit": null,
            "grid_auto_columns": null,
            "margin": null,
            "display": null,
            "left": null
          }
        },
        "baa7bfbeac1d40fb854d8bdac173d110": {
          "model_module": "@jupyter-widgets/controls",
          "model_name": "HBoxModel",
          "state": {
            "_view_name": "HBoxView",
            "_dom_classes": [],
            "_model_name": "HBoxModel",
            "_view_module": "@jupyter-widgets/controls",
            "_model_module_version": "1.5.0",
            "_view_count": null,
            "_view_module_version": "1.5.0",
            "box_style": "",
            "layout": "IPY_MODEL_c00aa9040d8c40dfaf08c2c184df5ef5",
            "_model_module": "@jupyter-widgets/controls",
            "children": [
              "IPY_MODEL_d4c70bdab5ea428a98ac127546694a9a",
              "IPY_MODEL_d0b5c611025a4fcd9beaa85de3bbdeba"
            ]
          }
        },
        "c00aa9040d8c40dfaf08c2c184df5ef5": {
          "model_module": "@jupyter-widgets/base",
          "model_name": "LayoutModel",
          "state": {
            "_view_name": "LayoutView",
            "grid_template_rows": null,
            "right": null,
            "justify_content": null,
            "_view_module": "@jupyter-widgets/base",
            "overflow": null,
            "_model_module_version": "1.2.0",
            "_view_count": null,
            "flex_flow": null,
            "width": null,
            "min_width": null,
            "border": null,
            "align_items": null,
            "bottom": null,
            "_model_module": "@jupyter-widgets/base",
            "top": null,
            "grid_column": null,
            "overflow_y": null,
            "overflow_x": null,
            "grid_auto_flow": null,
            "grid_area": null,
            "grid_template_columns": null,
            "flex": null,
            "_model_name": "LayoutModel",
            "justify_items": null,
            "grid_row": null,
            "max_height": null,
            "align_content": null,
            "visibility": null,
            "align_self": null,
            "height": null,
            "min_height": null,
            "padding": null,
            "grid_auto_rows": null,
            "grid_gap": null,
            "max_width": null,
            "order": null,
            "_view_module_version": "1.2.0",
            "grid_template_areas": null,
            "object_position": null,
            "object_fit": null,
            "grid_auto_columns": null,
            "margin": null,
            "display": null,
            "left": null
          }
        },
        "d4c70bdab5ea428a98ac127546694a9a": {
          "model_module": "@jupyter-widgets/controls",
          "model_name": "FloatProgressModel",
          "state": {
            "_view_name": "ProgressView",
            "style": "IPY_MODEL_89879344443c4961924d9d5353ae9851",
            "_dom_classes": [],
            "description": "Downloading: 100%",
            "_model_name": "FloatProgressModel",
            "bar_style": "success",
            "max": 456318,
            "_view_module": "@jupyter-widgets/controls",
            "_model_module_version": "1.5.0",
            "value": 456318,
            "_view_count": null,
            "_view_module_version": "1.5.0",
            "orientation": "horizontal",
            "min": 0,
            "description_tooltip": null,
            "_model_module": "@jupyter-widgets/controls",
            "layout": "IPY_MODEL_83e395ff929245f6a05c68868fe48d18"
          }
        },
        "d0b5c611025a4fcd9beaa85de3bbdeba": {
          "model_module": "@jupyter-widgets/controls",
          "model_name": "HTMLModel",
          "state": {
            "_view_name": "HTMLView",
            "style": "IPY_MODEL_386be1dae82c465ab9ea7cbc067b8ca2",
            "_dom_classes": [],
            "description": "",
            "_model_name": "HTMLModel",
            "placeholder": "​",
            "_view_module": "@jupyter-widgets/controls",
            "_model_module_version": "1.5.0",
            "value": " 456k/456k [00:00&lt;00:00, 954kB/s]",
            "_view_count": null,
            "_view_module_version": "1.5.0",
            "description_tooltip": null,
            "_model_module": "@jupyter-widgets/controls",
            "layout": "IPY_MODEL_4ffe96285e934830a257470889204ef6"
          }
        },
        "89879344443c4961924d9d5353ae9851": {
          "model_module": "@jupyter-widgets/controls",
          "model_name": "ProgressStyleModel",
          "state": {
            "_view_name": "StyleView",
            "_model_name": "ProgressStyleModel",
            "description_width": "initial",
            "_view_module": "@jupyter-widgets/base",
            "_model_module_version": "1.5.0",
            "_view_count": null,
            "_view_module_version": "1.2.0",
            "bar_color": null,
            "_model_module": "@jupyter-widgets/controls"
          }
        },
        "83e395ff929245f6a05c68868fe48d18": {
          "model_module": "@jupyter-widgets/base",
          "model_name": "LayoutModel",
          "state": {
            "_view_name": "LayoutView",
            "grid_template_rows": null,
            "right": null,
            "justify_content": null,
            "_view_module": "@jupyter-widgets/base",
            "overflow": null,
            "_model_module_version": "1.2.0",
            "_view_count": null,
            "flex_flow": null,
            "width": null,
            "min_width": null,
            "border": null,
            "align_items": null,
            "bottom": null,
            "_model_module": "@jupyter-widgets/base",
            "top": null,
            "grid_column": null,
            "overflow_y": null,
            "overflow_x": null,
            "grid_auto_flow": null,
            "grid_area": null,
            "grid_template_columns": null,
            "flex": null,
            "_model_name": "LayoutModel",
            "justify_items": null,
            "grid_row": null,
            "max_height": null,
            "align_content": null,
            "visibility": null,
            "align_self": null,
            "height": null,
            "min_height": null,
            "padding": null,
            "grid_auto_rows": null,
            "grid_gap": null,
            "max_width": null,
            "order": null,
            "_view_module_version": "1.2.0",
            "grid_template_areas": null,
            "object_position": null,
            "object_fit": null,
            "grid_auto_columns": null,
            "margin": null,
            "display": null,
            "left": null
          }
        },
        "386be1dae82c465ab9ea7cbc067b8ca2": {
          "model_module": "@jupyter-widgets/controls",
          "model_name": "DescriptionStyleModel",
          "state": {
            "_view_name": "StyleView",
            "_model_name": "DescriptionStyleModel",
            "description_width": "",
            "_view_module": "@jupyter-widgets/base",
            "_model_module_version": "1.5.0",
            "_view_count": null,
            "_view_module_version": "1.2.0",
            "_model_module": "@jupyter-widgets/controls"
          }
        },
        "4ffe96285e934830a257470889204ef6": {
          "model_module": "@jupyter-widgets/base",
          "model_name": "LayoutModel",
          "state": {
            "_view_name": "LayoutView",
            "grid_template_rows": null,
            "right": null,
            "justify_content": null,
            "_view_module": "@jupyter-widgets/base",
            "overflow": null,
            "_model_module_version": "1.2.0",
            "_view_count": null,
            "flex_flow": null,
            "width": null,
            "min_width": null,
            "border": null,
            "align_items": null,
            "bottom": null,
            "_model_module": "@jupyter-widgets/base",
            "top": null,
            "grid_column": null,
            "overflow_y": null,
            "overflow_x": null,
            "grid_auto_flow": null,
            "grid_area": null,
            "grid_template_columns": null,
            "flex": null,
            "_model_name": "LayoutModel",
            "justify_items": null,
            "grid_row": null,
            "max_height": null,
            "align_content": null,
            "visibility": null,
            "align_self": null,
            "height": null,
            "min_height": null,
            "padding": null,
            "grid_auto_rows": null,
            "grid_gap": null,
            "max_width": null,
            "order": null,
            "_view_module_version": "1.2.0",
            "grid_template_areas": null,
            "object_position": null,
            "object_fit": null,
            "grid_auto_columns": null,
            "margin": null,
            "display": null,
            "left": null
          }
        },
        "25810d38e3bd4b90b2bbd4880962852c": {
          "model_module": "@jupyter-widgets/controls",
          "model_name": "HBoxModel",
          "state": {
            "_view_name": "HBoxView",
            "_dom_classes": [],
            "_model_name": "HBoxModel",
            "_view_module": "@jupyter-widgets/controls",
            "_model_module_version": "1.5.0",
            "_view_count": null,
            "_view_module_version": "1.5.0",
            "box_style": "",
            "layout": "IPY_MODEL_18937aeb52a246df9db41c4cddc3f77f",
            "_model_module": "@jupyter-widgets/controls",
            "children": [
              "IPY_MODEL_3db368b4468b494eb1345c6787f660ac",
              "IPY_MODEL_24f51eecdea5481d82f91512e23acab1"
            ]
          }
        },
        "18937aeb52a246df9db41c4cddc3f77f": {
          "model_module": "@jupyter-widgets/base",
          "model_name": "LayoutModel",
          "state": {
            "_view_name": "LayoutView",
            "grid_template_rows": null,
            "right": null,
            "justify_content": null,
            "_view_module": "@jupyter-widgets/base",
            "overflow": null,
            "_model_module_version": "1.2.0",
            "_view_count": null,
            "flex_flow": null,
            "width": null,
            "min_width": null,
            "border": null,
            "align_items": null,
            "bottom": null,
            "_model_module": "@jupyter-widgets/base",
            "top": null,
            "grid_column": null,
            "overflow_y": null,
            "overflow_x": null,
            "grid_auto_flow": null,
            "grid_area": null,
            "grid_template_columns": null,
            "flex": null,
            "_model_name": "LayoutModel",
            "justify_items": null,
            "grid_row": null,
            "max_height": null,
            "align_content": null,
            "visibility": null,
            "align_self": null,
            "height": null,
            "min_height": null,
            "padding": null,
            "grid_auto_rows": null,
            "grid_gap": null,
            "max_width": null,
            "order": null,
            "_view_module_version": "1.2.0",
            "grid_template_areas": null,
            "object_position": null,
            "object_fit": null,
            "grid_auto_columns": null,
            "margin": null,
            "display": null,
            "left": null
          }
        },
        "3db368b4468b494eb1345c6787f660ac": {
          "model_module": "@jupyter-widgets/controls",
          "model_name": "FloatProgressModel",
          "state": {
            "_view_name": "ProgressView",
            "style": "IPY_MODEL_ea292ac200cf4fea8e725ea5a303a20b",
            "_dom_classes": [],
            "description": "Downloading: 100%",
            "_model_name": "FloatProgressModel",
            "bar_style": "success",
            "max": 26,
            "_view_module": "@jupyter-widgets/controls",
            "_model_module_version": "1.5.0",
            "value": 26,
            "_view_count": null,
            "_view_module_version": "1.5.0",
            "orientation": "horizontal",
            "min": 0,
            "description_tooltip": null,
            "_model_module": "@jupyter-widgets/controls",
            "layout": "IPY_MODEL_aa1b3f11b05f43279dd16d5e18afe12b"
          }
        },
        "24f51eecdea5481d82f91512e23acab1": {
          "model_module": "@jupyter-widgets/controls",
          "model_name": "HTMLModel",
          "state": {
            "_view_name": "HTMLView",
            "style": "IPY_MODEL_3d9bd0a87af441139892765198151df2",
            "_dom_classes": [],
            "description": "",
            "_model_name": "HTMLModel",
            "placeholder": "​",
            "_view_module": "@jupyter-widgets/controls",
            "_model_module_version": "1.5.0",
            "value": " 26.0/26.0 [00:00&lt;00:00, 204B/s]",
            "_view_count": null,
            "_view_module_version": "1.5.0",
            "description_tooltip": null,
            "_model_module": "@jupyter-widgets/controls",
            "layout": "IPY_MODEL_8456b6951c5049c8b834902b43977671"
          }
        },
        "ea292ac200cf4fea8e725ea5a303a20b": {
          "model_module": "@jupyter-widgets/controls",
          "model_name": "ProgressStyleModel",
          "state": {
            "_view_name": "StyleView",
            "_model_name": "ProgressStyleModel",
            "description_width": "initial",
            "_view_module": "@jupyter-widgets/base",
            "_model_module_version": "1.5.0",
            "_view_count": null,
            "_view_module_version": "1.2.0",
            "bar_color": null,
            "_model_module": "@jupyter-widgets/controls"
          }
        },
        "aa1b3f11b05f43279dd16d5e18afe12b": {
          "model_module": "@jupyter-widgets/base",
          "model_name": "LayoutModel",
          "state": {
            "_view_name": "LayoutView",
            "grid_template_rows": null,
            "right": null,
            "justify_content": null,
            "_view_module": "@jupyter-widgets/base",
            "overflow": null,
            "_model_module_version": "1.2.0",
            "_view_count": null,
            "flex_flow": null,
            "width": null,
            "min_width": null,
            "border": null,
            "align_items": null,
            "bottom": null,
            "_model_module": "@jupyter-widgets/base",
            "top": null,
            "grid_column": null,
            "overflow_y": null,
            "overflow_x": null,
            "grid_auto_flow": null,
            "grid_area": null,
            "grid_template_columns": null,
            "flex": null,
            "_model_name": "LayoutModel",
            "justify_items": null,
            "grid_row": null,
            "max_height": null,
            "align_content": null,
            "visibility": null,
            "align_self": null,
            "height": null,
            "min_height": null,
            "padding": null,
            "grid_auto_rows": null,
            "grid_gap": null,
            "max_width": null,
            "order": null,
            "_view_module_version": "1.2.0",
            "grid_template_areas": null,
            "object_position": null,
            "object_fit": null,
            "grid_auto_columns": null,
            "margin": null,
            "display": null,
            "left": null
          }
        },
        "3d9bd0a87af441139892765198151df2": {
          "model_module": "@jupyter-widgets/controls",
          "model_name": "DescriptionStyleModel",
          "state": {
            "_view_name": "StyleView",
            "_model_name": "DescriptionStyleModel",
            "description_width": "",
            "_view_module": "@jupyter-widgets/base",
            "_model_module_version": "1.5.0",
            "_view_count": null,
            "_view_module_version": "1.2.0",
            "_model_module": "@jupyter-widgets/controls"
          }
        },
        "8456b6951c5049c8b834902b43977671": {
          "model_module": "@jupyter-widgets/base",
          "model_name": "LayoutModel",
          "state": {
            "_view_name": "LayoutView",
            "grid_template_rows": null,
            "right": null,
            "justify_content": null,
            "_view_module": "@jupyter-widgets/base",
            "overflow": null,
            "_model_module_version": "1.2.0",
            "_view_count": null,
            "flex_flow": null,
            "width": null,
            "min_width": null,
            "border": null,
            "align_items": null,
            "bottom": null,
            "_model_module": "@jupyter-widgets/base",
            "top": null,
            "grid_column": null,
            "overflow_y": null,
            "overflow_x": null,
            "grid_auto_flow": null,
            "grid_area": null,
            "grid_template_columns": null,
            "flex": null,
            "_model_name": "LayoutModel",
            "justify_items": null,
            "grid_row": null,
            "max_height": null,
            "align_content": null,
            "visibility": null,
            "align_self": null,
            "height": null,
            "min_height": null,
            "padding": null,
            "grid_auto_rows": null,
            "grid_gap": null,
            "max_width": null,
            "order": null,
            "_view_module_version": "1.2.0",
            "grid_template_areas": null,
            "object_position": null,
            "object_fit": null,
            "grid_auto_columns": null,
            "margin": null,
            "display": null,
            "left": null
          }
        }
      }
    }
  },
  "cells": [
    {
      "cell_type": "code",
      "metadata": {
        "colab": {
          "base_uri": "https://localhost:8080/"
        },
        "id": "E5HfHuJ6GZAu",
        "outputId": "b3c4214d-ddc0-45b0-ecb6-75805963d83d"
      },
      "source": [
        "!pip install transformers"
      ],
      "execution_count": 1,
      "outputs": [
        {
          "output_type": "stream",
          "text": [
            "Collecting transformers\n",
            "\u001b[?25l  Downloading https://files.pythonhosted.org/packages/f9/54/5ca07ec9569d2f232f3166de5457b63943882f7950ddfcc887732fc7fb23/transformers-4.3.3-py3-none-any.whl (1.9MB)\n",
            "\u001b[K     |████████████████████████████████| 1.9MB 5.7MB/s \n",
            "\u001b[?25hCollecting sacremoses\n",
            "\u001b[?25l  Downloading https://files.pythonhosted.org/packages/7d/34/09d19aff26edcc8eb2a01bed8e98f13a1537005d31e95233fd48216eed10/sacremoses-0.0.43.tar.gz (883kB)\n",
            "\u001b[K     |████████████████████████████████| 890kB 21.1MB/s \n",
            "\u001b[?25hRequirement already satisfied: tqdm>=4.27 in /usr/local/lib/python3.7/dist-packages (from transformers) (4.41.1)\n",
            "Requirement already satisfied: packaging in /usr/local/lib/python3.7/dist-packages (from transformers) (20.9)\n",
            "Requirement already satisfied: filelock in /usr/local/lib/python3.7/dist-packages (from transformers) (3.0.12)\n",
            "Requirement already satisfied: numpy>=1.17 in /usr/local/lib/python3.7/dist-packages (from transformers) (1.19.5)\n",
            "Requirement already satisfied: importlib-metadata; python_version < \"3.8\" in /usr/local/lib/python3.7/dist-packages (from transformers) (3.4.0)\n",
            "Collecting tokenizers<0.11,>=0.10.1\n",
            "\u001b[?25l  Downloading https://files.pythonhosted.org/packages/71/23/2ddc317b2121117bf34dd00f5b0de194158f2a44ee2bf5e47c7166878a97/tokenizers-0.10.1-cp37-cp37m-manylinux2010_x86_64.whl (3.2MB)\n",
            "\u001b[K     |████████████████████████████████| 3.2MB 27.6MB/s \n",
            "\u001b[?25hRequirement already satisfied: regex!=2019.12.17 in /usr/local/lib/python3.7/dist-packages (from transformers) (2019.12.20)\n",
            "Requirement already satisfied: requests in /usr/local/lib/python3.7/dist-packages (from transformers) (2.23.0)\n",
            "Requirement already satisfied: six in /usr/local/lib/python3.7/dist-packages (from sacremoses->transformers) (1.15.0)\n",
            "Requirement already satisfied: click in /usr/local/lib/python3.7/dist-packages (from sacremoses->transformers) (7.1.2)\n",
            "Requirement already satisfied: joblib in /usr/local/lib/python3.7/dist-packages (from sacremoses->transformers) (1.0.1)\n",
            "Requirement already satisfied: pyparsing>=2.0.2 in /usr/local/lib/python3.7/dist-packages (from packaging->transformers) (2.4.7)\n",
            "Requirement already satisfied: typing-extensions>=3.6.4; python_version < \"3.8\" in /usr/local/lib/python3.7/dist-packages (from importlib-metadata; python_version < \"3.8\"->transformers) (3.7.4.3)\n",
            "Requirement already satisfied: zipp>=0.5 in /usr/local/lib/python3.7/dist-packages (from importlib-metadata; python_version < \"3.8\"->transformers) (3.4.0)\n",
            "Requirement already satisfied: urllib3!=1.25.0,!=1.25.1,<1.26,>=1.21.1 in /usr/local/lib/python3.7/dist-packages (from requests->transformers) (1.24.3)\n",
            "Requirement already satisfied: idna<3,>=2.5 in /usr/local/lib/python3.7/dist-packages (from requests->transformers) (2.10)\n",
            "Requirement already satisfied: chardet<4,>=3.0.2 in /usr/local/lib/python3.7/dist-packages (from requests->transformers) (3.0.4)\n",
            "Requirement already satisfied: certifi>=2017.4.17 in /usr/local/lib/python3.7/dist-packages (from requests->transformers) (2020.12.5)\n",
            "Building wheels for collected packages: sacremoses\n",
            "  Building wheel for sacremoses (setup.py) ... \u001b[?25l\u001b[?25hdone\n",
            "  Created wheel for sacremoses: filename=sacremoses-0.0.43-cp37-none-any.whl size=893262 sha256=2e56d9e18692a413062f0b62b914a632c54f4b995f823b64c0b8134168863bae\n",
            "  Stored in directory: /root/.cache/pip/wheels/29/3c/fd/7ce5c3f0666dab31a50123635e6fb5e19ceb42ce38d4e58f45\n",
            "Successfully built sacremoses\n",
            "Installing collected packages: sacremoses, tokenizers, transformers\n",
            "Successfully installed sacremoses-0.0.43 tokenizers-0.10.1 transformers-4.3.3\n"
          ],
          "name": "stdout"
        }
      ]
    },
    {
      "cell_type": "code",
      "metadata": {
        "id": "nnZStZ1NGlIJ"
      },
      "source": [
        "from transformers import pipeline\r\n",
        "from bs4 import BeautifulSoup\r\n",
        "import requests"
      ],
      "execution_count": 2,
      "outputs": []
    },
    {
      "cell_type": "markdown",
      "metadata": {
        "id": "jlDdI96AGt5I"
      },
      "source": [
        "# Pipelining"
      ]
    },
    {
      "cell_type": "code",
      "metadata": {
        "colab": {
          "base_uri": "https://localhost:8080/",
          "height": 245,
          "referenced_widgets": [
            "6fef1339786b420ea2d426a19c812c38",
            "ea5cbe100c4a45f7b6332fb4af391678",
            "3435385e8b0e429ba7c35fb186954a24",
            "0bda37363ac14e3aadc53e90ecc70bd1",
            "bb9bededff4144f28d0e7fcf41789718",
            "079b82b17b1243289576687287ca2d6f",
            "a40d253939b3477f8a1576f83ef2e998",
            "e214b0b4930045ca9984a2206e8afe2b",
            "74745cb3e1394785ac5226713c7ad609",
            "d255b96ff1d14c9ab63b6ea6d8b4711d",
            "ada3351575f14dc5b00da1171e6a3214",
            "f81eaaa8b9054109a5ba6c4959167ed6",
            "faa14ed153e544d0bce2910a01c8d20a",
            "644896084fbf4e2d9ff4ebfbd3970d09",
            "2a889bf56c254a08b6825a6a2464a64c",
            "c9dad6a614b8421a98343a1b4167cd90",
            "7f37d0d1505d4b8ca7a8a5d3151aae0d",
            "cf159358b9874c8aab6ea90ea476a025",
            "158d17a355f64276999edc7708d498b0",
            "6a756e25ec11455c83cd343b3112ef6e",
            "629fb8c37c3a437091cf159a86f03a89",
            "12d5c64d44e945829b410faccc92e3ae",
            "cf6a79febd7a49ea806a7cc146fb89d3",
            "b21b239352f6427c8f9819ad1658a705",
            "baa7bfbeac1d40fb854d8bdac173d110",
            "c00aa9040d8c40dfaf08c2c184df5ef5",
            "d4c70bdab5ea428a98ac127546694a9a",
            "d0b5c611025a4fcd9beaa85de3bbdeba",
            "89879344443c4961924d9d5353ae9851",
            "83e395ff929245f6a05c68868fe48d18",
            "386be1dae82c465ab9ea7cbc067b8ca2",
            "4ffe96285e934830a257470889204ef6",
            "25810d38e3bd4b90b2bbd4880962852c",
            "18937aeb52a246df9db41c4cddc3f77f",
            "3db368b4468b494eb1345c6787f660ac",
            "24f51eecdea5481d82f91512e23acab1",
            "ea292ac200cf4fea8e725ea5a303a20b",
            "aa1b3f11b05f43279dd16d5e18afe12b",
            "3d9bd0a87af441139892765198151df2",
            "8456b6951c5049c8b834902b43977671"
          ]
        },
        "id": "L6s3npsbGlEg",
        "outputId": "805e1936-6d4b-48e1-fbbe-d4c36325507d"
      },
      "source": [
        "summarizer = pipeline(\"summarization\")"
      ],
      "execution_count": 3,
      "outputs": [
        {
          "output_type": "display_data",
          "data": {
            "application/vnd.jupyter.widget-view+json": {
              "model_id": "6fef1339786b420ea2d426a19c812c38",
              "version_minor": 0,
              "version_major": 2
            },
            "text/plain": [
              "HBox(children=(FloatProgress(value=0.0, description='Downloading', max=1621.0, style=ProgressStyle(description…"
            ]
          },
          "metadata": {
            "tags": []
          }
        },
        {
          "output_type": "stream",
          "text": [
            "\n"
          ],
          "name": "stdout"
        },
        {
          "output_type": "display_data",
          "data": {
            "application/vnd.jupyter.widget-view+json": {
              "model_id": "74745cb3e1394785ac5226713c7ad609",
              "version_minor": 0,
              "version_major": 2
            },
            "text/plain": [
              "HBox(children=(FloatProgress(value=0.0, description='Downloading', max=1222317369.0, style=ProgressStyle(descr…"
            ]
          },
          "metadata": {
            "tags": []
          }
        },
        {
          "output_type": "display_data",
          "data": {
            "application/vnd.jupyter.widget-view+json": {
              "model_id": "7f37d0d1505d4b8ca7a8a5d3151aae0d",
              "version_minor": 0,
              "version_major": 2
            },
            "text/plain": [
              "HBox(children=(FloatProgress(value=0.0, description='Downloading', max=898822.0, style=ProgressStyle(descripti…"
            ]
          },
          "metadata": {
            "tags": []
          }
        },
        {
          "output_type": "stream",
          "text": [
            "\n"
          ],
          "name": "stdout"
        },
        {
          "output_type": "display_data",
          "data": {
            "application/vnd.jupyter.widget-view+json": {
              "model_id": "baa7bfbeac1d40fb854d8bdac173d110",
              "version_minor": 0,
              "version_major": 2
            },
            "text/plain": [
              "HBox(children=(FloatProgress(value=0.0, description='Downloading', max=456318.0, style=ProgressStyle(descripti…"
            ]
          },
          "metadata": {
            "tags": []
          }
        },
        {
          "output_type": "stream",
          "text": [
            "\n"
          ],
          "name": "stdout"
        },
        {
          "output_type": "display_data",
          "data": {
            "application/vnd.jupyter.widget-view+json": {
              "model_id": "25810d38e3bd4b90b2bbd4880962852c",
              "version_minor": 0,
              "version_major": 2
            },
            "text/plain": [
              "HBox(children=(FloatProgress(value=0.0, description='Downloading', max=26.0, style=ProgressStyle(description_w…"
            ]
          },
          "metadata": {
            "tags": []
          }
        },
        {
          "output_type": "stream",
          "text": [
            "\n"
          ],
          "name": "stdout"
        }
      ]
    },
    {
      "cell_type": "code",
      "metadata": {
        "id": "OPLFv092GlBM"
      },
      "source": [
        "URL = \"https://towardsdatascience.com/a-bayesian-take-on-model-regularization-9356116b6457\"\r\n",
        "URL = \"https://hackernoon.com/will-the-game-stop-with-gamestop-or-is-this-just-the-beginning-2j1x32aa\"\r\n",
        "r = requests.get(URL)\r\n"
      ],
      "execution_count": 4,
      "outputs": []
    },
    {
      "cell_type": "code",
      "metadata": {
        "id": "EXqdhVKXGk9p"
      },
      "source": [
        "soup = BeautifulSoup(r.text, 'html.parser')\r\n",
        "results = soup.find_all(['h1', 'p'])\r\n",
        "text = [result.text for result in results]\r\n",
        "ARTICLE = ' '.join(text)"
      ],
      "execution_count": 5,
      "outputs": []
    },
    {
      "cell_type": "code",
      "metadata": {
        "colab": {
          "base_uri": "https://localhost:8080/",
          "height": 137
        },
        "id": "qUGgZjqhGk57",
        "outputId": "ba1c1ec9-19dd-49ba-d57c-8a39028ebf04"
      },
      "source": [
        "ARTICLE"
      ],
      "execution_count": 6,
      "outputs": [
        {
          "output_type": "execute_result",
          "data": {
            "application/vnd.google.colaboratory.intrinsic+json": {
              "type": "string"
            },
            "text/plain": [
              "'Will The Game Stop with Gamestop Or Is This Just The Beginning? Crypto, Markets, Trading The GameStop squeeze on short-sellers is an extraordinary event in markets, where at face value, retail traders and investors have worked together in an attempt to put some of the largest wall street institutions out of business. The events can be interpreted with many viable lenses and there are ironies baked in that are pure serendipity. There has been a centrally controlled game in the global financial system in which insiders benefited while outsiders got hurt that comes to a head with a company called GameStop. The broking firm of most of the retail side of this warfare ‘RobinHood’ is literally stealing from its poor, retail investors to give to its rich, capital backers. One of the historical realities of this game has been that macro-investing – the sages of not only portfolio management, but often also sophisticated social and cultural figures – have had a hard time making money in markets now for decades. With government policy dictating markets in greater degrees since the mid-90’s, the politically connected have been more likely to survive while the sophisticated and capable have been more likely to struggle. Quantitative and high-frequency trading has entered and changed the structure of global markets with this change invited through central banking policy characterised by moral hazard. Commerce and politics has grown closer and so commercial survival has demanded a political edge. Although what I really want to talk about is how market structure has changed since 1995 and how this has contributed to the situation here, a little bit of the history is first required. Drinks on Alan The tequila crises was one of the first events in late 1994, early 1995 in which insiders were bailed out and the might of the U.S. governments political capital was used to organise $50-$80 billion USD in capital for political insiders capital at risk in Mexico.  The big moral hazard there was ex-Goldman Sachs Treasury Secretary Robert Rubin using the state ‘Exchange Stabilisation Fund’ to support a Mexican bailout that protected Goldman Sachs investments. It was Alan Greenspan presiding over the Federal Reserve at the time, meeting with the men in power with sharp suits and important titles. It probably even felt like the right thing to do. This ‘Greenspan put’ as his actions became known in the investing world, fundamentally changed the structure of markets and gave enormous knowledge and power to the politically connected.  (This concept, of a ‘Greenspan put’ refers to the willingness of the Federal Reserve chairman to protect asset prices. A put is insurance against declining asset prices in which the put seller can lose big.) Meet Victor Niederhoffer. Victor Niederhoffer is one of the most successful people alive today.  Niederhoffer studied statistics and economics at Harvard and the University of Chicago, was a finance professor at the University of California and while at college he co-founded an investment bank. Having never picked up a racquet before Harvard, Niederhoffer won the squash national junior title a year later, graduated as the national intercollegiate champion, won the U.S. nationals 5 times and defeated one of the greatest players in the history of the sport in the North American Open, becoming a member of the squash hall of fame. His investment record is tremendous, with an average of a 35% return annualised and once working for fellow legend of funds management George Soros. When it came time for his son to learn the family business, Soros sent his son to Niederhoffer. Niederhoffers books ‘Practical Speculation’ and ‘The Education of a Speculator’ are essential reading for market speculation, a ‘Reminiscences of a Stock Operator’ for the thinking man.  And with changes in how the global financial system became more political, men like Niederhoffer just don’t seem to be around anymore. Maybe they don’t exist anywhere in this limited, unnatural and politically charged environment. Because Victor Niederhoffer, one of the singularly most impressive people you may find, blew his hedge fund up in 1997 in a highly statistically improbable event, in which he sold puts that were targeted by market mechanics, rather than ‘truth’.  A new layer had been added to the Keynesian beauty contest that is global markets, in which leveraged speculators could now make the market so volatile that the entire equity market could change trajectory over a period of months to target rational, risky and forward thinking positions. Normally the type of technical work that the market completed when Niederhoffer sold his puts would prove the future direction of the market so that a speculator could reasonably presume that they were taking a strong risk-adjusted position. The trade setup that emerged in this new type of market - which I call ‘the second bite of the apple’ -is a disadvantage to people who understand markets and understand risk. It takes a professional back to school and adds a new technical layer to fundamental analysis. The market here is more leveraged, more volatile, more aggressive, better for types of trading and worse for investing. The fundamentals no longer matter; and this was demonstrated only 5 years later with what could be the largest bubble of viable assets in history was formed – the NASDAQ bubble in which household blue chip stocks today lost 98% of their value. This was new. It destroyed Niederhoffer, who was quoted by the Washington Post on the day   ‘ “I’ve made that trade hundreds of times in the past 15 years” he whispered “I believe it’s a good trade. It was a one in 2,000 shot that the market would decline like that” ‘ And it baffled many sophisticated market participants for a long time afterwards. But we can actually see a change in the market! When we consider the S&P500 before and after this event (compare A with B), we can see a fundamental change in the market structure, especially in volatility, and how aggressively the market would trade (look at the second squeeze that would almost put his positions offside a second time – if he had them!). Greenspans moral hazard of late 1994/1995 fundamentally changed the market in a new way. Extraordinary people who were never wrong in risk-adjusted terms and who understood markets were carried out of them horizontally by players with leverage, who knew your position, who were more predatory in nature, had no idea about which direction the market headed in, did not care which direction the market ultimately headed in and the people who actually understood and cared about the big picture were now, irrelevant. They would leverage a short position to 500% of the total market capitalisation of the company they were selling simply to crush it into oblivion, and were able to because of a new reality in the global financial system and a new structure in markets. Financial markets were now more poker – positioning, position size and leverage – and less fundamental – for example, what are the future cash-flows of this business? Does this matter? There is a slice of the population, and not a small slice, who would blindly exchange a Niederhoffer for the more savage trader who profited from his demise any day of the week.  Both are rich, successful and perceptibly in the same dirty business, and for a lot of people they might be thrown into the same basket. Why do they care if a hedge fund manager blows up? Well, because we submit that a new epoch of financial markets had begun. We now had a post-modernist, post-truth financial system headed by a mob characterised by a view of their own power and control in which they could manifest truth and reality as they saw fit – but mostly for their mates on the inside. Of course this was fine for the people creating the financial system, because rationalising your own status, your own righteousness in the use of power and your ability to make earth-changing decisions for the benefits of your powerful friends would feel as if things were the way they should be. Why would they care about some hedge-fund managers positions? He knows the game he was getting himself into and should be a generally astute individual, expert in perceiving and managing risk. But this new financial elite establishment DID care about hedge-fund managers losses, just that it was only specific hedge-fund managers that they cared about. In 1998, Long Term Capital Management (LTCM) busted during the 1998 Russian financial crises, losing up to $4.6 billion USD in face value of an approximately $1 billion USD fund. LTCM was founded by a former vice-chairman of Salomon Brothers (of legendary fame in bonds) and their board included Myron S. Scholes and Robert C. Merton of Black-Scholes fame, who won the Nobel Memorial Prize in Economic Sciences in 1997 for their revolutionary equation in options pricing. Their strategy was extremely highly leveraged (debt to equity over 25:1) trading to lock markets up with theoretical modelling overlays onto the real-world market reality.   At face-value LTCM relied on expertise, but in practice it relied on size and reputation of the people involved, evidenced by its catastrophic failure. To cut a long story short, Alan Greenspans Federal Reserve brokered a deal to rescue LTCM with the benefactor of that deal being Goldman Sachs, who had access to the assets sold at firesale – again a benefactor of the interventions of public institutions filled with their own alumni. The Federal Reserve provided $3.6 billion USD of recapitalisation. For Victor Niederhoffer there is some circular logic that emerges here, that spites and gaslights. LTCM was a group of insiders using incredible amounts of leverage to make wrong decisions in markets. Their existence is precipitated in the dangerous new world of Greenspans Federal Reserve, yet a world in which they ultimately fail on paper, are bailed out in practice.   It spites Niederhoffer because the impact on the market as a result of their failure is the best piece of evidence that Victor Niederhoffer was ultimately wrong when the positions that he took that ended his career would have been threatened again in 1998 in this asset price collapse (his positions were challenged again in 1998, validating the argument that the aggressive, leveraged, even vicious targeting of his positions was natural after all).  But this irresponsible group, who were wrong, and who would go on to invalidate Niederhoffer, who would have been right before this fundamental change in reality and market structure, were then bailed-out, while he began rebuilding his career brick by brick. With these two famous moral hazards – of the Tequila Crises and LTCM bailout, the qualitative features of global financial markets fundamentally change. The big-picture thinkers who understand macro-level knowledge in a unique and sophisticated form give way to aggressive, predatory, leveraged, profit taking machinery.  The result had been written in, in 1995. 1995-2008 was one epoch As time went on, events in 1995 and 1998 became the Nasdaq bubble, the Federal Reserve policy response to the Nasdaq bubble became the housing bubble that led into the global financial crisis. The Global Financial Crisis of 2008 was a result of Greenspans put money and the financial institutions writing the rules for financial institutions. Bear Sterns was allowed to fail and Goldman Sachs got bailout money. Macro-investors like Niederhoffer were never less successful around this time onward, and Victor Niederhoffer blew his fund up a second time during this period. Market speculation was now more purely a highly leveraged, volatile and aggressive game in which fundamentals essentially did not matter. The politically connected were able to exploit event risk, with insider knowledge providing superior returns. The Federal Reserve now provided returns. 2008-2020 was another epoch After 25 years of this phenomenon creeping into global markets, in 2020, the public were ahead of it for the first time. During the coronavirus collapse, aggressive retail investors bought, perhaps for the first time, assets from mid-tier but professional asset managers at the low and continued purchasing until the same mid-tier managers were forced to buy back from retail significantly higher. This was, of course, in unison with aggressive professionals in investment banks (We saw this in the 2020 financial results of these firms) including Goldman Sachs and J.P. Morgan (this co-operation of position may also be the case with GameStop). Now in 2021 we have a new epoch: Game Stop. On the one side we have a faceless mob.  Internet-going redditors at r/wallstreetbets with an expertise in meme magic pit themselves against the out of position hedge-funds that include Stephen Cohen’s Point72, Andrew Left’s Citron Capital, Alex Flynn’s Melvin Capital, Dan Sunheim’s D1 Capital Partners, Maplelane Capital and Candlestick Capital Management and with a total value of something like $55 billion USD. The story behind gamestop is that retail investors calculated a vulnerability in market structure – not unlike the firms and traders who put Niederhoffer out of business – They saw that the highly leveraged, aggressive short position of a handleful of many billion dollar hedge funds were out of position, over-committed to the liquidity and leverage of what they were attempting. In short, the short-selling machine was wrong under the rules of the game that were established just before Victor Niederhoffer sold the family silverware and mortgaged his home to survive. The new rules would now be turned against those who had created and used them for so long.  Part of the strategy uses short-dated options, in which options traders and market makers must cover their positions, where significant leverage means that a $500 position might allow up to hundreds of thousands of dollars in short term exposure < 1 or 2 weeks, and that as the market gets closer to that price, the options market maker must purchase the full amount of the underlying asset of the options. Adding to the confusion is that the fact that the majority of these trades are through a broker called ‘RobinHood’. Established in 2013, RobinHood once published a tweet that said ‘Let the people trade! Robinhood is ‘free’ because it sells its order-flow to high frequency trading firms, with its largest partner being Citadel, a hedge fund.  Citadel has covered Melvin Capitals losses, one of the losing hedge funds in GameStop with upto $3 billion, along with the fund Point72. With Citadel financially supporting the losing hedge-funds, RobinHood banned trade in the affected stocks in the Thursday, 28th January trading session. Where it is literally named after a man who stole from the rich to give to the poor, Robinhood has stolen from the poor to give to the rich. Now there is a rumour that they require funding, and that there are serious problems in the broker-dealer network. But perhaps the bigger problem is that the cynicism of Alan Greenspan, Bill Clinton and Robert Rubin having a meeting in the white-house and deciding to spend public money to bail-out a failed Goldman Sachs deal in Mexico has now spread to the entirety of global financial market participants. The market leverage, volatility, aggression and instability that saw Victor Niederhoffer lose his fund has been normalised.  There are no fundamentals. The game, as it turns out, is pure game.  The response from r/WallStreetBets on reddit is part joker and part Count of Monte Cristo. There is little fear of experiencing losses, and they are interested in punitively claiming a moral victory while using the systems logic against it. Profit is a motive, but is almost a second tier motive. And the response from the institutional side has been, pathetic. Discord banned their r/WallStreetBets chat, RobinHood shut down trading in the assets affected, the Nasdaq said they were ‘monitoring social media’, and there was apoplexy from the establishment financial services, with hedge fund billionaire Leon Cooperman - who had previously been prosecuted for insider trading and came to an agreement with the SEC -  complained about retail traders getting ‘checks from the government’ (Yes, a hedge fund manager complaining that other people were getting government help) responding to a call to tax wealth as ‘a bullshit concept. It’s just a way of attacking wealthy people, and I think it’s inappropriate’. Our sober conclusion is that the global financial system may simply not survive this total moral failure of making it so plainly clear that two sets of rules exist, with this contradiction exposed at a very vulnerable time. If we are correct, and the broken structure of these markets continues to create opportunities that damage risk models, force major losses, corrupt the integrity of brokers, condemn the retail investor and cause major volatility events, we expect more and more from the financial media, whimpering about the problems that they have promoted, participated in and exploited, a broken set of over-leveraged markets weighted towards insiders, dependent on government handouts, that buries a Victor Niederhoffer while rewarding the destruction of the global market pricing mechanism.  And it’s only when the average man on the street participates in their game with their rules, that we hear a complaint, half whimper, half anger. The collective voices in the financial media carrying water for the billionaires who lost money in the game that they perpetuated,  ‘Game, Stop!’ By Thomas Kuhn, CFA  Closing Notes Back to Victor on GameStop We circle back to Victor Niederhoffer, who writes in a blog almost daily. His post is reminiscent of his own experiences. https://wsj.com/articles/the-day-trading-barbarians-at-the-gate-wont-sack-wall-street-11611660505… it isn\\'t cricket used to provide nutrients for infrastructure. Public to provide food for those on higher trophic levels as bacon would say \" the public has no rite to be ahead of the form especially when the trainers are betting against them the horse that were shipped from Florida to NY. are now getting accustomed to track. https://sites.google.com/view/casinoreviews/blog/the-ideology-behind-online-casino-games… first and foremost rule \" the House Must Win\". Its not cricket the public is winning , some top feeders are losing. . the Fed is part of the infrastructure. and they have to do something to stop the public from winning. expect them to beg forbearance from fellow colleagues at Treasury and House and to do something bear. There must be a winning team in south of NY (wall street) . action must be taken. high frequency trading must continue apace,  so however, a temporary cessation of bullish profits for the public will be enough to extend reliance on agrarian ideas. A very sagacious man tweets that a agrarian woman will be yelling. I disagree. one thing we can all agree on is that the be all and end all is for the trophic levels, the sharks to eat the bass —- to be upheld even if two days may lose some gamester support. But the most telling part of Victors post that day, was the end. Victor is now 77 years old, with, as we described, many of those years spent in battle with the house, battling the Fed, battling trophic levels in which LTCM is bailed out and he goes under, seeing how the system works from a humiliating defeat, that there must be a winning team in wall street. But he has something more important to worry about now. ‘Don\\'t expect any pointed posts from me tomorrow( i try to keep them innocuous as I lose a google of followers every time i stray from the Woke.) I have 5 health procedures scheduled for tomorrow culminating in the draining of my left leg which is bigger than Game Stop rise. https://youtube.com/watch?v=Bf4-SBA2Ed8…’ and a conclusion that could be very foreboding ‘The time to stop this infernal topsy turvy market where the bags are temporarily losing to the public. and the serial correlation that supports this in part. But remember old turkey partridges adman. ITs a bull market. after two days look for bull and yet. if it goes down too much before the announcement , a stern meeting at the camp Kinsella woodworking commune may be scheduled in order to varnish a few words.’ Get well soon, Victor. Previously published at https://www.monetaryprotestant.com/post/does-the-game-stop-with-gamestop Create your free account to unlock your custom reading experience.'"
            ]
          },
          "metadata": {
            "tags": []
          },
          "execution_count": 6
        }
      ]
    },
    {
      "cell_type": "code",
      "metadata": {
        "id": "Dbb5IsfdGk2m"
      },
      "source": [
        "max_chunk = 500"
      ],
      "execution_count": 7,
      "outputs": []
    },
    {
      "cell_type": "code",
      "metadata": {
        "id": "cXwdqSyrHVKD"
      },
      "source": [
        "ARTICLE = ARTICLE.replace('.', '.<eos>')\r\n",
        "ARTICLE = ARTICLE.replace('?', '?<eos>')\r\n",
        "ARTICLE = ARTICLE.replace('!', '!<eos>')"
      ],
      "execution_count": 8,
      "outputs": []
    },
    {
      "cell_type": "code",
      "metadata": {
        "colab": {
          "base_uri": "https://localhost:8080/"
        },
        "id": "pJ2_Dx_vHVHP",
        "outputId": "f41fb8ee-0fc6-4289-ee33-78f211223907"
      },
      "source": [
        "sentences = ARTICLE.split('<eos>')\r\n",
        "current_chunk = 0 \r\n",
        "chunks = []\r\n",
        "for sentence in sentences:\r\n",
        "    if len(chunks) == current_chunk + 1: \r\n",
        "        if len(chunks[current_chunk]) + len(sentence.split(' ')) <= max_chunk:\r\n",
        "            chunks[current_chunk].extend(sentence.split(' '))\r\n",
        "        else:\r\n",
        "            current_chunk += 1\r\n",
        "            chunks.append(sentence.split(' '))\r\n",
        "    else:\r\n",
        "        print(current_chunk)\r\n",
        "        chunks.append(sentence.split(' '))\r\n",
        "\r\n",
        "for chunk_id in range(len(chunks)):\r\n",
        "    chunks[chunk_id] = ' '.join(chunks[chunk_id])"
      ],
      "execution_count": 9,
      "outputs": [
        {
          "output_type": "stream",
          "text": [
            "0\n"
          ],
          "name": "stdout"
        }
      ]
    },
    {
      "cell_type": "code",
      "metadata": {
        "colab": {
          "base_uri": "https://localhost:8080/"
        },
        "id": "Hnr9O4iiHVEJ",
        "outputId": "c4187989-3a6d-4062-b95b-1c851aec1084"
      },
      "source": [
        "len(chunks)"
      ],
      "execution_count": 10,
      "outputs": [
        {
          "output_type": "execute_result",
          "data": {
            "text/plain": [
              "8"
            ]
          },
          "metadata": {
            "tags": []
          },
          "execution_count": 10
        }
      ]
    },
    {
      "cell_type": "markdown",
      "metadata": {
        "id": "5KPEw-xZHcuC"
      },
      "source": [
        "# Summarizer"
      ]
    },
    {
      "cell_type": "code",
      "metadata": {
        "colab": {
          "base_uri": "https://localhost:8080/"
        },
        "id": "k3tlth5QHVBB",
        "outputId": "6476b6b4-1b82-4ad1-bc66-b01f8351628a"
      },
      "source": [
        "res = summarizer(chunks, max_length=120, min_length=30, do_sample=False)\r\n",
        "res[0]"
      ],
      "execution_count": 11,
      "outputs": [
        {
          "output_type": "execute_result",
          "data": {
            "text/plain": [
              "{'summary_text': ' The GameStop squeeze on short-sellers is an extraordinary event in markets, where at face value, retail traders and investors have worked together in an attempt to put some of the largest wall street institutions out of business . The broking firm of most of the retail side of this warfare ‘RobinHood’ is stealing from its poor, retail investors to give to its rich, capital backers .'}"
            ]
          },
          "metadata": {
            "tags": []
          },
          "execution_count": 11
        }
      ]
    },
    {
      "cell_type": "code",
      "metadata": {
        "colab": {
          "base_uri": "https://localhost:8080/",
          "height": 137
        },
        "id": "DiFWgMFZHs16",
        "outputId": "fee48e81-7f05-4bd9-def2-ac24bd028d52"
      },
      "source": [
        "text = ' '.join([summ['summary_text'] for summ in res])\r\n",
        "text"
      ],
      "execution_count": 12,
      "outputs": [
        {
          "output_type": "execute_result",
          "data": {
            "application/vnd.google.colaboratory.intrinsic+json": {
              "type": "string"
            },
            "text/plain": [
              "' The GameStop squeeze on short-sellers is an extraordinary event in markets, where at face value, retail traders and investors have worked together in an attempt to put some of the largest wall street institutions out of business . The broking firm of most of the retail side of this warfare ‘RobinHood’ is stealing from its poor, retail investors to give to its rich, capital backers .  Victor Niederhoffer blew his hedge fund up in 1997 in a highly statistically improbable event, in which he sold puts that were targeted by market mechanics, rather than ‘truth’. The market here is more leveraged, more volatile, more aggressive, better for types of trading and worse for investing. The fundamentals no longer matter; and this was demonstrated only 5 years later with what could be the largest bubble of viable assets in history .  Greenspans moral hazard of late 1994/1995 fundamentally changed the market in a new way . Extraordinary people who were never wrong in risk-adjusted terms and who understood markets were carried out of them horizontally by players with leverage . Financial markets were now more poker – positioning, position size and leverage – and less fundamental – what are the future cash-flows of this business?  Does this matter?  In 1998, Long Term Capital Management (LTCM) busted during the 1998 Russian financial crises, losing up to $4.6 billion USD in face value of an approximately $1 billion USD fund . Alan Greenspans Federal Reserve brokered a deal to rescue LTCM with Goldman Sachs, who had access to the assets sold at firesale – again a benefactor of the interventions of public institutions filled with their own alumni .  Market speculation was now purely a highly leveraged, volatile and aggressive game in which fundamentals essentially did not matter . The politically connected were able to exploit event risk, with insider knowledge providing superior returns . 2008-2020 was another epoch . Now in 2021 we have a new epoch: Game Stop .  Robinhood is ‘free’ because it sells its order-flow to high frequency trading firms, with its largest partner being Citadel, a hedge fund . Citadel has covered Melvin Capitals losses, one of the losing hedge funds in GameStop with upto $3 billion, along with the fund Point72 . Robinhood has stolen from the poor to give to the rich . Now there is a rumour that they require funding, and that there are serious problems in the broker-dealer network .  The collective voices in the financial media carrying water for the billionaires who lost money in the game that they perpetuated, ‘Game, Stop! ’ ’ By Thomas Kuhn, CFA, “It’s only when the average man on the street participates in their game with their rules, that we hear a complaint, half whimper, half anger .  If it goes down too much before the announcement, a stern meeting at the camp Kinsella woodworking commune may be scheduled in order to varnish a few words . But remember old turkey partridges adman.  ITs a bull market .'"
            ]
          },
          "metadata": {
            "tags": []
          },
          "execution_count": 12
        }
      ]
    }
  ]
}