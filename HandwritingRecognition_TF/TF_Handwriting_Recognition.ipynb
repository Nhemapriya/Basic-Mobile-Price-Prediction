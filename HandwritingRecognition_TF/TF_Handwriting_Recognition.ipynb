{
  "nbformat": 4,
  "nbformat_minor": 0,
  "metadata": {
    "colab": {
      "name": "TF_Handwriting_Recognition.ipynb",
      "provenance": [],
      "collapsed_sections": []
    },
    "kernelspec": {
      "name": "python3",
      "display_name": "Python 3"
    }
  },
  "cells": [
    {
      "cell_type": "markdown",
      "metadata": {
        "id": "eXhfZXYNPI_o"
      },
      "source": [
        "**Import statements**"
      ]
    },
    {
      "cell_type": "code",
      "metadata": {
        "id": "XAkarZOoMyte"
      },
      "source": [
        "from numpy.random import seed\r\n",
        "seed(888) #random number\r\n",
        "import tensorflow as tf\r\n",
        "tf.random.set_seed(404)\r\n",
        "import numpy as np\r\n",
        "from PIL import Image\r\n",
        "# from google.colab import drive\r\n",
        "# drive.mount('/content/drive')"
      ],
      "execution_count": 63,
      "outputs": []
    },
    {
      "cell_type": "markdown",
      "metadata": {
        "id": "QU4KqHp3Rt0c"
      },
      "source": [
        "**Default values and file paths**"
      ]
    },
    {
      "cell_type": "code",
      "metadata": {
        "id": "t7bHWOjGPece"
      },
      "source": [
        "X_TEST_PATH = '/content/drive/MyDrive/MNIST/digit_xtest.csv'\r\n",
        "X_TRAIN_PATH = '/content/drive/MyDrive/MNIST/digit_xtrain.csv'\r\n",
        "Y_TRAIN_PATH = '/content/drive/MyDrive/MNIST/digit_ytrain.csv'\r\n",
        "Y_TEST_PATH = '/content/drive/MyDrive/MNIST/digit_ytest.csv'\r\n",
        "NR_CLASSES = 10\r\n",
        "VALIDATION_SIZE = 10000\r\n",
        "IMAGE_WIDTH = 28\r\n",
        "IMAGE_HEIGHT = 28\r\n",
        "CHANNELS = 1\r\n",
        "TOTAL_INPUTS = IMAGE_WIDTH*IMAGE_HEIGHT*CHANNELS"
      ],
      "execution_count": 64,
      "outputs": []
    },
    {
      "cell_type": "code",
      "metadata": {
        "id": "pvcI2YNfuCYH"
      },
      "source": [
        "import tensorflow.compat.v1 as tf\r\n",
        "tf.disable_v2_behavior()"
      ],
      "execution_count": 65,
      "outputs": []
    },
    {
      "cell_type": "markdown",
      "metadata": {
        "id": "8j2lyMY6SQVK"
      },
      "source": [
        "**Loading data**"
      ]
    },
    {
      "cell_type": "code",
      "metadata": {
        "colab": {
          "base_uri": "https://localhost:8080/"
        },
        "id": "-OIDopjFSIvi",
        "outputId": "61ae58d2-9682-45e8-fdf5-243f97664a95"
      },
      "source": [
        "%%time\r\n",
        "\r\n",
        "y_train_all = np.loadtxt(Y_TRAIN_PATH, delimiter=',', dtype=int)"
      ],
      "execution_count": 66,
      "outputs": [
        {
          "output_type": "stream",
          "text": [
            "CPU times: user 207 ms, sys: 862 µs, total: 208 ms\n",
            "Wall time: 216 ms\n"
          ],
          "name": "stdout"
        }
      ]
    },
    {
      "cell_type": "code",
      "metadata": {
        "id": "gaMFBYtQSoF6",
        "colab": {
          "base_uri": "https://localhost:8080/"
        },
        "outputId": "bdd19053-9205-40ab-86e4-4979a2cf5515"
      },
      "source": [
        "%%time\r\n",
        "y_test = np.loadtxt(Y_TEST_PATH, delimiter=',', dtype=int)"
      ],
      "execution_count": 67,
      "outputs": [
        {
          "output_type": "stream",
          "text": [
            "CPU times: user 37.1 ms, sys: 0 ns, total: 37.1 ms\n",
            "Wall time: 39.9 ms\n"
          ],
          "name": "stdout"
        }
      ]
    },
    {
      "cell_type": "code",
      "metadata": {
        "id": "whxmJUmDS_OL",
        "colab": {
          "base_uri": "https://localhost:8080/"
        },
        "outputId": "1001e2e9-14a5-4636-f7af-5c5b549039a2"
      },
      "source": [
        "%%time\r\n",
        "\r\n",
        "x_train_all = np.loadtxt(X_TRAIN_PATH, delimiter=',', dtype=int)"
      ],
      "execution_count": 68,
      "outputs": [
        {
          "output_type": "stream",
          "text": [
            "CPU times: user 39.3 s, sys: 1.02 s, total: 40.3 s\n",
            "Wall time: 40.3 s\n"
          ],
          "name": "stdout"
        }
      ]
    },
    {
      "cell_type": "code",
      "metadata": {
        "id": "bXL6Mk4XTIYZ",
        "colab": {
          "base_uri": "https://localhost:8080/"
        },
        "outputId": "4d0436ae-3e95-41b0-a95f-ccc44e11a809"
      },
      "source": [
        "%%time\r\n",
        "x_test = np.loadtxt(X_TEST_PATH, delimiter=',', dtype=int)"
      ],
      "execution_count": 69,
      "outputs": [
        {
          "output_type": "stream",
          "text": [
            "CPU times: user 6.62 s, sys: 163 ms, total: 6.78 s\n",
            "Wall time: 6.8 s\n"
          ],
          "name": "stdout"
        }
      ]
    },
    {
      "cell_type": "markdown",
      "metadata": {
        "id": "ApG671fwdng9"
      },
      "source": [
        "**Data Exploration**"
      ]
    },
    {
      "cell_type": "code",
      "metadata": {
        "id": "pFa3rSTlTVYB",
        "colab": {
          "base_uri": "https://localhost:8080/"
        },
        "outputId": "7145bd2e-7c15-41c0-b731-d15b1310597e"
      },
      "source": [
        "#all black and white hand written digits\r\n",
        "x_train_all.shape\r\n",
        "#784 = 28*28*1"
      ],
      "execution_count": 70,
      "outputs": [
        {
          "output_type": "execute_result",
          "data": {
            "text/plain": [
              "(60000, 784)"
            ]
          },
          "metadata": {
            "tags": []
          },
          "execution_count": 70
        }
      ]
    },
    {
      "cell_type": "code",
      "metadata": {
        "id": "mfKWKz1Bd1h9",
        "colab": {
          "base_uri": "https://localhost:8080/"
        },
        "outputId": "fb246cdb-d185-480f-b514-18ddb57ed02c"
      },
      "source": [
        "x_test.shape"
      ],
      "execution_count": 71,
      "outputs": [
        {
          "output_type": "execute_result",
          "data": {
            "text/plain": [
              "(10000, 784)"
            ]
          },
          "metadata": {
            "tags": []
          },
          "execution_count": 71
        }
      ]
    },
    {
      "cell_type": "code",
      "metadata": {
        "id": "B3LvJXqAeBUY",
        "colab": {
          "base_uri": "https://localhost:8080/"
        },
        "outputId": "77e88ed2-6a79-42f8-897e-f7d29c5637cd"
      },
      "source": [
        "y_train_all.shape"
      ],
      "execution_count": 72,
      "outputs": [
        {
          "output_type": "execute_result",
          "data": {
            "text/plain": [
              "(60000,)"
            ]
          },
          "metadata": {
            "tags": []
          },
          "execution_count": 72
        }
      ]
    },
    {
      "cell_type": "markdown",
      "metadata": {
        "id": "g6tV4zf4fEFM"
      },
      "source": [
        "**Data Pre-processing**"
      ]
    },
    {
      "cell_type": "code",
      "metadata": {
        "id": "UrxgbyRDfHWE"
      },
      "source": [
        "#re-scaling values\r\n",
        "x_train_all, x_test = x_train_all / 255.0 , x_test/255.0"
      ],
      "execution_count": 73,
      "outputs": []
    },
    {
      "cell_type": "code",
      "metadata": {
        "id": "EULhVRr5fdLI",
        "colab": {
          "base_uri": "https://localhost:8080/"
        },
        "outputId": "f8718908-e5ea-4463-8be8-87c459aa6f22"
      },
      "source": [
        "#doing the process of indexing - one hot encoding\r\n",
        "values = y_train_all[:5]\r\n",
        "np.eye(10)[values] #creates sparse matrix #2D array with 1 in diag"
      ],
      "execution_count": 74,
      "outputs": [
        {
          "output_type": "execute_result",
          "data": {
            "text/plain": [
              "array([[0., 0., 0., 0., 0., 1., 0., 0., 0., 0.],\n",
              "       [1., 0., 0., 0., 0., 0., 0., 0., 0., 0.],\n",
              "       [0., 0., 0., 0., 1., 0., 0., 0., 0., 0.],\n",
              "       [0., 1., 0., 0., 0., 0., 0., 0., 0., 0.],\n",
              "       [0., 0., 0., 0., 0., 0., 0., 0., 0., 1.]])"
            ]
          },
          "metadata": {
            "tags": []
          },
          "execution_count": 74
        }
      ]
    },
    {
      "cell_type": "markdown",
      "metadata": {
        "id": "4evvGOx0gRb0"
      },
      "source": [
        "**Convert values to one hot encoding**"
      ]
    },
    {
      "cell_type": "code",
      "metadata": {
        "id": "fA-uZDsxfvUs"
      },
      "source": [
        "y_train_all = np.eye(NR_CLASSES)[y_train_all]"
      ],
      "execution_count": 75,
      "outputs": []
    },
    {
      "cell_type": "code",
      "metadata": {
        "id": "kOOPj6BOgkRF",
        "colab": {
          "base_uri": "https://localhost:8080/"
        },
        "outputId": "6b508942-d778-4db8-f8f6-d34ba7fcd5b5"
      },
      "source": [
        "y_train_all.shape"
      ],
      "execution_count": 76,
      "outputs": [
        {
          "output_type": "execute_result",
          "data": {
            "text/plain": [
              "(60000, 10)"
            ]
          },
          "metadata": {
            "tags": []
          },
          "execution_count": 76
        }
      ]
    },
    {
      "cell_type": "code",
      "metadata": {
        "id": "vFID_x6sgyM-",
        "colab": {
          "base_uri": "https://localhost:8080/"
        },
        "outputId": "219f9b6b-16a7-48a5-b80f-f92a16a0c055"
      },
      "source": [
        "y_test = np.eye(NR_CLASSES)[y_test]\r\n",
        "y_test.shape"
      ],
      "execution_count": 77,
      "outputs": [
        {
          "output_type": "execute_result",
          "data": {
            "text/plain": [
              "(10000, 10)"
            ]
          },
          "metadata": {
            "tags": []
          },
          "execution_count": 77
        }
      ]
    },
    {
      "cell_type": "markdown",
      "metadata": {
        "id": "bQHrEGgog82b"
      },
      "source": [
        "**creating validation data from training data**"
      ]
    },
    {
      "cell_type": "code",
      "metadata": {
        "id": "yG7goKAKhA_9"
      },
      "source": [
        "x_val = x_train_all[:VALIDATION_SIZE]\r\n",
        "y_val = y_train_all[:VALIDATION_SIZE]\r\n"
      ],
      "execution_count": 78,
      "outputs": []
    },
    {
      "cell_type": "code",
      "metadata": {
        "id": "LLveMrohhTiM"
      },
      "source": [
        "x_train = x_train_all[VALIDATION_SIZE:]\r\n",
        "y_train = y_train_all[VALIDATION_SIZE:]"
      ],
      "execution_count": 79,
      "outputs": []
    },
    {
      "cell_type": "markdown",
      "metadata": {
        "id": "FDVC0s71jVg1"
      },
      "source": [
        "**Setting up tensorflow graph**"
      ]
    },
    {
      "cell_type": "code",
      "metadata": {
        "id": "Ign_7iNBjZxF"
      },
      "source": [
        "X = tf.placeholder(tf.float32, shape=[None, TOTAL_INPUTS])\r\n",
        "Y = tf.placeholder(tf.float32, shape=[None, NR_CLASSES])"
      ],
      "execution_count": 80,
      "outputs": []
    },
    {
      "cell_type": "markdown",
      "metadata": {
        "id": "0lNtId3JuLJE"
      },
      "source": [
        "**Neural Network Architecture**\r\n",
        "\r\n",
        "**Hyperparameters**"
      ]
    },
    {
      "cell_type": "code",
      "metadata": {
        "id": "OjDUQg1xuKft"
      },
      "source": [
        "nr_epochs = 50\r\n",
        "learning_rate = 1e-3 #0.001\r\n",
        "n_hidden1 = 512\r\n",
        "n_hidden2 = 64"
      ],
      "execution_count": 120,
      "outputs": []
    },
    {
      "cell_type": "code",
      "metadata": {
        "id": "RotFf0KWuGJ0"
      },
      "source": [
        "#initailize weights for layer 1\r\n",
        "initial_w1 = tf.truncated_normal(shape=[TOTAL_INPUTS, n_hidden1], stddev=0.1, seed=42)\r\n",
        "w1 = tf.Variable(initial_value = initial_w1)"
      ],
      "execution_count": 82,
      "outputs": []
    },
    {
      "cell_type": "code",
      "metadata": {
        "id": "y11UtK84wamm"
      },
      "source": [
        "#biases\r\n",
        "initial_b1 = tf.constant(value=0.0, shape=[n_hidden1])\r\n",
        "b1 = tf.Variable(initial_value=initial_b1)"
      ],
      "execution_count": 83,
      "outputs": []
    },
    {
      "cell_type": "code",
      "metadata": {
        "id": "IEUxRq0Ty4AU"
      },
      "source": [
        "#op => rawinput and weights + bias\r\n",
        "layer1_in = tf.matmul(X,w1) + b1\r\n"
      ],
      "execution_count": 84,
      "outputs": []
    },
    {
      "cell_type": "code",
      "metadata": {
        "id": "R9dZh0dgzX9R"
      },
      "source": [
        "#defining output layer\r\n",
        "layer1_out = tf.nn.relu(layer1_in)"
      ],
      "execution_count": 85,
      "outputs": []
    },
    {
      "cell_type": "code",
      "metadata": {
        "id": "Mnja5XkCzfAy"
      },
      "source": [
        "#initailize weights for layer2\r\n",
        "initial_w2 = tf.truncated_normal(shape=[n_hidden1, n_hidden2], stddev=0.1, seed=42)\r\n",
        "w2 = tf.Variable(initial_value = initial_w2)\r\n",
        "\r\n",
        "#biases\r\n",
        "initial_b2 = tf.constant(value=0.0, shape=[n_hidden2])\r\n",
        "b2 = tf.Variable(initial_value=initial_b2)\r\n",
        "\r\n",
        "#op => rawinput and weights + bias\r\n",
        "layer2_in = tf.matmul(layer1_out,w2) + b2\r\n",
        "\r\n",
        "#defining output layer\r\n",
        "layer2_out = tf.nn.softmax(layer2_in)\r\n",
        "\r\n"
      ],
      "execution_count": 86,
      "outputs": []
    },
    {
      "cell_type": "code",
      "metadata": {
        "id": "0jdZlXMo0NOB"
      },
      "source": [
        "#defining output layer\r\n",
        "#initailize weights for layer2\r\n",
        "initial_w3 = tf.truncated_normal(shape=[n_hidden2, NR_CLASSES], stddev=0.1, seed=42)\r\n",
        "w3 = tf.Variable(initial_value = initial_w3)\r\n",
        "\r\n",
        "#biases\r\n",
        "initial_b3 = tf.constant(value=0.0, shape=[NR_CLASSES])\r\n",
        "b3 = tf.Variable(initial_value=initial_b3)\r\n",
        "\r\n",
        "#op => rawinput and weights + bias\r\n",
        "layer3_in = tf.matmul(layer2_out,w3) + b3\r\n",
        "\r\n",
        "#defining output layer\r\n",
        "output = tf.nn.softmax(layer3_in)\r\n"
      ],
      "execution_count": 87,
      "outputs": []
    },
    {
      "cell_type": "markdown",
      "metadata": {
        "id": "7cUmg3rd3u-O"
      },
      "source": [
        "**Loss, optimisation, defining metrics**"
      ]
    },
    {
      "cell_type": "code",
      "metadata": {
        "id": "-jCVt2t60wWx"
      },
      "source": [
        "loss = tf.reduce_mean(tf.nn.softmax_cross_entropy_with_logits_v2(labels=Y, logits=output))"
      ],
      "execution_count": 88,
      "outputs": []
    },
    {
      "cell_type": "code",
      "metadata": {
        "id": "nAHy7SBk4TFn"
      },
      "source": [
        "optimizer = tf.train.AdamOptimizer(learning_rate)\r\n",
        "train_step = optimizer.minimize(loss)"
      ],
      "execution_count": 89,
      "outputs": []
    },
    {
      "cell_type": "markdown",
      "metadata": {
        "id": "VhVkZg4y9g_x"
      },
      "source": [
        "**Accuracy metrics**"
      ]
    },
    {
      "cell_type": "code",
      "metadata": {
        "id": "DN9TZJJE9LKJ"
      },
      "source": [
        "correct_prediction = tf.equal(tf.argmax(output, axis=1), tf.argmax(Y,axis=1))\r\n",
        "accuracy = tf.reduce_mean(tf.cast(correct_prediction, tf.float32))\r\n",
        "#argmax => index with maximum value"
      ],
      "execution_count": 90,
      "outputs": []
    },
    {
      "cell_type": "markdown",
      "metadata": {
        "id": "Rfa0wnzcGRpc"
      },
      "source": [
        "**Initiating sessions**"
      ]
    },
    {
      "cell_type": "code",
      "metadata": {
        "id": "OwT17XPe-Spe"
      },
      "source": [
        "sess = tf.Session()"
      ],
      "execution_count": 121,
      "outputs": []
    },
    {
      "cell_type": "code",
      "metadata": {
        "id": "aFIjCqxfGZc7"
      },
      "source": [
        "init = tf.global_variables_initializer()\r\n",
        "sess.run(init)"
      ],
      "execution_count": 122,
      "outputs": []
    },
    {
      "cell_type": "code",
      "metadata": {
        "colab": {
          "base_uri": "https://localhost:8080/"
        },
        "id": "898cy7PCGi4V",
        "outputId": "af45b33c-a8a4-48f3-8b19-9592b6b76bee"
      },
      "source": [
        "b3.eval(sess)"
      ],
      "execution_count": 123,
      "outputs": [
        {
          "output_type": "execute_result",
          "data": {
            "text/plain": [
              "array([0., 0., 0., 0., 0., 0., 0., 0., 0., 0.], dtype=float32)"
            ]
          },
          "metadata": {
            "tags": []
          },
          "execution_count": 123
        }
      ]
    },
    {
      "cell_type": "markdown",
      "metadata": {
        "id": "6ASvUpuSG31F"
      },
      "source": [
        "**Data batches**"
      ]
    },
    {
      "cell_type": "code",
      "metadata": {
        "id": "vxbbQiTQGo8q"
      },
      "source": [
        "size_of_batch = 1000\r\n",
        "num_examples = y_train.shape[0]\r\n",
        "nr_iterations = int(num_examples/size_of_batch)\r\n",
        "\r\n",
        "index_in_epoch =0"
      ],
      "execution_count": 124,
      "outputs": []
    },
    {
      "cell_type": "code",
      "metadata": {
        "id": "lUjAZpx-HHX6"
      },
      "source": [
        "def next_batch(batch_size, data, labels): #1000 per batch (0-999) => 1000 to 2000\r\n",
        "  global num_examples\r\n",
        "  global index_in_epoch\r\n",
        "\r\n",
        "  start = index_in_epoch\r\n",
        "  index_in_epoch+=batch_size\r\n",
        "\r\n",
        "  if index_in_epoch > num_examples:\r\n",
        "    start=0\r\n",
        "    index_in_epoch=batch_size\r\n",
        "\r\n",
        "  end= index_in_epoch\r\n",
        "\r\n",
        "  return data[start:end], labels[start:end]"
      ],
      "execution_count": 125,
      "outputs": []
    },
    {
      "cell_type": "markdown",
      "metadata": {
        "id": "zuopF_dtwFt3"
      },
      "source": [
        "**Training data**"
      ]
    },
    {
      "cell_type": "code",
      "metadata": {
        "colab": {
          "base_uri": "https://localhost:8080/"
        },
        "id": "eRQgmS5bv1PT",
        "outputId": "00062edd-7e2b-4b47-a431-d1b9fc260df5"
      },
      "source": [
        "for epoch in range(nr_epochs):\r\n",
        "  for i in range(nr_iterations):\r\n",
        "    batch_x, batch_y = next_batch(batch_size=size_of_batch, data=x_train, labels=y_train)\r\n",
        "    # feed dictionary\r\n",
        "    feed_dictionary = {X:batch_x, Y:batch_y}\r\n",
        "    #run the calc\r\n",
        "    sess.run(train_step, feed_dict= feed_dictionary)\r\n",
        "    batch_accuracy = sess.run(fetches=[accuracy], feed_dict = feed_dictionary)\r\n",
        "  #print(f'Epoch {epoch} \\t Training accuracy = {batch_accuracy}')\r\n",
        "print('Training done')\r\n",
        "\r\n"
      ],
      "execution_count": 126,
      "outputs": [
        {
          "output_type": "stream",
          "text": [
            "Training done\n"
          ],
          "name": "stdout"
        }
      ]
    },
    {
      "cell_type": "markdown",
      "metadata": {
        "id": "ecF0N2FVznjW"
      },
      "source": [
        "**Making predictions**"
      ]
    },
    {
      "cell_type": "code",
      "metadata": {
        "colab": {
          "base_uri": "https://localhost:8080/",
          "height": 45
        },
        "id": "Q7iiZYGpzqu9",
        "outputId": "e513480d-0908-404d-f97e-95dab69dfb33"
      },
      "source": [
        "img = Image.open(\"/content/drive/MyDrive/MNIST/test_img.png\")\r\n",
        "img"
      ],
      "execution_count": 127,
      "outputs": [
        {
          "output_type": "execute_result",
          "data": {
            "image/png": "[encoded data removed]",
            "text/plain": [
              "<PIL.PngImagePlugin.PngImageFile image mode=RGBA size=28x28 at 0x7F1A83EADFD0>"
            ]
          },
          "metadata": {
            "tags": []
          },
          "execution_count": 127
        }
      ]
    },
    {
      "cell_type": "code",
      "metadata": {
        "id": "T5fMSFIr0JpR"
      },
      "source": [
        "##convert and process the image to grayscale\r\n",
        "bw = img.convert('L')\r\n",
        "img_array = np.invert(bw)"
      ],
      "execution_count": 128,
      "outputs": []
    },
    {
      "cell_type": "code",
      "metadata": {
        "colab": {
          "base_uri": "https://localhost:8080/"
        },
        "id": "o4xG160W0aDT",
        "outputId": "5ea750ef-ecfc-4cf9-ff6e-caea55265fbf"
      },
      "source": [
        "img_array.shape"
      ],
      "execution_count": 129,
      "outputs": [
        {
          "output_type": "execute_result",
          "data": {
            "text/plain": [
              "(28, 28)"
            ]
          },
          "metadata": {
            "tags": []
          },
          "execution_count": 129
        }
      ]
    },
    {
      "cell_type": "code",
      "metadata": {
        "id": "ASAP3FYW0dqr"
      },
      "source": [
        "test_img = img_array.ravel() # returns a flattened array"
      ],
      "execution_count": 130,
      "outputs": []
    },
    {
      "cell_type": "code",
      "metadata": {
        "colab": {
          "base_uri": "https://localhost:8080/"
        },
        "id": "t2aGowO10mRp",
        "outputId": "66c96398-b083-4a4f-d98f-377444793020"
      },
      "source": [
        "test_img.shape"
      ],
      "execution_count": 131,
      "outputs": [
        {
          "output_type": "execute_result",
          "data": {
            "text/plain": [
              "(784,)"
            ]
          },
          "metadata": {
            "tags": []
          },
          "execution_count": 131
        }
      ]
    },
    {
      "cell_type": "code",
      "metadata": {
        "id": "9dSjm6D90o5m"
      },
      "source": [
        "prediction = sess.run(fetches=tf.argmax(output, axis=1), feed_dict={X:[test_img]})"
      ],
      "execution_count": 132,
      "outputs": []
    },
    {
      "cell_type": "code",
      "metadata": {
        "colab": {
          "base_uri": "https://localhost:8080/"
        },
        "id": "tSDNCrgy1DfU",
        "outputId": "afedcab4-bdb0-4367-f4b9-c9803e9c1683"
      },
      "source": [
        "print(f'predicted value is {prediction}')"
      ],
      "execution_count": 133,
      "outputs": [
        {
          "output_type": "stream",
          "text": [
            "predicted value is [2]\n"
          ],
          "name": "stdout"
        }
      ]
    },
    {
      "cell_type": "markdown",
      "metadata": {
        "id": "xhTrHTT32I0K"
      },
      "source": [
        "**Testing and Evaluation**"
      ]
    },
    {
      "cell_type": "code",
      "metadata": {
        "colab": {
          "base_uri": "https://localhost:8080/"
        },
        "id": "InDqAZCi2MKR",
        "outputId": "d8ed2d18-f598-47ba-a256-5a9f0c829757"
      },
      "source": [
        "#accuracy on test data\r\n",
        "test_accuracy = sess.run(fetches=accuracy, feed_dict={X:x_test, Y:y_test})\r\n",
        "print(f'accuracy on test data {test_accuracy:0.2%}')"
      ],
      "execution_count": 134,
      "outputs": [
        {
          "output_type": "stream",
          "text": [
            "accuracy on test data 78.47%\n"
          ],
          "name": "stdout"
        }
      ]
    },
    {
      "cell_type": "code",
      "metadata": {
        "id": "iiysdHeUyXcT"
      },
      "source": [
        "sess.close()"
      ],
      "execution_count": 135,
      "outputs": []
    }
  ]
}