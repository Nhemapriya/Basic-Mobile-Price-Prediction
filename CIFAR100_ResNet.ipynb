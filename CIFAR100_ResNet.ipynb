{
  "nbformat": 4,
  "nbformat_minor": 0,
  "metadata": {
    "colab": {
      "name": "CIFAR100_ResNet.ipynb",
      "provenance": [],
      "collapsed_sections": []
    },
    "kernelspec": {
      "name": "python3",
      "display_name": "Python 3"
    },
    "accelerator": "GPU"
  },
  "cells": [
    {
      "cell_type": "code",
      "metadata": {
        "id": "UqjaXcKvjy_c",
        "colab_type": "code",
        "colab": {}
      },
      "source": [
        "#Transfer-Learning on CIFAR 100 dataset using resnet50"
      ],
      "execution_count": null,
      "outputs": []
    },
    {
      "cell_type": "code",
      "metadata": {
        "id": "Zk88gXgI1J9s",
        "colab_type": "code",
        "colab": {}
      },
      "source": [
        "#import statements\n",
        "from tensorflow.keras.applications.resnet50 import ResNet50, preprocess_input\n",
        "import tensorflow.keras as keras\n",
        "from tensorflow.keras.models import Model, Sequential\n",
        "from tensorflow.keras.layers import Input, UpSampling2D, Flatten, BatchNormalization, Dense, Dropout, GlobalAveragePooling2D\n",
        "from tensorflow.keras import optimizers\n",
        "from keras.datasets import cifar100\n",
        "import tensorflow as tf\n",
        "from keras.utils import np_utils\n",
        "import numpy as np\n",
        "import matplotlib.pyplot as plt\n",
        "import time\n",
        "from skimage.transform import resize\n",
        "from keras.applications.resnet50 import preprocess_input, decode_predictions\n",
        "from keras.preprocessing.image import ImageDataGenerator\n",
        "import numpy as np"
      ],
      "execution_count": 3,
      "outputs": []
    },
    {
      "cell_type": "code",
      "metadata": {
        "id": "XgX-JXFL1N-t",
        "colab_type": "code",
        "colab": {}
      },
      "source": [
        "\n",
        "#preprocessing \n",
        "\n",
        "def preprocessor(p=0.5, s_l=0.02, s_h=0.4, r_1=0.3, r_2=1/0.3, v_l=0, v_h=255, pixel_level=False):\n",
        "    def prep(input_img):\n",
        "        img_h, img_w, img_c = input_img.shape\n",
        "        p_1 = np.random.rand()\n",
        "\n",
        "        if p_1 > p:\n",
        "            return input_img\n",
        "\n",
        "        while True:\n",
        "            s = np.random.uniform(s_l, s_h) * img_h * img_w\n",
        "            r = np.random.uniform(r_1, r_2)\n",
        "            w = int(np.sqrt(s / r))\n",
        "            h = int(np.sqrt(s * r))\n",
        "            left = np.random.randint(0, img_w)\n",
        "            top = np.random.randint(0, img_h)\n",
        "\n",
        "            if left + w <= img_w and top + h <= img_h:\n",
        "                break\n",
        "\n",
        "        if pixel_level:\n",
        "            c = np.random.uniform(v_l, v_h, (h, w, img_c))\n",
        "        else:\n",
        "            c = np.random.uniform(v_l, v_h)\n",
        "\n",
        "        input_img[top:top + h, left:left + w, :] = c\n",
        "\n",
        "        return input_img\n",
        "\n",
        "    return prep"
      ],
      "execution_count": 1,
      "outputs": []
    },
    {
      "cell_type": "code",
      "metadata": {
        "id": "Y80LJv051TEE",
        "colab_type": "code",
        "colab": {
          "base_uri": "https://localhost:8080/",
          "height": 51
        },
        "outputId": "08194e89-054a-4ca7-8361-042e60e05ff9"
      },
      "source": [
        "num_classes = 100\n",
        "nb_epochs = 10\n",
        "\n",
        "(x_train, y_train), (x_test, y_test) = cifar100.load_data()\n",
        "\n",
        "#Pre-process the data\n",
        "x_train = preprocess_input(x_train)\n",
        "x_test = preprocess_input(x_test)\n",
        "\n",
        "datagen = ImageDataGenerator(preprocessing_function=preprocessor(v_l=0, v_h=1, pixel_level=True))\n",
        "datagen.fit(x_train)"
      ],
      "execution_count": 4,
      "outputs": [
        {
          "output_type": "stream",
          "text": [
            "Downloading data from https://www.cs.toronto.edu/~kriz/cifar-100-python.tar.gz\n",
            "169009152/169001437 [==============================] - 2s 0us/step\n"
          ],
          "name": "stdout"
        }
      ]
    },
    {
      "cell_type": "code",
      "metadata": {
        "id": "MyeCW77H1XHM",
        "colab_type": "code",
        "colab": {}
      },
      "source": [
        "y_train = np_utils.to_categorical(y_train, num_classes)\n",
        "y_test = np_utils.to_categorical(y_test, num_classes)"
      ],
      "execution_count": null,
      "outputs": []
    },
    {
      "cell_type": "code",
      "metadata": {
        "id": "6Js-yNbA1xi8",
        "colab_type": "code",
        "colab": {
          "base_uri": "https://localhost:8080/",
          "height": 51
        },
        "outputId": "fa645e94-701a-456a-d978-d80146e3ffb8"
      },
      "source": [
        "#Load a pretrained ResNet50 model without last FC layer (include_top=False) for Imagenet.\n",
        "resnet_model = ResNet50(weights='imagenet', include_top=False, input_shape=(224, 224, 3))\n",
        "\n",
        "for layer in resnet_model.layers:\n",
        "    if isinstance(layer, BatchNormalization):\n",
        "        layer.trainable = True\n",
        "    else:\n",
        "        layer.trainable = False\n",
        "\n",
        "model = Sequential()\n",
        "model.add(UpSampling2D())\n",
        "model.add(UpSampling2D())\n",
        "model.add(UpSampling2D())\n",
        "model.add(resnet_model)\n",
        "model.add(GlobalAveragePooling2D())\n",
        "model.add(Dense(256, activation='relu'))\n",
        "model.add(Dropout(.25))\n",
        "model.add(BatchNormalization())\n",
        "model.add(Dense(num_classes, activation='softmax'))"
      ],
      "execution_count": null,
      "outputs": [
        {
          "output_type": "stream",
          "text": [
            "Downloading data from https://storage.googleapis.com/tensorflow/keras-applications/resnet/resnet50_weights_tf_dim_ordering_tf_kernels_notop.h5\n",
            "94773248/94765736 [==============================] - 1s 0us/step\n"
          ],
          "name": "stdout"
        }
      ]
    },
    {
      "cell_type": "code",
      "metadata": {
        "id": "QgQdAijF13Rd",
        "colab_type": "code",
        "colab": {
          "base_uri": "https://localhost:8080/",
          "height": 989
        },
        "outputId": "a2171377-b572-4ea5-bb52-738866b90109"
      },
      "source": [
        "#Trained for 10 epochs with BatchSize of 64 \n",
        "model.compile(loss='categorical_crossentropy',optimizer='adam',metrics=['accuracy'])\n",
        "\n",
        "t=time.time()\n",
        "historytemp = model.fit_generator(datagen.flow(x_train, y_train,\n",
        "                                  batch_size=64),\n",
        "                                  steps_per_epoch=x_train.shape[0] // 64,\n",
        "                                  epochs=25,\n",
        "                                  validation_data=(x_test, y_test))\n",
        "print('Training time: %s' % (t - time.time()))"
      ],
      "execution_count": null,
      "outputs": [
        {
          "output_type": "stream",
          "text": [
            "WARNING:tensorflow:From <ipython-input-7-c80f5ea5ee44>:9: Model.fit_generator (from tensorflow.python.keras.engine.training) is deprecated and will be removed in a future version.\n",
            "Instructions for updating:\n",
            "Please use Model.fit, which supports generators.\n",
            "WARNING:tensorflow:Model was constructed with shape (None, 224, 224, 3) for input Tensor(\"input_1:0\", shape=(None, 224, 224, 3), dtype=float32), but it was called on an input with incompatible shape (64, 256, 256, 3).\n",
            "Epoch 1/25\n",
            "781/781 [==============================] - ETA: 0s - loss: 2.0154 - accuracy: 0.4812WARNING:tensorflow:Model was constructed with shape (None, 224, 224, 3) for input Tensor(\"input_1:0\", shape=(None, 224, 224, 3), dtype=float32), but it was called on an input with incompatible shape (None, 256, 256, 3).\n",
            "781/781 [==============================] - 261s 334ms/step - loss: 2.0154 - accuracy: 0.4812 - val_loss: 1.0100 - val_accuracy: 0.7011\n",
            "Epoch 2/25\n",
            "781/781 [==============================] - 259s 332ms/step - loss: 1.1678 - accuracy: 0.6640 - val_loss: 0.8551 - val_accuracy: 0.7427\n",
            "Epoch 3/25\n",
            "781/781 [==============================] - 259s 332ms/step - loss: 0.9783 - accuracy: 0.7126 - val_loss: 0.7779 - val_accuracy: 0.7649\n",
            "Epoch 4/25\n",
            "781/781 [==============================] - 259s 332ms/step - loss: 0.8746 - accuracy: 0.7380 - val_loss: 0.7438 - val_accuracy: 0.7723\n",
            "Epoch 5/25\n",
            "781/781 [==============================] - 260s 332ms/step - loss: 0.8074 - accuracy: 0.7588 - val_loss: 0.7248 - val_accuracy: 0.7830\n",
            "Epoch 6/25\n",
            "781/781 [==============================] - 260s 333ms/step - loss: 0.7461 - accuracy: 0.7731 - val_loss: 0.7366 - val_accuracy: 0.7804\n",
            "Epoch 7/25\n",
            "781/781 [==============================] - 260s 332ms/step - loss: 0.6993 - accuracy: 0.7866 - val_loss: 0.7207 - val_accuracy: 0.7857\n",
            "Epoch 8/25\n",
            "781/781 [==============================] - 259s 332ms/step - loss: 0.6590 - accuracy: 0.7988 - val_loss: 0.6949 - val_accuracy: 0.7927\n",
            "Epoch 9/25\n",
            "781/781 [==============================] - 259s 332ms/step - loss: 0.6216 - accuracy: 0.8085 - val_loss: 0.7090 - val_accuracy: 0.7925\n",
            "Epoch 10/25\n",
            "781/781 [==============================] - 259s 331ms/step - loss: 0.5872 - accuracy: 0.8176 - val_loss: 0.6934 - val_accuracy: 0.7998\n",
            "Epoch 11/25\n",
            "781/781 [==============================] - 259s 332ms/step - loss: 0.5640 - accuracy: 0.8240 - val_loss: 0.7078 - val_accuracy: 0.7980\n",
            "Epoch 12/25\n",
            "781/781 [==============================] - 259s 332ms/step - loss: 0.5343 - accuracy: 0.8341 - val_loss: 0.7125 - val_accuracy: 0.7979\n",
            "Epoch 13/25\n",
            "781/781 [==============================] - 259s 332ms/step - loss: 0.5073 - accuracy: 0.8417 - val_loss: 0.7256 - val_accuracy: 0.7954\n",
            "Epoch 14/25\n",
            "781/781 [==============================] - 259s 332ms/step - loss: 0.4847 - accuracy: 0.8477 - val_loss: 0.7383 - val_accuracy: 0.7927\n",
            "Epoch 15/25\n",
            "781/781 [==============================] - 260s 332ms/step - loss: 0.4723 - accuracy: 0.8523 - val_loss: 0.7241 - val_accuracy: 0.7982\n",
            "Epoch 16/25\n",
            "781/781 [==============================] - 260s 333ms/step - loss: 0.4549 - accuracy: 0.8590 - val_loss: 0.7472 - val_accuracy: 0.7944\n",
            "Epoch 17/25\n",
            "781/781 [==============================] - 260s 333ms/step - loss: 0.4412 - accuracy: 0.8594 - val_loss: 0.7525 - val_accuracy: 0.7956\n",
            "Epoch 18/25\n",
            "781/781 [==============================] - 260s 333ms/step - loss: 0.4228 - accuracy: 0.8662 - val_loss: 0.7559 - val_accuracy: 0.7993\n",
            "Epoch 19/25\n",
            "781/781 [==============================] - 260s 333ms/step - loss: 0.4221 - accuracy: 0.8681 - val_loss: 0.7479 - val_accuracy: 0.8013\n",
            "Epoch 20/25\n",
            "781/781 [==============================] - 260s 333ms/step - loss: 0.3912 - accuracy: 0.8774 - val_loss: 0.7522 - val_accuracy: 0.8001\n",
            "Epoch 21/25\n",
            "781/781 [==============================] - 260s 333ms/step - loss: 0.3845 - accuracy: 0.8791 - val_loss: 0.7848 - val_accuracy: 0.8002\n",
            "Epoch 22/25\n",
            "781/781 [==============================] - 259s 332ms/step - loss: 0.3785 - accuracy: 0.8800 - val_loss: 0.7759 - val_accuracy: 0.8014\n",
            "Epoch 23/25\n",
            "781/781 [==============================] - 260s 333ms/step - loss: 0.3726 - accuracy: 0.8828 - val_loss: 0.7594 - val_accuracy: 0.8077\n",
            "Epoch 24/25\n",
            "781/781 [==============================] - 260s 333ms/step - loss: 0.3608 - accuracy: 0.8856 - val_loss: 0.7915 - val_accuracy: 0.7988\n",
            "Epoch 25/25\n",
            "781/781 [==============================] - 260s 333ms/step - loss: 0.3518 - accuracy: 0.8892 - val_loss: 0.7773 - val_accuracy: 0.8044\n",
            "Training time: -6507.088286161423\n"
          ],
          "name": "stdout"
        }
      ]
    },
    {
      "cell_type": "code",
      "metadata": {
        "id": "WhGql_mb18CL",
        "colab_type": "code",
        "colab": {
          "base_uri": "https://localhost:8080/",
          "height": 459
        },
        "outputId": "a47d3cfe-230a-4c80-bc50-6b2844fb8b24"
      },
      "source": [
        "\n",
        "model.summary()"
      ],
      "execution_count": null,
      "outputs": [
        {
          "output_type": "stream",
          "text": [
            "Model: \"sequential\"\n",
            "_________________________________________________________________\n",
            "Layer (type)                 Output Shape              Param #   \n",
            "=================================================================\n",
            "up_sampling2d (UpSampling2D) (None, None, None, None)  0         \n",
            "_________________________________________________________________\n",
            "up_sampling2d_1 (UpSampling2 (None, None, None, None)  0         \n",
            "_________________________________________________________________\n",
            "up_sampling2d_2 (UpSampling2 (None, 224, 224, 3)       0         \n",
            "_________________________________________________________________\n",
            "resnet50 (Functional)        (None, 7, 7, 2048)        23587712  \n",
            "_________________________________________________________________\n",
            "global_average_pooling2d (Gl (None, 2048)              0         \n",
            "_________________________________________________________________\n",
            "dense (Dense)                (None, 256)               524544    \n",
            "_________________________________________________________________\n",
            "dropout (Dropout)            (None, 256)               0         \n",
            "_________________________________________________________________\n",
            "batch_normalization (BatchNo (None, 256)               1024      \n",
            "_________________________________________________________________\n",
            "dense_1 (Dense)              (None, 100)               25700     \n",
            "=================================================================\n",
            "Total params: 24,138,980\n",
            "Trainable params: 603,876\n",
            "Non-trainable params: 23,535,104\n",
            "_________________________________________________________________\n"
          ],
          "name": "stdout"
        }
      ]
    }
  ]
}