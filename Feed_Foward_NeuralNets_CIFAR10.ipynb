{
  "nbformat": 4,
  "nbformat_minor": 0,
  "metadata": {
    "colab": {
      "name": "Feed_Foward_NeuralNets_CIFAR10.ipynb",
      "provenance": [],
      "collapsed_sections": []
    },
    "kernelspec": {
      "name": "python3",
      "display_name": "Python 3"
    }
  },
  "cells": [
    {
      "cell_type": "markdown",
      "metadata": {
        "id": "txALS7qNWmG2"
      },
      "source": [
        "### 10 Neural nets - keras CIFAR 10 classification "
      ]
    },
    {
      "cell_type": "code",
      "metadata": {
        "id": "TJUh3RAvW3eA"
      },
      "source": [
        "pip install tensorflow"
      ],
      "execution_count": 72,
      "outputs": []
    },
    {
      "cell_type": "code",
      "metadata": {
        "colab": {
          "base_uri": "https://localhost:8080/"
        },
        "id": "QDCW-eul1Nqv",
        "outputId": "45cfe9a6-3ee1-40e2-ae6d-7fc5f844a42d"
      },
      "source": [
        "!pip install tensorboardcolab"
      ],
      "execution_count": 2,
      "outputs": [
        {
          "output_type": "stream",
          "text": [
            "Requirement already satisfied: tensorboardcolab in /usr/local/lib/python3.6/dist-packages (0.0.22)\n"
          ],
          "name": "stdout"
        }
      ]
    },
    {
      "cell_type": "markdown",
      "metadata": {
        "id": "s4IqYLmlj6yp"
      },
      "source": [
        "**Import statements**"
      ]
    },
    {
      "cell_type": "code",
      "metadata": {
        "id": "s4f0WlrZkEaM"
      },
      "source": [
        "from numpy.random import seed\n",
        "seed(888) #random number\n",
        "import tensorflow as tf\n",
        "tf.random.set_seed(404)\n",
        "import os\n",
        "import numpy as np\n",
        "from tensorflow import keras\n",
        "from keras.datasets import cifar10\n",
        "## for visualizing data\n",
        "from IPython.display import display\n",
        "from keras.preprocessing.image import array_to_img\n",
        "import matplotlib.pyplot as plt\n",
        "%matplotlib inline"
      ],
      "execution_count": 3,
      "outputs": []
    },
    {
      "cell_type": "code",
      "metadata": {
        "id": "0Dda6m6ns5v6"
      },
      "source": [
        "#certain constant values which are hard-coded\n",
        "LABEL_NAMES = ['Plane', 'Car', 'Bird', 'Cat', 'Deer', 'Dog', 'Frog', 'Horse', 'Ship', 'Truck']\n",
        "IMAGE_WIDTH = 32\n",
        "IMAGE_HEIGHT = 32\n",
        "IMAGE_PIXELS = IMAGE_WIDTH * IMAGE_HEIGHT\n",
        "COLOR_CHANNELS = 3\n",
        "NR_CLASSES = 10\n",
        "TOTAL_INPUTS = IMAGE_PIXELS * COLOR_CHANNELS\n",
        "VALIDATION_SIZE = 10000\n",
        "SMALL_TRAIN_SIZE = 1000"
      ],
      "execution_count": 55,
      "outputs": []
    },
    {
      "cell_type": "markdown",
      "metadata": {
        "id": "2frvPzFlptL0"
      },
      "source": [
        "**Import the dataset**"
      ]
    },
    {
      "cell_type": "code",
      "metadata": {
        "colab": {
          "base_uri": "https://localhost:8080/"
        },
        "id": "lXzfmaYapJnO",
        "outputId": "bd233451-a37a-4e7b-af75-f51cd98a0e17"
      },
      "source": [
        "type(cifar10)"
      ],
      "execution_count": 5,
      "outputs": [
        {
          "output_type": "execute_result",
          "data": {
            "text/plain": [
              "module"
            ]
          },
          "metadata": {
            "tags": []
          },
          "execution_count": 5
        }
      ]
    },
    {
      "cell_type": "code",
      "metadata": {
        "id": "TQIewJ0OrWt7",
        "colab": {
          "base_uri": "https://localhost:8080/"
        },
        "outputId": "2ba5672f-9ada-4953-e4a1-dddaed9398dd"
      },
      "source": [
        "#retrieves the  test and train dataset\n",
        "(x_train_all, y_train_all) , (x_test, y_test) = cifar10.load_data()"
      ],
      "execution_count": 6,
      "outputs": [
        {
          "output_type": "stream",
          "text": [
            "Downloading data from https://www.cs.toronto.edu/~kriz/cifar-10-python.tar.gz\n",
            "170500096/170498071 [==============================] - 4s 0us/step\n"
          ],
          "name": "stdout"
        }
      ]
    },
    {
      "cell_type": "markdown",
      "metadata": {
        "id": "WF5QODoGruBc"
      },
      "source": [
        "**Explore data and analyse features**"
      ]
    },
    {
      "cell_type": "code",
      "metadata": {
        "colab": {
          "base_uri": "https://localhost:8080/",
          "height": 49
        },
        "id": "gZKJlXnaryy8",
        "outputId": "74935999-7b79-4408-af70-1f48985055f5"
      },
      "source": [
        "#visualize data in the form of array to image\n",
        "pic = array_to_img(x_train_all[0])\n",
        "display(pic)"
      ],
      "execution_count": 7,
      "outputs": [
        {
          "output_type": "display_data",
          "data": {
            "image/png": "[encoded data removed]",
            "text/plain": [
              "<PIL.Image.Image image mode=RGB size=32x32 at 0x7F50D3B7E550>"
            ]
          },
          "metadata": {
            "tags": []
          }
        }
      ]
    },
    {
      "cell_type": "code",
      "metadata": {
        "colab": {
          "base_uri": "https://localhost:8080/",
          "height": 35
        },
        "id": "ZUHanEGismKK",
        "outputId": "22c8dd27-91af-49d0-92a2-2c2a995bd923"
      },
      "source": [
        "LABEL_NAMES[y_train_all[7][0]]"
      ],
      "execution_count": 8,
      "outputs": [
        {
          "output_type": "execute_result",
          "data": {
            "application/vnd.google.colaboratory.intrinsic+json": {
              "type": "string"
            },
            "text/plain": [
              "'Horse'"
            ]
          },
          "metadata": {
            "tags": []
          },
          "execution_count": 8
        }
      ]
    },
    {
      "cell_type": "code",
      "metadata": {
        "colab": {
          "base_uri": "https://localhost:8080/",
          "height": 289
        },
        "id": "mdDqjJIpvKCg",
        "outputId": "65781444-8e69-4cc3-b87b-80c80b87444c"
      },
      "source": [
        "plt.imshow(x_train_all[5])\n",
        "plt.xlabel(LABEL_NAMES[y_train_all[5][0]], fontsize=20)\n",
        "plt.show()"
      ],
      "execution_count": 9,
      "outputs": [
        {
          "output_type": "display_data",
          "data": {
            "image/png": "[encoded data removed]",
            "text/plain": [
              "<Figure size 432x288 with 1 Axes>"
            ]
          },
          "metadata": {
            "tags": [],
            "needs_background": "light"
          }
        }
      ]
    },
    {
      "cell_type": "code",
      "metadata": {
        "colab": {
          "base_uri": "https://localhost:8080/",
          "height": 120
        },
        "id": "n3nNDSJxvjEb",
        "outputId": "0ac0d372-f339-40f0-ca04-d84ba2488903"
      },
      "source": [
        "#displaying multiple images in a row\n",
        "plt.figure(figsize=(15,5))\n",
        "for i in range(10):\n",
        "  plt.subplot(1, 10, i+1)\n",
        "  plt.yticks([])\n",
        "  plt.xticks([])\n",
        "  plt.xlabel(LABEL_NAMES[y_train_all[i][0]], fontsize=14)\n",
        "  plt.imshow(x_train_all[i])\n"
      ],
      "execution_count": 10,
      "outputs": [
        {
          "output_type": "display_data",
          "data": {
            "image/png": "[encoded data removed]",
            "text/plain": [
              "<Figure size 1080x360 with 10 Axes>"
            ]
          },
          "metadata": {
            "tags": []
          }
        }
      ]
    },
    {
      "cell_type": "code",
      "metadata": {
        "colab": {
          "base_uri": "https://localhost:8080/"
        },
        "id": "gbEfULH-xqz_",
        "outputId": "d4b9886a-22e5-4c3e-ed78-d14159335f5d"
      },
      "source": [
        "x_train_all[0].shape"
      ],
      "execution_count": 11,
      "outputs": [
        {
          "output_type": "execute_result",
          "data": {
            "text/plain": [
              "(32, 32, 3)"
            ]
          },
          "metadata": {
            "tags": []
          },
          "execution_count": 11
        }
      ]
    },
    {
      "cell_type": "code",
      "metadata": {
        "colab": {
          "base_uri": "https://localhost:8080/"
        },
        "id": "TUmjzkk8zycu",
        "outputId": "6879a0b2-2a8f-4254-e753-42b0f14c5c92"
      },
      "source": [
        "nr_images, x, y, c = x_train_all.shape\n",
        "print(f'images = {nr_images} \\t width={x} \\t height={y} \\t channels = {c}')"
      ],
      "execution_count": 12,
      "outputs": [
        {
          "output_type": "stream",
          "text": [
            "images = 50000 \t width=32 \t height=32 \t channels = 3\n"
          ],
          "name": "stdout"
        }
      ]
    },
    {
      "cell_type": "code",
      "metadata": {
        "colab": {
          "base_uri": "https://localhost:8080/"
        },
        "id": "ljZRb66f145z",
        "outputId": "f5bd7011-e701-4250-a71e-1e95bf1b05db"
      },
      "source": [
        "x_test.shape"
      ],
      "execution_count": 13,
      "outputs": [
        {
          "output_type": "execute_result",
          "data": {
            "text/plain": [
              "(10000, 32, 32, 3)"
            ]
          },
          "metadata": {
            "tags": []
          },
          "execution_count": 13
        }
      ]
    },
    {
      "cell_type": "markdown",
      "metadata": {
        "id": "OM1CoBiN37Zs"
      },
      "source": [
        "**pre-processing data**"
      ]
    },
    {
      "cell_type": "code",
      "metadata": {
        "colab": {
          "base_uri": "https://localhost:8080/"
        },
        "id": "7z3NPVY13_vX",
        "outputId": "fd9599df-4738-4bdc-9c09-e258b17c139b"
      },
      "source": [
        "type(x_train_all[0][0][0][0])"
      ],
      "execution_count": 14,
      "outputs": [
        {
          "output_type": "execute_result",
          "data": {
            "text/plain": [
              "numpy.uint8"
            ]
          },
          "metadata": {
            "tags": []
          },
          "execution_count": 14
        }
      ]
    },
    {
      "cell_type": "code",
      "metadata": {
        "id": "pKFZ3WKa88jn"
      },
      "source": [
        "#change unsigned int to float\n",
        "x_train_all, x_test = x_train_all/255.0 , x_test/255.0"
      ],
      "execution_count": 15,
      "outputs": []
    },
    {
      "cell_type": "code",
      "metadata": {
        "colab": {
          "base_uri": "https://localhost:8080/"
        },
        "id": "Xlc1h3IO9HwY",
        "outputId": "e9ab0b92-014a-4fbd-8fb2-05febc14f283"
      },
      "source": [
        "type(x_train_all[0][0][0][0])"
      ],
      "execution_count": 16,
      "outputs": [
        {
          "output_type": "execute_result",
          "data": {
            "text/plain": [
              "numpy.float64"
            ]
          },
          "metadata": {
            "tags": []
          },
          "execution_count": 16
        }
      ]
    },
    {
      "cell_type": "code",
      "metadata": {
        "colab": {
          "base_uri": "https://localhost:8080/"
        },
        "id": "syZV6Igo9N8k",
        "outputId": "72b6fbfc-37ef-44ba-c3e3-1a24d5210768"
      },
      "source": [
        "## flatten the dataset into a single vector\n",
        "x_train_all = x_train_all.reshape(x_train_all.shape[0], TOTAL_INPUTS)\n",
        "x_train_all.shape\n"
      ],
      "execution_count": 17,
      "outputs": [
        {
          "output_type": "execute_result",
          "data": {
            "text/plain": [
              "(50000, 3072)"
            ]
          },
          "metadata": {
            "tags": []
          },
          "execution_count": 17
        }
      ]
    },
    {
      "cell_type": "code",
      "metadata": {
        "colab": {
          "base_uri": "https://localhost:8080/"
        },
        "id": "TiUfVAl8bbh2",
        "outputId": "d575110d-216e-463f-ba76-c279ff9d287e"
      },
      "source": [
        "x_test = x_test.reshape(len(x_test), TOTAL_INPUTS)\n",
        "print(f'shape of x_test {x_test.shape}')"
      ],
      "execution_count": 18,
      "outputs": [
        {
          "output_type": "stream",
          "text": [
            "shape of x_test (10000, 3072)\n"
          ],
          "name": "stdout"
        }
      ]
    },
    {
      "cell_type": "markdown",
      "metadata": {
        "id": "19bQUGaVcBkz"
      },
      "source": [
        "**create a validation dataset (for tuning the model)**\n"
      ]
    },
    {
      "cell_type": "code",
      "metadata": {
        "colab": {
          "base_uri": "https://localhost:8080/"
        },
        "id": "6lO8FuAJcPFp",
        "outputId": "7391c3ee-a0ee-4261-993d-1dd27538a8c2"
      },
      "source": [
        "#from training data (ie) 50,000 => take 10,000 for validation \n",
        "x_val = x_train_all[:VALIDATION_SIZE]\n",
        "y_val = y_train_all[:VALIDATION_SIZE]\n",
        "x_val.shape"
      ],
      "execution_count": 19,
      "outputs": [
        {
          "output_type": "execute_result",
          "data": {
            "text/plain": [
              "(10000, 3072)"
            ]
          },
          "metadata": {
            "tags": []
          },
          "execution_count": 19
        }
      ]
    },
    {
      "cell_type": "code",
      "metadata": {
        "id": "F6nxtGpSdC5t"
      },
      "source": [
        "x_train = x_train_all[VALIDATION_SIZE:]\n",
        "y_train = y_train_all[VALIDATION_SIZE:]"
      ],
      "execution_count": 20,
      "outputs": []
    },
    {
      "cell_type": "markdown",
      "metadata": {
        "id": "y0KFGNVDdwej"
      },
      "source": [
        "**Creating a sample model for visualization**"
      ]
    },
    {
      "cell_type": "code",
      "metadata": {
        "id": "fT-Ox363ds_Z"
      },
      "source": [
        "x_train_xs = x_train[:SMALL_TRAIN_SIZE]\n",
        "y_train_xs = y_train[:SMALL_TRAIN_SIZE]"
      ],
      "execution_count": 21,
      "outputs": []
    },
    {
      "cell_type": "markdown",
      "metadata": {
        "id": "oVHl5usSM_gm"
      },
      "source": [
        "**Neural Network architecture**"
      ]
    },
    {
      "cell_type": "code",
      "metadata": {
        "id": "Mp_5cAaMNEAi"
      },
      "source": [
        "#define the model\n",
        "#compile it\n",
        "#fit the model accordingly\n",
        "from keras.models import Sequential\n",
        "from keras.layers import Dense, Activation\n",
        "\n",
        "model_1 = Sequential([\n",
        "                      Dense(units= 128, input_dim=TOTAL_INPUTS, activation='relu', name='hidden1'),#first hidden layer - total inputs (32*32*3)\n",
        "                      Dense(units= 64, activation='relu', name='hidden2'),#second hidden layer\n",
        "                      Dense(16, activation='relu', name='hidden3'),\n",
        "                      Dense(10, activation='softmax', name='output') #10 classes of image output layer\n",
        "])\n",
        "\n",
        "# compiling the  model\n",
        "model_1.compile(optimizer='adam', loss='sparse_categorical_crossentropy',\n",
        "                metrics=['accuracy'])"
      ],
      "execution_count": 22,
      "outputs": []
    },
    {
      "cell_type": "code",
      "metadata": {
        "id": "MaYs0vuUTfwx",
        "colab": {
          "base_uri": "https://localhost:8080/"
        },
        "outputId": "5cf54428-fbfc-4248-f597-5a69d3ac6000"
      },
      "source": [
        "model_1.summary()"
      ],
      "execution_count": 23,
      "outputs": [
        {
          "output_type": "stream",
          "text": [
            "Model: \"sequential\"\n",
            "_________________________________________________________________\n",
            "Layer (type)                 Output Shape              Param #   \n",
            "=================================================================\n",
            "hidden1 (Dense)              (None, 128)               393344    \n",
            "_________________________________________________________________\n",
            "hidden2 (Dense)              (None, 64)                8256      \n",
            "_________________________________________________________________\n",
            "hidden3 (Dense)              (None, 16)                1040      \n",
            "_________________________________________________________________\n",
            "output (Dense)               (None, 10)                170       \n",
            "=================================================================\n",
            "Total params: 402,810\n",
            "Trainable params: 402,810\n",
            "Non-trainable params: 0\n",
            "_________________________________________________________________\n"
          ],
          "name": "stdout"
        }
      ]
    },
    {
      "cell_type": "code",
      "metadata": {
        "id": "iIMRcrTVFdIS"
      },
      "source": [
        "#create another model and compare with first model\n",
        "#with dropout to prevent overfitting\n",
        "from keras.layers import Dropout\n",
        "model_2 = Sequential()\n",
        "model_2.add(Dropout(0.2, seed=42, input_shape=(TOTAL_INPUTS,)))\n",
        "model_2.add(Dense(128, activation='relu', name='hidden1'))\n",
        "model_2.add(Dense(64, activation='relu', name='hidden2'))\n",
        "model_2.add(Dense(16, activation='relu', name='hidden3'))\n",
        "model_2.add(Dense(10, activation='softmax', name='output'))\n",
        "\n",
        "# compiling the  model\n",
        "model_2.compile(optimizer='adam', loss='sparse_categorical_crossentropy',\n",
        "                metrics=['accuracy'])"
      ],
      "execution_count": 42,
      "outputs": []
    },
    {
      "cell_type": "code",
      "metadata": {
        "id": "4G_ukJJ4JugY"
      },
      "source": [
        "#create another model with 2 droputs\n",
        "#with dropout to prevent overfitting\n",
        "from keras.layers import Dropout\n",
        "model_3 = Sequential()\n",
        "model_3.add(Dropout(0.2, seed=42, input_shape=(TOTAL_INPUTS,)))\n",
        "model_3.add(Dense(128, activation='relu', name='hidden1'))\n",
        "model_3.add(Dropout(0.2, seed=42))\n",
        "model_3.add(Dense(64, activation='relu', name='hidden2'))\n",
        "model_3.add(Dense(16, activation='relu', name='hidden3'))\n",
        "model_3.add(Dense(10, activation='softmax', name='output'))\n",
        "\n",
        "# compiling the  model\n",
        "model_3.compile(optimizer='adam', loss='sparse_categorical_crossentropy',\n",
        "                metrics=['accuracy'])"
      ],
      "execution_count": 25,
      "outputs": []
    },
    {
      "cell_type": "code",
      "metadata": {
        "id": "TYEKMegNxKUG"
      },
      "source": [
        "#bias is used to shift the activation function from default params\n",
        "#weights + bias = params\n",
        "# 32*32*3*128 "
      ],
      "execution_count": 26,
      "outputs": []
    },
    {
      "cell_type": "code",
      "metadata": {
        "id": "MzFFZv1D1UJV"
      },
      "source": [
        "# from tensorboardcolab import TensorBoardColab, TensorBoardColabCallback\n",
        "# tbc=TensorBoardColab()"
      ],
      "execution_count": 27,
      "outputs": []
    },
    {
      "cell_type": "code",
      "metadata": {
        "id": "Pb9t62rt3hPu"
      },
      "source": [
        "samples_per_batch = 1000\n",
        "nr_epochs = 20"
      ],
      "execution_count": 28,
      "outputs": []
    },
    {
      "cell_type": "markdown",
      "metadata": {
        "id": "7jprlxj904qQ"
      },
      "source": [
        "**Fit the model**"
      ]
    },
    {
      "cell_type": "code",
      "metadata": {
        "id": "bkXAiqZx07oi"
      },
      "source": [
        "# %%time\n",
        "# #optional callback to tensorboard for visualizing\n",
        "# #verbose=0 will not print all epochs\n",
        "# model_1.fit(x_train_xs, y_train_xs,batch_size=samples_per_batch, epochs=100, \n",
        "#             validation_data= (x_val, y_val ),callbacks=None)"
      ],
      "execution_count": 29,
      "outputs": []
    },
    {
      "cell_type": "code",
      "metadata": {
        "colab": {
          "base_uri": "https://localhost:8080/"
        },
        "id": "-xnTI0GbPYGT",
        "outputId": "15e8d622-7a97-4cbe-87fd-5987df63d762"
      },
      "source": [
        "%%time\n",
        "#optional callback to tensorboard for visualizing\n",
        "# #verbose=0 will not print all epochs\n",
        "model_1.fit(x_train, y_train,batch_size=samples_per_batch, epochs=100, \n",
        "            validation_data= (x_val, y_val ),callbacks=None)"
      ],
      "execution_count": null,
      "outputs": [
        {
          "output_type": "stream",
          "text": [
            "Epoch 1/100\n",
            "40/40 [==============================] - 2s 51ms/step - loss: 2.2134 - accuracy: 0.1985 - val_loss: 2.0936 - val_accuracy: 0.2524\n",
            "Epoch 2/100\n",
            "40/40 [==============================] - 2s 50ms/step - loss: 2.0350 - accuracy: 0.2795 - val_loss: 1.9723 - val_accuracy: 0.2932\n",
            "Epoch 3/100\n",
            "40/40 [==============================] - 2s 47ms/step - loss: 1.9331 - accuracy: 0.3104 - val_loss: 1.9050 - val_accuracy: 0.3122\n",
            "Epoch 4/100\n",
            "40/40 [==============================] - 2s 47ms/step - loss: 1.8642 - accuracy: 0.3330 - val_loss: 1.8266 - val_accuracy: 0.3505\n",
            "Epoch 5/100\n",
            "40/40 [==============================] - 2s 47ms/step - loss: 1.8039 - accuracy: 0.3625 - val_loss: 1.7752 - val_accuracy: 0.3729\n",
            "Epoch 6/100\n",
            "40/40 [==============================] - 2s 47ms/step - loss: 1.7684 - accuracy: 0.3741 - val_loss: 1.7481 - val_accuracy: 0.3763\n",
            "Epoch 7/100\n",
            "40/40 [==============================] - 2s 49ms/step - loss: 1.7390 - accuracy: 0.3842 - val_loss: 1.7372 - val_accuracy: 0.3799\n",
            "Epoch 8/100\n",
            "40/40 [==============================] - 2s 47ms/step - loss: 1.7078 - accuracy: 0.3930 - val_loss: 1.7087 - val_accuracy: 0.3852\n",
            "Epoch 9/100\n",
            "40/40 [==============================] - 2s 47ms/step - loss: 1.6934 - accuracy: 0.3995 - val_loss: 1.6720 - val_accuracy: 0.3980\n",
            "Epoch 10/100\n",
            "40/40 [==============================] - 2s 47ms/step - loss: 1.6615 - accuracy: 0.4104 - val_loss: 1.6588 - val_accuracy: 0.4016\n",
            "Epoch 11/100\n",
            "40/40 [==============================] - 2s 47ms/step - loss: 1.6444 - accuracy: 0.4144 - val_loss: 1.6489 - val_accuracy: 0.4065\n",
            "Epoch 12/100\n",
            "40/40 [==============================] - 2s 47ms/step - loss: 1.6352 - accuracy: 0.4169 - val_loss: 1.6358 - val_accuracy: 0.4108\n",
            "Epoch 13/100\n",
            "40/40 [==============================] - 2s 46ms/step - loss: 1.6179 - accuracy: 0.4234 - val_loss: 1.6274 - val_accuracy: 0.4079\n",
            "Epoch 14/100\n",
            "40/40 [==============================] - 2s 47ms/step - loss: 1.5969 - accuracy: 0.4298 - val_loss: 1.6152 - val_accuracy: 0.4191\n",
            "Epoch 15/100\n",
            "40/40 [==============================] - 2s 46ms/step - loss: 1.5937 - accuracy: 0.4336 - val_loss: 1.6222 - val_accuracy: 0.4192\n",
            "Epoch 16/100\n",
            "40/40 [==============================] - 2s 47ms/step - loss: 1.5715 - accuracy: 0.4396 - val_loss: 1.5966 - val_accuracy: 0.4250\n",
            "Epoch 17/100\n",
            "40/40 [==============================] - 2s 47ms/step - loss: 1.5690 - accuracy: 0.4391 - val_loss: 1.6042 - val_accuracy: 0.4254\n",
            "Epoch 18/100\n",
            "40/40 [==============================] - 2s 48ms/step - loss: 1.5579 - accuracy: 0.4460 - val_loss: 1.5704 - val_accuracy: 0.4359\n",
            "Epoch 19/100\n",
            "40/40 [==============================] - 2s 47ms/step - loss: 1.5461 - accuracy: 0.4491 - val_loss: 1.5596 - val_accuracy: 0.4394\n",
            "Epoch 20/100\n",
            "40/40 [==============================] - 2s 47ms/step - loss: 1.5294 - accuracy: 0.4559 - val_loss: 1.5571 - val_accuracy: 0.4403\n",
            "Epoch 21/100\n",
            "40/40 [==============================] - 2s 47ms/step - loss: 1.5239 - accuracy: 0.4609 - val_loss: 1.5516 - val_accuracy: 0.4448\n",
            "Epoch 22/100\n",
            "40/40 [==============================] - 2s 47ms/step - loss: 1.5311 - accuracy: 0.4550 - val_loss: 1.5955 - val_accuracy: 0.4335\n",
            "Epoch 23/100\n",
            "40/40 [==============================] - 2s 47ms/step - loss: 1.5073 - accuracy: 0.4659 - val_loss: 1.5375 - val_accuracy: 0.4450\n",
            "Epoch 24/100\n",
            "40/40 [==============================] - 2s 46ms/step - loss: 1.4983 - accuracy: 0.4675 - val_loss: 1.5371 - val_accuracy: 0.4482\n",
            "Epoch 25/100\n",
            "40/40 [==============================] - 2s 47ms/step - loss: 1.4943 - accuracy: 0.4659 - val_loss: 1.5399 - val_accuracy: 0.4499\n",
            "Epoch 26/100\n",
            "40/40 [==============================] - 2s 47ms/step - loss: 1.4862 - accuracy: 0.4725 - val_loss: 1.5589 - val_accuracy: 0.4402\n",
            "Epoch 27/100\n",
            "40/40 [==============================] - 2s 48ms/step - loss: 1.4881 - accuracy: 0.4693 - val_loss: 1.5451 - val_accuracy: 0.4460\n",
            "Epoch 28/100\n",
            "40/40 [==============================] - 2s 47ms/step - loss: 1.4797 - accuracy: 0.4737 - val_loss: 1.5591 - val_accuracy: 0.4449\n",
            "Epoch 29/100\n",
            "40/40 [==============================] - 2s 48ms/step - loss: 1.4604 - accuracy: 0.4813 - val_loss: 1.5085 - val_accuracy: 0.4686\n",
            "Epoch 30/100\n",
            "40/40 [==============================] - 2s 46ms/step - loss: 1.4523 - accuracy: 0.4832 - val_loss: 1.5048 - val_accuracy: 0.4630\n",
            "Epoch 31/100\n",
            "40/40 [==============================] - 2s 47ms/step - loss: 1.4472 - accuracy: 0.4851 - val_loss: 1.5195 - val_accuracy: 0.4592\n",
            "Epoch 32/100\n",
            "40/40 [==============================] - 2s 47ms/step - loss: 1.4504 - accuracy: 0.4866 - val_loss: 1.5395 - val_accuracy: 0.4528\n",
            "Epoch 33/100\n",
            "40/40 [==============================] - 2s 47ms/step - loss: 1.4397 - accuracy: 0.4885 - val_loss: 1.5143 - val_accuracy: 0.4577\n",
            "Epoch 34/100\n",
            "40/40 [==============================] - 2s 47ms/step - loss: 1.4289 - accuracy: 0.4919 - val_loss: 1.5083 - val_accuracy: 0.4643\n",
            "Epoch 35/100\n",
            "40/40 [==============================] - 2s 47ms/step - loss: 1.4183 - accuracy: 0.4978 - val_loss: 1.4850 - val_accuracy: 0.4746\n",
            "Epoch 36/100\n",
            "40/40 [==============================] - 2s 47ms/step - loss: 1.4171 - accuracy: 0.4945 - val_loss: 1.5385 - val_accuracy: 0.4582\n",
            "Epoch 37/100\n",
            "40/40 [==============================] - 2s 47ms/step - loss: 1.4154 - accuracy: 0.4971 - val_loss: 1.5013 - val_accuracy: 0.4714\n",
            "Epoch 38/100\n",
            "40/40 [==============================] - 2s 46ms/step - loss: 1.4127 - accuracy: 0.4975 - val_loss: 1.4989 - val_accuracy: 0.4619\n",
            "Epoch 39/100\n",
            "40/40 [==============================] - 2s 47ms/step - loss: 1.4093 - accuracy: 0.4976 - val_loss: 1.5132 - val_accuracy: 0.4671\n",
            "Epoch 40/100\n",
            "40/40 [==============================] - 2s 46ms/step - loss: 1.4035 - accuracy: 0.5005 - val_loss: 1.4984 - val_accuracy: 0.4673\n",
            "Epoch 41/100\n",
            "40/40 [==============================] - 2s 47ms/step - loss: 1.4001 - accuracy: 0.5015 - val_loss: 1.5137 - val_accuracy: 0.4555\n",
            "Epoch 42/100\n",
            "40/40 [==============================] - 2s 48ms/step - loss: 1.3949 - accuracy: 0.5049 - val_loss: 1.4811 - val_accuracy: 0.4793\n",
            "Epoch 43/100\n",
            "40/40 [==============================] - 2s 47ms/step - loss: 1.3787 - accuracy: 0.5112 - val_loss: 1.5210 - val_accuracy: 0.4599\n",
            "Epoch 44/100\n",
            "40/40 [==============================] - 2s 46ms/step - loss: 1.3893 - accuracy: 0.5059 - val_loss: 1.5216 - val_accuracy: 0.4657\n",
            "Epoch 45/100\n",
            "40/40 [==============================] - 2s 46ms/step - loss: 1.3798 - accuracy: 0.5079 - val_loss: 1.4813 - val_accuracy: 0.4784\n",
            "Epoch 46/100\n",
            "40/40 [==============================] - 2s 46ms/step - loss: 1.3732 - accuracy: 0.5126 - val_loss: 1.4749 - val_accuracy: 0.4798\n",
            "Epoch 47/100\n",
            "40/40 [==============================] - 2s 47ms/step - loss: 1.3659 - accuracy: 0.5141 - val_loss: 1.4744 - val_accuracy: 0.4775\n",
            "Epoch 48/100\n",
            "40/40 [==============================] - 2s 47ms/step - loss: 1.3730 - accuracy: 0.5105 - val_loss: 1.4982 - val_accuracy: 0.4670\n",
            "Epoch 49/100\n",
            "40/40 [==============================] - 2s 46ms/step - loss: 1.3588 - accuracy: 0.5173 - val_loss: 1.4869 - val_accuracy: 0.4722\n",
            "Epoch 50/100\n",
            "40/40 [==============================] - 2s 46ms/step - loss: 1.3536 - accuracy: 0.5182 - val_loss: 1.4694 - val_accuracy: 0.4833\n",
            "Epoch 51/100\n",
            "40/40 [==============================] - 2s 47ms/step - loss: 1.3488 - accuracy: 0.5197 - val_loss: 1.4601 - val_accuracy: 0.4825\n",
            "Epoch 52/100\n",
            "40/40 [==============================] - 2s 47ms/step - loss: 1.3365 - accuracy: 0.5235 - val_loss: 1.4779 - val_accuracy: 0.4774\n",
            "Epoch 53/100\n",
            "40/40 [==============================] - 2s 47ms/step - loss: 1.3335 - accuracy: 0.5274 - val_loss: 1.4688 - val_accuracy: 0.4774\n",
            "Epoch 54/100\n",
            "40/40 [==============================] - 2s 46ms/step - loss: 1.3336 - accuracy: 0.5250 - val_loss: 1.4898 - val_accuracy: 0.4669\n",
            "Epoch 55/100\n",
            "40/40 [==============================] - 2s 46ms/step - loss: 1.3331 - accuracy: 0.5257 - val_loss: 1.4747 - val_accuracy: 0.4752\n",
            "Epoch 56/100\n",
            "40/40 [==============================] - 2s 46ms/step - loss: 1.3313 - accuracy: 0.5289 - val_loss: 1.4605 - val_accuracy: 0.4823\n",
            "Epoch 57/100\n",
            "40/40 [==============================] - 2s 46ms/step - loss: 1.3252 - accuracy: 0.5284 - val_loss: 1.4817 - val_accuracy: 0.4737\n",
            "Epoch 58/100\n",
            "40/40 [==============================] - 2s 46ms/step - loss: 1.3192 - accuracy: 0.5321 - val_loss: 1.4830 - val_accuracy: 0.4721\n",
            "Epoch 59/100\n",
            "40/40 [==============================] - 2s 46ms/step - loss: 1.3193 - accuracy: 0.5293 - val_loss: 1.4637 - val_accuracy: 0.4841\n",
            "Epoch 60/100\n",
            "17/40 [===========>..................] - ETA: 0s - loss: 1.3148 - accuracy: 0.5341"
          ],
          "name": "stdout"
        }
      ]
    },
    {
      "cell_type": "code",
      "metadata": {
        "colab": {
          "base_uri": "https://localhost:8080/"
        },
        "id": "1AXq6EKBPiFS",
        "outputId": "b88a1dcf-9c8a-454d-cab5-5ebf286342fb"
      },
      "source": [
        "%%time\n",
        "#optional callback to tensorboard for visualizing\n",
        "# #verbose=0 will not print all epochs\n",
        "model_2.fit(x_train, y_train,batch_size=samples_per_batch, epochs=100, \n",
        "            validation_data= (x_val, y_val ),callbacks=None)"
      ],
      "execution_count": 43,
      "outputs": [
        {
          "output_type": "stream",
          "text": [
            "Epoch 1/100\n",
            "40/40 [==============================] - 3s 78ms/step - loss: 2.1306 - accuracy: 0.2133 - val_loss: 1.9890 - val_accuracy: 0.2688\n",
            "Epoch 2/100\n",
            "40/40 [==============================] - 3s 75ms/step - loss: 1.9351 - accuracy: 0.2974 - val_loss: 1.8578 - val_accuracy: 0.3367\n",
            "Epoch 3/100\n",
            "40/40 [==============================] - 3s 74ms/step - loss: 1.8568 - accuracy: 0.3340 - val_loss: 1.8158 - val_accuracy: 0.3535\n",
            "Epoch 4/100\n",
            "40/40 [==============================] - 3s 74ms/step - loss: 1.8067 - accuracy: 0.3544 - val_loss: 1.7598 - val_accuracy: 0.3736\n",
            "Epoch 5/100\n",
            "40/40 [==============================] - 3s 74ms/step - loss: 1.7666 - accuracy: 0.3686 - val_loss: 1.7214 - val_accuracy: 0.3862\n",
            "Epoch 6/100\n",
            "40/40 [==============================] - 3s 74ms/step - loss: 1.7318 - accuracy: 0.3817 - val_loss: 1.6877 - val_accuracy: 0.3932\n",
            "Epoch 7/100\n",
            "40/40 [==============================] - 3s 74ms/step - loss: 1.7023 - accuracy: 0.3927 - val_loss: 1.6633 - val_accuracy: 0.4059\n",
            "Epoch 8/100\n",
            "40/40 [==============================] - 3s 74ms/step - loss: 1.6776 - accuracy: 0.4019 - val_loss: 1.6355 - val_accuracy: 0.4177\n",
            "Epoch 9/100\n",
            "40/40 [==============================] - 3s 74ms/step - loss: 1.6508 - accuracy: 0.4137 - val_loss: 1.6310 - val_accuracy: 0.4115\n",
            "Epoch 10/100\n",
            "40/40 [==============================] - 3s 74ms/step - loss: 1.6430 - accuracy: 0.4158 - val_loss: 1.6049 - val_accuracy: 0.4275\n",
            "Epoch 11/100\n",
            "40/40 [==============================] - 3s 74ms/step - loss: 1.6181 - accuracy: 0.4246 - val_loss: 1.5912 - val_accuracy: 0.4315\n",
            "Epoch 12/100\n",
            "40/40 [==============================] - 3s 75ms/step - loss: 1.6117 - accuracy: 0.4269 - val_loss: 1.5761 - val_accuracy: 0.4368\n",
            "Epoch 13/100\n",
            "40/40 [==============================] - 3s 75ms/step - loss: 1.5933 - accuracy: 0.4350 - val_loss: 1.5820 - val_accuracy: 0.4322\n",
            "Epoch 14/100\n",
            "40/40 [==============================] - 3s 76ms/step - loss: 1.5852 - accuracy: 0.4377 - val_loss: 1.5585 - val_accuracy: 0.4456\n",
            "Epoch 15/100\n",
            "40/40 [==============================] - 3s 75ms/step - loss: 1.5763 - accuracy: 0.4392 - val_loss: 1.5736 - val_accuracy: 0.4348\n",
            "Epoch 16/100\n",
            "40/40 [==============================] - 3s 76ms/step - loss: 1.5607 - accuracy: 0.4446 - val_loss: 1.5518 - val_accuracy: 0.4430\n",
            "Epoch 17/100\n",
            "40/40 [==============================] - 3s 74ms/step - loss: 1.5498 - accuracy: 0.4484 - val_loss: 1.5461 - val_accuracy: 0.4451\n",
            "Epoch 18/100\n",
            "40/40 [==============================] - 3s 74ms/step - loss: 1.5431 - accuracy: 0.4513 - val_loss: 1.5396 - val_accuracy: 0.4457\n",
            "Epoch 19/100\n",
            "40/40 [==============================] - 3s 74ms/step - loss: 1.5364 - accuracy: 0.4528 - val_loss: 1.5331 - val_accuracy: 0.4510\n",
            "Epoch 20/100\n",
            "40/40 [==============================] - 3s 74ms/step - loss: 1.5235 - accuracy: 0.4568 - val_loss: 1.5261 - val_accuracy: 0.4560\n",
            "Epoch 21/100\n",
            "40/40 [==============================] - 3s 75ms/step - loss: 1.5189 - accuracy: 0.4571 - val_loss: 1.5145 - val_accuracy: 0.4602\n",
            "Epoch 22/100\n",
            "40/40 [==============================] - 3s 76ms/step - loss: 1.5249 - accuracy: 0.4570 - val_loss: 1.5378 - val_accuracy: 0.4476\n",
            "Epoch 23/100\n",
            "40/40 [==============================] - 3s 75ms/step - loss: 1.5156 - accuracy: 0.4598 - val_loss: 1.5088 - val_accuracy: 0.4595\n",
            "Epoch 24/100\n",
            "40/40 [==============================] - 3s 74ms/step - loss: 1.4986 - accuracy: 0.4686 - val_loss: 1.4936 - val_accuracy: 0.4655\n",
            "Epoch 25/100\n",
            "40/40 [==============================] - 3s 74ms/step - loss: 1.4899 - accuracy: 0.4683 - val_loss: 1.4987 - val_accuracy: 0.4651\n",
            "Epoch 26/100\n",
            "40/40 [==============================] - 3s 74ms/step - loss: 1.4921 - accuracy: 0.4705 - val_loss: 1.4923 - val_accuracy: 0.4629\n",
            "Epoch 27/100\n",
            "40/40 [==============================] - 3s 74ms/step - loss: 1.4806 - accuracy: 0.4726 - val_loss: 1.4903 - val_accuracy: 0.4690\n",
            "Epoch 28/100\n",
            "40/40 [==============================] - 3s 74ms/step - loss: 1.4703 - accuracy: 0.4766 - val_loss: 1.4874 - val_accuracy: 0.4708\n",
            "Epoch 29/100\n",
            "40/40 [==============================] - 3s 73ms/step - loss: 1.4667 - accuracy: 0.4784 - val_loss: 1.4809 - val_accuracy: 0.4717\n",
            "Epoch 30/100\n",
            "40/40 [==============================] - 3s 72ms/step - loss: 1.4679 - accuracy: 0.4746 - val_loss: 1.4813 - val_accuracy: 0.4716\n",
            "Epoch 31/100\n",
            "40/40 [==============================] - 3s 73ms/step - loss: 1.4598 - accuracy: 0.4810 - val_loss: 1.4708 - val_accuracy: 0.4780\n",
            "Epoch 32/100\n",
            "40/40 [==============================] - 3s 73ms/step - loss: 1.4535 - accuracy: 0.4830 - val_loss: 1.4764 - val_accuracy: 0.4716\n",
            "Epoch 33/100\n",
            "40/40 [==============================] - 3s 72ms/step - loss: 1.4576 - accuracy: 0.4833 - val_loss: 1.4737 - val_accuracy: 0.4755\n",
            "Epoch 34/100\n",
            "40/40 [==============================] - 3s 73ms/step - loss: 1.4488 - accuracy: 0.4823 - val_loss: 1.4906 - val_accuracy: 0.4689\n",
            "Epoch 35/100\n",
            "40/40 [==============================] - 3s 72ms/step - loss: 1.4442 - accuracy: 0.4870 - val_loss: 1.4681 - val_accuracy: 0.4745\n",
            "Epoch 36/100\n",
            "40/40 [==============================] - 3s 72ms/step - loss: 1.4349 - accuracy: 0.4879 - val_loss: 1.4515 - val_accuracy: 0.4833\n",
            "Epoch 37/100\n",
            "40/40 [==============================] - 3s 73ms/step - loss: 1.4333 - accuracy: 0.4922 - val_loss: 1.4825 - val_accuracy: 0.4707\n",
            "Epoch 38/100\n",
            "40/40 [==============================] - 3s 73ms/step - loss: 1.4312 - accuracy: 0.4891 - val_loss: 1.4553 - val_accuracy: 0.4828\n",
            "Epoch 39/100\n",
            "40/40 [==============================] - 3s 73ms/step - loss: 1.4203 - accuracy: 0.4949 - val_loss: 1.4473 - val_accuracy: 0.4882\n",
            "Epoch 40/100\n",
            "40/40 [==============================] - 3s 72ms/step - loss: 1.4223 - accuracy: 0.4940 - val_loss: 1.4587 - val_accuracy: 0.4822\n",
            "Epoch 41/100\n",
            "40/40 [==============================] - 3s 73ms/step - loss: 1.4254 - accuracy: 0.4912 - val_loss: 1.4571 - val_accuracy: 0.4818\n",
            "Epoch 42/100\n",
            "40/40 [==============================] - 3s 73ms/step - loss: 1.4175 - accuracy: 0.4978 - val_loss: 1.4393 - val_accuracy: 0.4907\n",
            "Epoch 43/100\n",
            "40/40 [==============================] - 3s 73ms/step - loss: 1.4123 - accuracy: 0.4981 - val_loss: 1.4597 - val_accuracy: 0.4851\n",
            "Epoch 44/100\n",
            "40/40 [==============================] - 3s 72ms/step - loss: 1.4184 - accuracy: 0.4966 - val_loss: 1.4826 - val_accuracy: 0.4752\n",
            "Epoch 45/100\n",
            "40/40 [==============================] - 3s 72ms/step - loss: 1.4067 - accuracy: 0.5003 - val_loss: 1.4442 - val_accuracy: 0.4897\n",
            "Epoch 46/100\n",
            "40/40 [==============================] - 3s 72ms/step - loss: 1.4017 - accuracy: 0.5030 - val_loss: 1.4453 - val_accuracy: 0.4856\n",
            "Epoch 47/100\n",
            "40/40 [==============================] - 3s 72ms/step - loss: 1.4024 - accuracy: 0.5012 - val_loss: 1.4504 - val_accuracy: 0.4844\n",
            "Epoch 48/100\n",
            "40/40 [==============================] - 3s 72ms/step - loss: 1.4050 - accuracy: 0.4994 - val_loss: 1.4380 - val_accuracy: 0.4886\n",
            "Epoch 49/100\n",
            "40/40 [==============================] - 3s 72ms/step - loss: 1.3962 - accuracy: 0.5034 - val_loss: 1.4509 - val_accuracy: 0.4847\n",
            "Epoch 50/100\n",
            "40/40 [==============================] - 3s 72ms/step - loss: 1.3957 - accuracy: 0.5039 - val_loss: 1.4541 - val_accuracy: 0.4788\n",
            "Epoch 51/100\n",
            "40/40 [==============================] - 3s 72ms/step - loss: 1.3896 - accuracy: 0.5041 - val_loss: 1.4677 - val_accuracy: 0.4801\n",
            "Epoch 52/100\n",
            "40/40 [==============================] - 3s 73ms/step - loss: 1.3899 - accuracy: 0.5059 - val_loss: 1.4618 - val_accuracy: 0.4765\n",
            "Epoch 53/100\n",
            "40/40 [==============================] - 3s 73ms/step - loss: 1.3843 - accuracy: 0.5046 - val_loss: 1.4598 - val_accuracy: 0.4807\n",
            "Epoch 54/100\n",
            "40/40 [==============================] - 3s 72ms/step - loss: 1.3882 - accuracy: 0.5063 - val_loss: 1.4489 - val_accuracy: 0.4849\n",
            "Epoch 55/100\n",
            "40/40 [==============================] - 3s 72ms/step - loss: 1.3799 - accuracy: 0.5082 - val_loss: 1.4369 - val_accuracy: 0.4931\n",
            "Epoch 56/100\n",
            "40/40 [==============================] - 3s 72ms/step - loss: 1.3804 - accuracy: 0.5089 - val_loss: 1.4407 - val_accuracy: 0.4909\n",
            "Epoch 57/100\n",
            "40/40 [==============================] - 3s 72ms/step - loss: 1.3778 - accuracy: 0.5110 - val_loss: 1.4386 - val_accuracy: 0.4902\n",
            "Epoch 58/100\n",
            "40/40 [==============================] - 3s 72ms/step - loss: 1.3754 - accuracy: 0.5113 - val_loss: 1.4531 - val_accuracy: 0.4815\n",
            "Epoch 59/100\n",
            "40/40 [==============================] - 3s 72ms/step - loss: 1.3794 - accuracy: 0.5079 - val_loss: 1.4249 - val_accuracy: 0.4973\n",
            "Epoch 60/100\n",
            "40/40 [==============================] - 3s 72ms/step - loss: 1.3672 - accuracy: 0.5129 - val_loss: 1.4234 - val_accuracy: 0.4956\n",
            "Epoch 61/100\n",
            "40/40 [==============================] - 3s 73ms/step - loss: 1.3647 - accuracy: 0.5139 - val_loss: 1.4334 - val_accuracy: 0.4916\n",
            "Epoch 62/100\n",
            "40/40 [==============================] - 3s 73ms/step - loss: 1.3725 - accuracy: 0.5092 - val_loss: 1.4216 - val_accuracy: 0.4951\n",
            "Epoch 63/100\n",
            "40/40 [==============================] - 3s 73ms/step - loss: 1.3585 - accuracy: 0.5169 - val_loss: 1.4361 - val_accuracy: 0.4931\n",
            "Epoch 64/100\n",
            "40/40 [==============================] - 3s 72ms/step - loss: 1.3583 - accuracy: 0.5163 - val_loss: 1.4429 - val_accuracy: 0.4906\n",
            "Epoch 65/100\n",
            "40/40 [==============================] - 3s 72ms/step - loss: 1.3619 - accuracy: 0.5146 - val_loss: 1.4240 - val_accuracy: 0.4974\n",
            "Epoch 66/100\n",
            "40/40 [==============================] - 3s 73ms/step - loss: 1.3618 - accuracy: 0.5168 - val_loss: 1.4292 - val_accuracy: 0.4936\n",
            "Epoch 67/100\n",
            "40/40 [==============================] - 3s 73ms/step - loss: 1.3523 - accuracy: 0.5189 - val_loss: 1.4251 - val_accuracy: 0.4919\n",
            "Epoch 68/100\n",
            "40/40 [==============================] - 3s 74ms/step - loss: 1.3492 - accuracy: 0.5221 - val_loss: 1.4265 - val_accuracy: 0.4925\n",
            "Epoch 69/100\n",
            "40/40 [==============================] - 4s 92ms/step - loss: 1.3485 - accuracy: 0.5208 - val_loss: 1.4366 - val_accuracy: 0.4938\n",
            "Epoch 70/100\n",
            "40/40 [==============================] - 3s 76ms/step - loss: 1.3445 - accuracy: 0.5206 - val_loss: 1.4247 - val_accuracy: 0.4929\n",
            "Epoch 71/100\n",
            "40/40 [==============================] - 3s 76ms/step - loss: 1.3426 - accuracy: 0.5213 - val_loss: 1.4260 - val_accuracy: 0.4984\n",
            "Epoch 72/100\n",
            "40/40 [==============================] - 3s 76ms/step - loss: 1.3416 - accuracy: 0.5254 - val_loss: 1.4359 - val_accuracy: 0.4886\n",
            "Epoch 73/100\n",
            "40/40 [==============================] - 3s 75ms/step - loss: 1.3406 - accuracy: 0.5235 - val_loss: 1.4332 - val_accuracy: 0.4898\n",
            "Epoch 74/100\n",
            "40/40 [==============================] - 3s 76ms/step - loss: 1.3368 - accuracy: 0.5239 - val_loss: 1.4244 - val_accuracy: 0.4955\n",
            "Epoch 75/100\n",
            "40/40 [==============================] - 3s 75ms/step - loss: 1.3340 - accuracy: 0.5242 - val_loss: 1.4236 - val_accuracy: 0.4939\n",
            "Epoch 76/100\n",
            "40/40 [==============================] - 3s 76ms/step - loss: 1.3320 - accuracy: 0.5246 - val_loss: 1.4213 - val_accuracy: 0.4960\n",
            "Epoch 77/100\n",
            "40/40 [==============================] - 3s 76ms/step - loss: 1.3348 - accuracy: 0.5237 - val_loss: 1.4131 - val_accuracy: 0.4997\n",
            "Epoch 78/100\n",
            "40/40 [==============================] - 3s 76ms/step - loss: 1.3247 - accuracy: 0.5278 - val_loss: 1.4295 - val_accuracy: 0.4983\n",
            "Epoch 79/100\n",
            "40/40 [==============================] - 3s 75ms/step - loss: 1.3313 - accuracy: 0.5250 - val_loss: 1.4378 - val_accuracy: 0.4935\n",
            "Epoch 80/100\n",
            "40/40 [==============================] - 3s 76ms/step - loss: 1.3375 - accuracy: 0.5236 - val_loss: 1.4197 - val_accuracy: 0.4997\n",
            "Epoch 81/100\n",
            "40/40 [==============================] - 3s 77ms/step - loss: 1.3211 - accuracy: 0.5300 - val_loss: 1.4135 - val_accuracy: 0.5006\n",
            "Epoch 82/100\n",
            "40/40 [==============================] - 3s 76ms/step - loss: 1.3206 - accuracy: 0.5272 - val_loss: 1.4134 - val_accuracy: 0.5015\n",
            "Epoch 83/100\n",
            "40/40 [==============================] - 3s 76ms/step - loss: 1.3215 - accuracy: 0.5277 - val_loss: 1.4294 - val_accuracy: 0.4963\n",
            "Epoch 84/100\n",
            "40/40 [==============================] - 3s 75ms/step - loss: 1.3228 - accuracy: 0.5300 - val_loss: 1.4324 - val_accuracy: 0.4935\n",
            "Epoch 85/100\n",
            "40/40 [==============================] - 3s 76ms/step - loss: 1.3288 - accuracy: 0.5255 - val_loss: 1.4170 - val_accuracy: 0.4983\n",
            "Epoch 86/100\n",
            "40/40 [==============================] - 3s 75ms/step - loss: 1.3201 - accuracy: 0.5316 - val_loss: 1.4462 - val_accuracy: 0.4902\n",
            "Epoch 87/100\n",
            "40/40 [==============================] - 3s 76ms/step - loss: 1.3113 - accuracy: 0.5333 - val_loss: 1.4139 - val_accuracy: 0.5024\n",
            "Epoch 88/100\n",
            "40/40 [==============================] - 3s 76ms/step - loss: 1.3145 - accuracy: 0.5296 - val_loss: 1.4254 - val_accuracy: 0.4947\n",
            "Epoch 89/100\n",
            "40/40 [==============================] - 3s 76ms/step - loss: 1.3125 - accuracy: 0.5313 - val_loss: 1.4127 - val_accuracy: 0.5014\n",
            "Epoch 90/100\n",
            "40/40 [==============================] - 3s 76ms/step - loss: 1.3082 - accuracy: 0.5340 - val_loss: 1.4181 - val_accuracy: 0.4976\n",
            "Epoch 91/100\n",
            "40/40 [==============================] - 3s 76ms/step - loss: 1.3079 - accuracy: 0.5338 - val_loss: 1.4091 - val_accuracy: 0.4993\n",
            "Epoch 92/100\n",
            "40/40 [==============================] - 3s 76ms/step - loss: 1.3075 - accuracy: 0.5358 - val_loss: 1.4265 - val_accuracy: 0.4969\n",
            "Epoch 93/100\n",
            "40/40 [==============================] - 3s 76ms/step - loss: 1.3141 - accuracy: 0.5306 - val_loss: 1.4324 - val_accuracy: 0.4930\n",
            "Epoch 94/100\n",
            "40/40 [==============================] - 3s 75ms/step - loss: 1.3099 - accuracy: 0.5330 - val_loss: 1.4223 - val_accuracy: 0.4984\n",
            "Epoch 95/100\n",
            "40/40 [==============================] - 3s 76ms/step - loss: 1.2989 - accuracy: 0.5374 - val_loss: 1.4024 - val_accuracy: 0.5062\n",
            "Epoch 96/100\n",
            "40/40 [==============================] - 3s 76ms/step - loss: 1.2949 - accuracy: 0.5401 - val_loss: 1.4176 - val_accuracy: 0.4997\n",
            "Epoch 97/100\n",
            "40/40 [==============================] - 3s 76ms/step - loss: 1.2970 - accuracy: 0.5358 - val_loss: 1.4086 - val_accuracy: 0.5035\n",
            "Epoch 98/100\n",
            "40/40 [==============================] - 3s 76ms/step - loss: 1.2933 - accuracy: 0.5379 - val_loss: 1.4302 - val_accuracy: 0.5000\n",
            "Epoch 99/100\n",
            "40/40 [==============================] - 3s 76ms/step - loss: 1.2917 - accuracy: 0.5413 - val_loss: 1.4211 - val_accuracy: 0.4960\n",
            "Epoch 100/100\n",
            "40/40 [==============================] - 3s 76ms/step - loss: 1.3037 - accuracy: 0.5355 - val_loss: 1.4326 - val_accuracy: 0.4938\n",
            "CPU times: user 8min 57s, sys: 7.94 s, total: 9min 5s\n",
            "Wall time: 5min 5s\n"
          ],
          "name": "stdout"
        },
        {
          "output_type": "execute_result",
          "data": {
            "text/plain": [
              "<tensorflow.python.keras.callbacks.History at 0x7f50bda5e5f8>"
            ]
          },
          "metadata": {
            "tags": []
          },
          "execution_count": 43
        }
      ]
    },
    {
      "cell_type": "code",
      "metadata": {
        "colab": {
          "base_uri": "https://localhost:8080/"
        },
        "id": "-Xy4Wf0jQnRq",
        "outputId": "386bfaed-3382-4af1-d53a-978df310ee35"
      },
      "source": [
        "%%time\n",
        "#optional callback to tensorboard for visualizing\n",
        "# #verbose=0 will not print all epochs\n",
        "model_3.fit(x_train, y_train,batch_size=samples_per_batch, epochs=100, \n",
        "            validation_data= (x_val, y_val ),callbacks=None)"
      ],
      "execution_count": 32,
      "outputs": [
        {
          "output_type": "stream",
          "text": [
            "Epoch 1/100\n",
            "40/40 [==============================] - 3s 79ms/step - loss: 2.2588 - accuracy: 0.1424 - val_loss: 2.1387 - val_accuracy: 0.1961\n",
            "Epoch 2/100\n",
            "40/40 [==============================] - 3s 74ms/step - loss: 2.0909 - accuracy: 0.2262 - val_loss: 1.9736 - val_accuracy: 0.2724\n",
            "Epoch 3/100\n",
            "40/40 [==============================] - 3s 74ms/step - loss: 1.9771 - accuracy: 0.2780 - val_loss: 1.8897 - val_accuracy: 0.3234\n",
            "Epoch 4/100\n",
            "40/40 [==============================] - 3s 75ms/step - loss: 1.9091 - accuracy: 0.3088 - val_loss: 1.8332 - val_accuracy: 0.3432\n",
            "Epoch 5/100\n",
            "40/40 [==============================] - 3s 75ms/step - loss: 1.8591 - accuracy: 0.3239 - val_loss: 1.7716 - val_accuracy: 0.3680\n",
            "Epoch 6/100\n",
            "40/40 [==============================] - 3s 74ms/step - loss: 1.8145 - accuracy: 0.3442 - val_loss: 1.7326 - val_accuracy: 0.3753\n",
            "Epoch 7/100\n",
            "40/40 [==============================] - 3s 74ms/step - loss: 1.7872 - accuracy: 0.3541 - val_loss: 1.7197 - val_accuracy: 0.3763\n",
            "Epoch 8/100\n",
            "40/40 [==============================] - 3s 76ms/step - loss: 1.7630 - accuracy: 0.3598 - val_loss: 1.6807 - val_accuracy: 0.3949\n",
            "Epoch 9/100\n",
            "40/40 [==============================] - 3s 76ms/step - loss: 1.7476 - accuracy: 0.3692 - val_loss: 1.6714 - val_accuracy: 0.3981\n",
            "Epoch 10/100\n",
            "40/40 [==============================] - 3s 74ms/step - loss: 1.7321 - accuracy: 0.3771 - val_loss: 1.6684 - val_accuracy: 0.3965\n",
            "Epoch 11/100\n",
            "40/40 [==============================] - 3s 77ms/step - loss: 1.7164 - accuracy: 0.3807 - val_loss: 1.6410 - val_accuracy: 0.4125\n",
            "Epoch 12/100\n",
            "40/40 [==============================] - 3s 74ms/step - loss: 1.6980 - accuracy: 0.3891 - val_loss: 1.6076 - val_accuracy: 0.4225\n",
            "Epoch 13/100\n",
            "40/40 [==============================] - 3s 74ms/step - loss: 1.6868 - accuracy: 0.3894 - val_loss: 1.6038 - val_accuracy: 0.4223\n",
            "Epoch 14/100\n",
            "40/40 [==============================] - 3s 75ms/step - loss: 1.6778 - accuracy: 0.3935 - val_loss: 1.6039 - val_accuracy: 0.4236\n",
            "Epoch 15/100\n",
            "40/40 [==============================] - 3s 75ms/step - loss: 1.6683 - accuracy: 0.3997 - val_loss: 1.5986 - val_accuracy: 0.4151\n",
            "Epoch 16/100\n",
            "40/40 [==============================] - 3s 75ms/step - loss: 1.6710 - accuracy: 0.4014 - val_loss: 1.5829 - val_accuracy: 0.4349\n",
            "Epoch 17/100\n",
            "40/40 [==============================] - 3s 74ms/step - loss: 1.6528 - accuracy: 0.4037 - val_loss: 1.5716 - val_accuracy: 0.4338\n",
            "Epoch 18/100\n",
            "40/40 [==============================] - 3s 74ms/step - loss: 1.6451 - accuracy: 0.4058 - val_loss: 1.5641 - val_accuracy: 0.4374\n",
            "Epoch 19/100\n",
            "40/40 [==============================] - 3s 74ms/step - loss: 1.6363 - accuracy: 0.4099 - val_loss: 1.5642 - val_accuracy: 0.4363\n",
            "Epoch 20/100\n",
            "40/40 [==============================] - 3s 74ms/step - loss: 1.6238 - accuracy: 0.4168 - val_loss: 1.5481 - val_accuracy: 0.4402\n",
            "Epoch 21/100\n",
            "40/40 [==============================] - 3s 76ms/step - loss: 1.6241 - accuracy: 0.4144 - val_loss: 1.5420 - val_accuracy: 0.4516\n",
            "Epoch 22/100\n",
            "40/40 [==============================] - 3s 84ms/step - loss: 1.6176 - accuracy: 0.4176 - val_loss: 1.5467 - val_accuracy: 0.4521\n",
            "Epoch 23/100\n",
            "40/40 [==============================] - 3s 77ms/step - loss: 1.6129 - accuracy: 0.4175 - val_loss: 1.5616 - val_accuracy: 0.4362\n",
            "Epoch 24/100\n",
            "40/40 [==============================] - 3s 78ms/step - loss: 1.6041 - accuracy: 0.4230 - val_loss: 1.5342 - val_accuracy: 0.4503\n",
            "Epoch 25/100\n",
            "40/40 [==============================] - 3s 77ms/step - loss: 1.6024 - accuracy: 0.4245 - val_loss: 1.5312 - val_accuracy: 0.4524\n",
            "Epoch 26/100\n",
            "40/40 [==============================] - 3s 78ms/step - loss: 1.6019 - accuracy: 0.4245 - val_loss: 1.5312 - val_accuracy: 0.4534\n",
            "Epoch 27/100\n",
            "40/40 [==============================] - 3s 78ms/step - loss: 1.5940 - accuracy: 0.4251 - val_loss: 1.5240 - val_accuracy: 0.4525\n",
            "Epoch 28/100\n",
            "40/40 [==============================] - 3s 77ms/step - loss: 1.5928 - accuracy: 0.4227 - val_loss: 1.5202 - val_accuracy: 0.4542\n",
            "Epoch 29/100\n",
            "40/40 [==============================] - 3s 77ms/step - loss: 1.5871 - accuracy: 0.4312 - val_loss: 1.5202 - val_accuracy: 0.4533\n",
            "Epoch 30/100\n",
            "40/40 [==============================] - 3s 78ms/step - loss: 1.5798 - accuracy: 0.4344 - val_loss: 1.5018 - val_accuracy: 0.4583\n",
            "Epoch 31/100\n",
            "40/40 [==============================] - 3s 77ms/step - loss: 1.5733 - accuracy: 0.4326 - val_loss: 1.5077 - val_accuracy: 0.4572\n",
            "Epoch 32/100\n",
            "40/40 [==============================] - 3s 77ms/step - loss: 1.5748 - accuracy: 0.4347 - val_loss: 1.5041 - val_accuracy: 0.4658\n",
            "Epoch 33/100\n",
            "40/40 [==============================] - 3s 77ms/step - loss: 1.5747 - accuracy: 0.4288 - val_loss: 1.5042 - val_accuracy: 0.4589\n",
            "Epoch 34/100\n",
            "40/40 [==============================] - 3s 77ms/step - loss: 1.5686 - accuracy: 0.4368 - val_loss: 1.5118 - val_accuracy: 0.4487\n",
            "Epoch 35/100\n",
            "40/40 [==============================] - 3s 78ms/step - loss: 1.5658 - accuracy: 0.4351 - val_loss: 1.4870 - val_accuracy: 0.4691\n",
            "Epoch 36/100\n",
            "40/40 [==============================] - 3s 77ms/step - loss: 1.5583 - accuracy: 0.4388 - val_loss: 1.4909 - val_accuracy: 0.4646\n",
            "Epoch 37/100\n",
            "40/40 [==============================] - 3s 77ms/step - loss: 1.5681 - accuracy: 0.4360 - val_loss: 1.4861 - val_accuracy: 0.4668\n",
            "Epoch 38/100\n",
            "40/40 [==============================] - 3s 77ms/step - loss: 1.5560 - accuracy: 0.4419 - val_loss: 1.4858 - val_accuracy: 0.4663\n",
            "Epoch 39/100\n",
            "40/40 [==============================] - 3s 77ms/step - loss: 1.5498 - accuracy: 0.4446 - val_loss: 1.4865 - val_accuracy: 0.4645\n",
            "Epoch 40/100\n",
            "40/40 [==============================] - 3s 76ms/step - loss: 1.5530 - accuracy: 0.4415 - val_loss: 1.4734 - val_accuracy: 0.4745\n",
            "Epoch 41/100\n",
            "40/40 [==============================] - 3s 77ms/step - loss: 1.5446 - accuracy: 0.4433 - val_loss: 1.4969 - val_accuracy: 0.4663\n",
            "Epoch 42/100\n",
            "40/40 [==============================] - 3s 77ms/step - loss: 1.5474 - accuracy: 0.4448 - val_loss: 1.4765 - val_accuracy: 0.4677\n",
            "Epoch 43/100\n",
            "40/40 [==============================] - 3s 77ms/step - loss: 1.5448 - accuracy: 0.4457 - val_loss: 1.4717 - val_accuracy: 0.4717\n",
            "Epoch 44/100\n",
            "40/40 [==============================] - 3s 77ms/step - loss: 1.5392 - accuracy: 0.4464 - val_loss: 1.4655 - val_accuracy: 0.4764\n",
            "Epoch 45/100\n",
            "40/40 [==============================] - 3s 77ms/step - loss: 1.5337 - accuracy: 0.4496 - val_loss: 1.4685 - val_accuracy: 0.4753\n",
            "Epoch 46/100\n",
            "40/40 [==============================] - 3s 77ms/step - loss: 1.5385 - accuracy: 0.4463 - val_loss: 1.4774 - val_accuracy: 0.4694\n",
            "Epoch 47/100\n",
            "40/40 [==============================] - 3s 76ms/step - loss: 1.5360 - accuracy: 0.4462 - val_loss: 1.4702 - val_accuracy: 0.4717\n",
            "Epoch 48/100\n",
            "40/40 [==============================] - 3s 78ms/step - loss: 1.5254 - accuracy: 0.4520 - val_loss: 1.4665 - val_accuracy: 0.4745\n",
            "Epoch 49/100\n",
            "40/40 [==============================] - 3s 77ms/step - loss: 1.5283 - accuracy: 0.4480 - val_loss: 1.4684 - val_accuracy: 0.4757\n",
            "Epoch 50/100\n",
            "40/40 [==============================] - 3s 77ms/step - loss: 1.5226 - accuracy: 0.4527 - val_loss: 1.4608 - val_accuracy: 0.4775\n",
            "Epoch 51/100\n",
            "40/40 [==============================] - 3s 77ms/step - loss: 1.5230 - accuracy: 0.4505 - val_loss: 1.4696 - val_accuracy: 0.4779\n",
            "Epoch 52/100\n",
            "40/40 [==============================] - 3s 76ms/step - loss: 1.5226 - accuracy: 0.4520 - val_loss: 1.4506 - val_accuracy: 0.4798\n",
            "Epoch 53/100\n",
            "40/40 [==============================] - 3s 78ms/step - loss: 1.5198 - accuracy: 0.4495 - val_loss: 1.4637 - val_accuracy: 0.4734\n",
            "Epoch 54/100\n",
            "40/40 [==============================] - 3s 78ms/step - loss: 1.5200 - accuracy: 0.4512 - val_loss: 1.4607 - val_accuracy: 0.4698\n",
            "Epoch 55/100\n",
            "40/40 [==============================] - 3s 77ms/step - loss: 1.5200 - accuracy: 0.4531 - val_loss: 1.4594 - val_accuracy: 0.4796\n",
            "Epoch 56/100\n",
            "40/40 [==============================] - 3s 77ms/step - loss: 1.5187 - accuracy: 0.4532 - val_loss: 1.4505 - val_accuracy: 0.4784\n",
            "Epoch 57/100\n",
            "40/40 [==============================] - 3s 77ms/step - loss: 1.5135 - accuracy: 0.4565 - val_loss: 1.4589 - val_accuracy: 0.4748\n",
            "Epoch 58/100\n",
            "40/40 [==============================] - 3s 77ms/step - loss: 1.5083 - accuracy: 0.4565 - val_loss: 1.4497 - val_accuracy: 0.4816\n",
            "Epoch 59/100\n",
            "40/40 [==============================] - 3s 77ms/step - loss: 1.5082 - accuracy: 0.4562 - val_loss: 1.4458 - val_accuracy: 0.4773\n",
            "Epoch 60/100\n",
            "40/40 [==============================] - 3s 77ms/step - loss: 1.5067 - accuracy: 0.4605 - val_loss: 1.4590 - val_accuracy: 0.4771\n",
            "Epoch 61/100\n",
            "40/40 [==============================] - 3s 77ms/step - loss: 1.5044 - accuracy: 0.4600 - val_loss: 1.4434 - val_accuracy: 0.4844\n",
            "Epoch 62/100\n",
            "40/40 [==============================] - 3s 77ms/step - loss: 1.5021 - accuracy: 0.4590 - val_loss: 1.4415 - val_accuracy: 0.4844\n",
            "Epoch 63/100\n",
            "40/40 [==============================] - 3s 77ms/step - loss: 1.5030 - accuracy: 0.4573 - val_loss: 1.4439 - val_accuracy: 0.4850\n",
            "Epoch 64/100\n",
            "40/40 [==============================] - 3s 77ms/step - loss: 1.5060 - accuracy: 0.4585 - val_loss: 1.4581 - val_accuracy: 0.4805\n",
            "Epoch 65/100\n",
            "40/40 [==============================] - 3s 77ms/step - loss: 1.5051 - accuracy: 0.4597 - val_loss: 1.4490 - val_accuracy: 0.4777\n",
            "Epoch 66/100\n",
            "40/40 [==============================] - 3s 77ms/step - loss: 1.5003 - accuracy: 0.4600 - val_loss: 1.4360 - val_accuracy: 0.4827\n",
            "Epoch 67/100\n",
            "40/40 [==============================] - 3s 77ms/step - loss: 1.4934 - accuracy: 0.4617 - val_loss: 1.4417 - val_accuracy: 0.4836\n",
            "Epoch 68/100\n",
            "40/40 [==============================] - 3s 77ms/step - loss: 1.4995 - accuracy: 0.4597 - val_loss: 1.4404 - val_accuracy: 0.4814\n",
            "Epoch 69/100\n",
            "40/40 [==============================] - 3s 77ms/step - loss: 1.4970 - accuracy: 0.4611 - val_loss: 1.4404 - val_accuracy: 0.4843\n",
            "Epoch 70/100\n",
            "40/40 [==============================] - 3s 77ms/step - loss: 1.4947 - accuracy: 0.4616 - val_loss: 1.4411 - val_accuracy: 0.4818\n",
            "Epoch 71/100\n",
            "40/40 [==============================] - 3s 77ms/step - loss: 1.4870 - accuracy: 0.4655 - val_loss: 1.4411 - val_accuracy: 0.4799\n",
            "Epoch 72/100\n",
            "40/40 [==============================] - 3s 78ms/step - loss: 1.4895 - accuracy: 0.4651 - val_loss: 1.4454 - val_accuracy: 0.4740\n",
            "Epoch 73/100\n",
            "40/40 [==============================] - 3s 77ms/step - loss: 1.4886 - accuracy: 0.4636 - val_loss: 1.4286 - val_accuracy: 0.4858\n",
            "Epoch 74/100\n",
            "40/40 [==============================] - 3s 77ms/step - loss: 1.4916 - accuracy: 0.4663 - val_loss: 1.4528 - val_accuracy: 0.4762\n",
            "Epoch 75/100\n",
            "40/40 [==============================] - 3s 77ms/step - loss: 1.4839 - accuracy: 0.4648 - val_loss: 1.4316 - val_accuracy: 0.4868\n",
            "Epoch 76/100\n",
            "40/40 [==============================] - 3s 77ms/step - loss: 1.4837 - accuracy: 0.4651 - val_loss: 1.4324 - val_accuracy: 0.4851\n",
            "Epoch 77/100\n",
            "40/40 [==============================] - 3s 77ms/step - loss: 1.4824 - accuracy: 0.4667 - val_loss: 1.4289 - val_accuracy: 0.4895\n",
            "Epoch 78/100\n",
            "40/40 [==============================] - 3s 78ms/step - loss: 1.4876 - accuracy: 0.4639 - val_loss: 1.4319 - val_accuracy: 0.4917\n",
            "Epoch 79/100\n",
            "40/40 [==============================] - 3s 78ms/step - loss: 1.4819 - accuracy: 0.4659 - val_loss: 1.4367 - val_accuracy: 0.4846\n",
            "Epoch 80/100\n",
            "40/40 [==============================] - 3s 78ms/step - loss: 1.4765 - accuracy: 0.4680 - val_loss: 1.4304 - val_accuracy: 0.4910\n",
            "Epoch 81/100\n",
            "40/40 [==============================] - 3s 78ms/step - loss: 1.4745 - accuracy: 0.4638 - val_loss: 1.4366 - val_accuracy: 0.4842\n",
            "Epoch 82/100\n",
            "40/40 [==============================] - 3s 77ms/step - loss: 1.4806 - accuracy: 0.4709 - val_loss: 1.4175 - val_accuracy: 0.4962\n",
            "Epoch 83/100\n",
            "40/40 [==============================] - 3s 78ms/step - loss: 1.4824 - accuracy: 0.4687 - val_loss: 1.4267 - val_accuracy: 0.4933\n",
            "Epoch 84/100\n",
            "40/40 [==============================] - 3s 77ms/step - loss: 1.4804 - accuracy: 0.4667 - val_loss: 1.4193 - val_accuracy: 0.4946\n",
            "Epoch 85/100\n",
            "40/40 [==============================] - 3s 77ms/step - loss: 1.4726 - accuracy: 0.4705 - val_loss: 1.4363 - val_accuracy: 0.4860\n",
            "Epoch 86/100\n",
            "40/40 [==============================] - 3s 77ms/step - loss: 1.4716 - accuracy: 0.4701 - val_loss: 1.4274 - val_accuracy: 0.4905\n",
            "Epoch 87/100\n",
            "40/40 [==============================] - 3s 77ms/step - loss: 1.4724 - accuracy: 0.4692 - val_loss: 1.4124 - val_accuracy: 0.4964\n",
            "Epoch 88/100\n",
            "40/40 [==============================] - 3s 77ms/step - loss: 1.4769 - accuracy: 0.4672 - val_loss: 1.4274 - val_accuracy: 0.4914\n",
            "Epoch 89/100\n",
            "40/40 [==============================] - 3s 77ms/step - loss: 1.4702 - accuracy: 0.4693 - val_loss: 1.4212 - val_accuracy: 0.4906\n",
            "Epoch 90/100\n",
            "40/40 [==============================] - 3s 78ms/step - loss: 1.4725 - accuracy: 0.4705 - val_loss: 1.4346 - val_accuracy: 0.4846\n",
            "Epoch 91/100\n",
            "40/40 [==============================] - 3s 78ms/step - loss: 1.4684 - accuracy: 0.4706 - val_loss: 1.4177 - val_accuracy: 0.4923\n",
            "Epoch 92/100\n",
            "40/40 [==============================] - 3s 78ms/step - loss: 1.4710 - accuracy: 0.4694 - val_loss: 1.4280 - val_accuracy: 0.4906\n",
            "Epoch 93/100\n",
            "40/40 [==============================] - 3s 77ms/step - loss: 1.4733 - accuracy: 0.4706 - val_loss: 1.4311 - val_accuracy: 0.4884\n",
            "Epoch 94/100\n",
            "40/40 [==============================] - 3s 78ms/step - loss: 1.4620 - accuracy: 0.4753 - val_loss: 1.4028 - val_accuracy: 0.4992\n",
            "Epoch 95/100\n",
            "40/40 [==============================] - 3s 79ms/step - loss: 1.4670 - accuracy: 0.4712 - val_loss: 1.4097 - val_accuracy: 0.4945\n",
            "Epoch 96/100\n",
            "40/40 [==============================] - 3s 80ms/step - loss: 1.4654 - accuracy: 0.4733 - val_loss: 1.4135 - val_accuracy: 0.4936\n",
            "Epoch 97/100\n",
            "40/40 [==============================] - 3s 79ms/step - loss: 1.4638 - accuracy: 0.4726 - val_loss: 1.4354 - val_accuracy: 0.4812\n",
            "Epoch 98/100\n",
            "40/40 [==============================] - 3s 77ms/step - loss: 1.4646 - accuracy: 0.4728 - val_loss: 1.4176 - val_accuracy: 0.4916\n",
            "Epoch 99/100\n",
            "40/40 [==============================] - 3s 77ms/step - loss: 1.4599 - accuracy: 0.4748 - val_loss: 1.4141 - val_accuracy: 0.4962\n",
            "Epoch 100/100\n",
            "40/40 [==============================] - 3s 79ms/step - loss: 1.4637 - accuracy: 0.4722 - val_loss: 1.4334 - val_accuracy: 0.4856\n",
            "CPU times: user 9min 11s, sys: 8.02 s, total: 9min 19s\n",
            "Wall time: 5min 16s\n"
          ],
          "name": "stdout"
        },
        {
          "output_type": "execute_result",
          "data": {
            "text/plain": [
              "<tensorflow.python.keras.callbacks.History at 0x7f50c66d8e10>"
            ]
          },
          "metadata": {
            "tags": []
          },
          "execution_count": 32
        }
      ]
    },
    {
      "cell_type": "markdown",
      "metadata": {
        "id": "l5JAndIkFkGd"
      },
      "source": [
        "**Making predictions on images**"
      ]
    },
    {
      "cell_type": "code",
      "metadata": {
        "colab": {
          "base_uri": "https://localhost:8080/"
        },
        "id": "vIHHTRxlFpYd",
        "outputId": "fb84e4d8-87ff-4069-9cc0-63afe8b8cb76"
      },
      "source": [
        "x_val.shape"
      ],
      "execution_count": 33,
      "outputs": [
        {
          "output_type": "execute_result",
          "data": {
            "text/plain": [
              "(10000, 3072)"
            ]
          },
          "metadata": {
            "tags": []
          },
          "execution_count": 33
        }
      ]
    },
    {
      "cell_type": "code",
      "metadata": {
        "colab": {
          "base_uri": "https://localhost:8080/"
        },
        "id": "gtNCsyJ7FtpY",
        "outputId": "5e838004-c323-4e11-867a-9834c066a5d3"
      },
      "source": [
        "test = np.expand_dims(x_val[0], axis=0)\r\n",
        "test.shape"
      ],
      "execution_count": 34,
      "outputs": [
        {
          "output_type": "execute_result",
          "data": {
            "text/plain": [
              "(1, 3072)"
            ]
          },
          "metadata": {
            "tags": []
          },
          "execution_count": 34
        }
      ]
    },
    {
      "cell_type": "code",
      "metadata": {
        "id": "A5HIrJdrGLeH"
      },
      "source": [
        "np.set_printoptions(precision=3)"
      ],
      "execution_count": 38,
      "outputs": []
    },
    {
      "cell_type": "code",
      "metadata": {
        "colab": {
          "base_uri": "https://localhost:8080/"
        },
        "id": "XbbSpuaJGCIc",
        "outputId": "7970f168-5096-4049-cd90-1c3d373907f4"
      },
      "source": [
        "model_2.predict(test)"
      ],
      "execution_count": 44,
      "outputs": [
        {
          "output_type": "execute_result",
          "data": {
            "text/plain": [
              "array([[0.101, 0.001, 0.227, 0.111, 0.237, 0.081, 0.162, 0.079, 0.001,\n",
              "        0.   ]], dtype=float32)"
            ]
          },
          "metadata": {
            "tags": []
          },
          "execution_count": 44
        }
      ]
    },
    {
      "cell_type": "code",
      "metadata": {
        "colab": {
          "base_uri": "https://localhost:8080/"
        },
        "id": "xSXTODdmGHaH",
        "outputId": "eae04507-8163-4830-ef26-6ece0b757c4f"
      },
      "source": [
        "model_2.predict(x_val).shape"
      ],
      "execution_count": 45,
      "outputs": [
        {
          "output_type": "execute_result",
          "data": {
            "text/plain": [
              "(10000, 10)"
            ]
          },
          "metadata": {
            "tags": []
          },
          "execution_count": 45
        }
      ]
    },
    {
      "cell_type": "code",
      "metadata": {
        "colab": {
          "base_uri": "https://localhost:8080/"
        },
        "id": "Pw1Q1D97G0D-",
        "outputId": "5e919360-cd36-48d3-8529-4a570fdc059d"
      },
      "source": [
        "#printing actual and predicted value\r\n",
        "for num in range(10):\r\n",
        "  test_img = np.expand_dims(x_val[num], axis=0) #convert to 32 * 32 * 3 dims\r\n",
        "  predicted_val = model_2.predict_classes(test_img)[0]\r\n",
        "  print(f'Actual value: {y_val[num][0]} vs predicted: {predicted_val}')\r\n"
      ],
      "execution_count": 48,
      "outputs": [
        {
          "output_type": "stream",
          "text": [
            "Actual value: 6 vs predicted: 4\n",
            "Actual value: 9 vs predicted: 9\n",
            "Actual value: 9 vs predicted: 9\n",
            "Actual value: 4 vs predicted: 4\n",
            "Actual value: 1 vs predicted: 0\n",
            "Actual value: 1 vs predicted: 9\n",
            "Actual value: 2 vs predicted: 6\n",
            "Actual value: 7 vs predicted: 7\n",
            "Actual value: 8 vs predicted: 8\n",
            "Actual value: 3 vs predicted: 9\n"
          ],
          "name": "stdout"
        }
      ]
    },
    {
      "cell_type": "markdown",
      "metadata": {
        "id": "tF20_1MeVqJM"
      },
      "source": [
        "**Evaluation**"
      ]
    },
    {
      "cell_type": "code",
      "metadata": {
        "colab": {
          "base_uri": "https://localhost:8080/"
        },
        "id": "qY3MJ2eNVs20",
        "outputId": "3a58f1c5-fbb9-41cd-e183-129bb0a64ba1"
      },
      "source": [
        "model_2.metrics_names"
      ],
      "execution_count": 49,
      "outputs": [
        {
          "output_type": "execute_result",
          "data": {
            "text/plain": [
              "['loss', 'accuracy']"
            ]
          },
          "metadata": {
            "tags": []
          },
          "execution_count": 49
        }
      ]
    },
    {
      "cell_type": "code",
      "metadata": {
        "colab": {
          "base_uri": "https://localhost:8080/"
        },
        "id": "wfsIlFP9V_ry",
        "outputId": "ef3b668a-7517-4429-d4a8-733065b69116"
      },
      "source": [
        "test_loss, test_accuracy = model_2.evaluate(x_test, y_test)\r\n",
        "print(f'Test loss is {test_loss:0.4} and test accuracy is {test_accuracy:0.1%}')"
      ],
      "execution_count": 51,
      "outputs": [
        {
          "output_type": "stream",
          "text": [
            "313/313 [==============================] - 1s 2ms/step - loss: 1.4360 - accuracy: 0.4924\n",
            "Test loss is 1.436 and test accuracy is 49.2%\n"
          ],
          "name": "stdout"
        }
      ]
    },
    {
      "cell_type": "markdown",
      "metadata": {
        "id": "dA-_zNdGWfoY"
      },
      "source": [
        "**Confusion matrix**"
      ]
    },
    {
      "cell_type": "code",
      "metadata": {
        "id": "dVTbAZatWjb8"
      },
      "source": [
        "from sklearn.metrics import confusion_matrix\r\n",
        "predictions = model_2.predict_classes(x_test)\r\n",
        "conf_matrix = confusion_matrix(y_true = y_test, y_pred = predictions)"
      ],
      "execution_count": 52,
      "outputs": []
    },
    {
      "cell_type": "code",
      "metadata": {
        "colab": {
          "base_uri": "https://localhost:8080/"
        },
        "id": "P8pjoShtXJbK",
        "outputId": "98988bc5-5717-4b94-c8f1-5a1a63e3f694"
      },
      "source": [
        "conf_matrix.shape"
      ],
      "execution_count": 53,
      "outputs": [
        {
          "output_type": "execute_result",
          "data": {
            "text/plain": [
              "(10, 10)"
            ]
          },
          "metadata": {
            "tags": []
          },
          "execution_count": 53
        }
      ]
    },
    {
      "cell_type": "code",
      "metadata": {
        "id": "SlR765DYXNlE"
      },
      "source": [
        "nr_rows = conf_matrix.shape[0]\r\n",
        "nr_cols = conf_matrix.shape[1]"
      ],
      "execution_count": 54,
      "outputs": []
    },
    {
      "cell_type": "code",
      "metadata": {
        "colab": {
          "base_uri": "https://localhost:8080/",
          "height": 411
        },
        "id": "pMPTnwUKZD6r",
        "outputId": "9f9af0d6-8847-400c-afe1-f0b2d231c714"
      },
      "source": [
        "#plotting\r\n",
        "plt.figure(figsize=(7,7))\r\n",
        "plt.imshow(conf_matrix)\r\n",
        "plt.title(\"Confusion matrix\", fontsize=18)\r\n",
        "plt.ylabel('Actual values', fontsize=12)\r\n",
        "plt.xlabel('Predicted values', fontsize=12)\r\n",
        "\r\n",
        "tick_marks = np.arange(NR_CLASSES)\r\n",
        "plt.yticks(tick_marks, LABEL_NAMES)\r\n",
        "plt.colorbar()\r\n",
        "\r\n",
        "import itertools\r\n",
        "for i,j in itertools.product(range(nr_rows), range(nr_cols)):\r\n",
        "  plt.text(j, i, conf_matrix[i,j], horizontalalignment='center',\r\n",
        "           color='white' if conf_matrix[i,j] > conf_matrix.max()/2 else 'black')\r\n",
        "plt.show()"
      ],
      "execution_count": 74,
      "outputs": [
        {
          "output_type": "display_data",
          "data": {
            "image/png": "[encoded data removed]",
            "text/plain": [
              "<Figure size 504x504 with 2 Axes>"
            ]
          },
          "metadata": {
            "tags": [],
            "needs_background": "light"
          }
        }
      ]
    },
    {
      "cell_type": "code",
      "metadata": {
        "colab": {
          "base_uri": "https://localhost:8080/"
        },
        "id": "ABk8Ua9AwmA5",
        "outputId": "36c7c983-46d4-4d83-d4e2-ac99f73e951b"
      },
      "source": [
        "#True positive values\r\n",
        "np.diag(conf_matrix)"
      ],
      "execution_count": 65,
      "outputs": [
        {
          "output_type": "execute_result",
          "data": {
            "text/plain": [
              "array([605, 537, 414, 263, 395, 438, 521, 603, 623, 525])"
            ]
          },
          "metadata": {
            "tags": []
          },
          "execution_count": 65
        }
      ]
    },
    {
      "cell_type": "code",
      "metadata": {
        "colab": {
          "base_uri": "https://localhost:8080/"
        },
        "id": "D2MPJX6ew6g2",
        "outputId": "5322a478-9139-4bb7-c113-6b235c613c9e"
      },
      "source": [
        "#recall value\r\n",
        "recall = np.diag(conf_matrix) /np.sum(conf_matrix, axis=1)\r\n",
        "recall"
      ],
      "execution_count": 67,
      "outputs": [
        {
          "output_type": "execute_result",
          "data": {
            "text/plain": [
              "array([0.605, 0.537, 0.414, 0.263, 0.395, 0.438, 0.521, 0.603, 0.623,\n",
              "       0.525])"
            ]
          },
          "metadata": {
            "tags": []
          },
          "execution_count": 67
        }
      ]
    },
    {
      "cell_type": "code",
      "metadata": {
        "colab": {
          "base_uri": "https://localhost:8080/"
        },
        "id": "-VMdsUdfxMKv",
        "outputId": "9c266747-7990-4790-c2f8-8f000146cc88"
      },
      "source": [
        "#precision value\r\n",
        "precision = np.diag(conf_matrix) /np.sum(conf_matrix, axis=0)\r\n",
        "precision"
      ],
      "execution_count": 68,
      "outputs": [
        {
          "output_type": "execute_result",
          "data": {
            "text/plain": [
              "array([0.513, 0.696, 0.356, 0.375, 0.428, 0.383, 0.561, 0.493, 0.59 ,\n",
              "       0.576])"
            ]
          },
          "metadata": {
            "tags": []
          },
          "execution_count": 68
        }
      ]
    },
    {
      "cell_type": "code",
      "metadata": {
        "colab": {
          "base_uri": "https://localhost:8080/"
        },
        "id": "9PJV6xHAxXHE",
        "outputId": "35f65736-6b07-4746-8c2f-978ea6b0634e"
      },
      "source": [
        "avg_recall = np.mean(recall)\r\n",
        "print(f'Model 2 recall score is {avg_recall:.3f}')"
      ],
      "execution_count": 70,
      "outputs": [
        {
          "output_type": "stream",
          "text": [
            "Model 2 recall score is 0.492\n"
          ],
          "name": "stdout"
        }
      ]
    },
    {
      "cell_type": "code",
      "metadata": {
        "colab": {
          "base_uri": "https://localhost:8080/"
        },
        "id": "g9g4rwHaxq28",
        "outputId": "c469cf55-574b-44fc-def8-f9f232b83500"
      },
      "source": [
        "avg_precision = np.mean(precision)\r\n",
        "print(f'Model 2 precision model is {avg_precision:.2f}')"
      ],
      "execution_count": 72,
      "outputs": [
        {
          "output_type": "stream",
          "text": [
            "Model 2 precision model is 0.50\n"
          ],
          "name": "stdout"
        }
      ]
    }
  ]
}