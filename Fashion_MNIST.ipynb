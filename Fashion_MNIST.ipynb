{
  "nbformat": 4,
  "nbformat_minor": 0,
  "metadata": {
    "colab": {
      "name": "Fashion_MNIST.ipynb",
      "provenance": [],
      "collapsed_sections": []
    },
    "kernelspec": {
      "name": "python3",
      "display_name": "Python 3"
    },
    "accelerator": "GPU",
    "widgets": {
      "application/vnd.jupyter.widget-state+json": {
        "1af50a667eb74074b9403facbacc7324": {
          "model_module": "@jupyter-widgets/controls",
          "model_name": "HBoxModel",
          "state": {
            "_view_name": "HBoxView",
            "_dom_classes": [],
            "_model_name": "HBoxModel",
            "_view_module": "@jupyter-widgets/controls",
            "_model_module_version": "1.5.0",
            "_view_count": null,
            "_view_module_version": "1.5.0",
            "box_style": "",
            "layout": "IPY_MODEL_9a1db797642245aa8ca5484fdad58b88",
            "_model_module": "@jupyter-widgets/controls",
            "children": [
              "IPY_MODEL_5c225b83acb54edea5f84b893019b1b4",
              "IPY_MODEL_fe74e36139f74d55b283d50f65e4f916"
            ]
          }
        },
        "9a1db797642245aa8ca5484fdad58b88": {
          "model_module": "@jupyter-widgets/base",
          "model_name": "LayoutModel",
          "state": {
            "_view_name": "LayoutView",
            "grid_template_rows": null,
            "right": null,
            "justify_content": null,
            "_view_module": "@jupyter-widgets/base",
            "overflow": null,
            "_model_module_version": "1.2.0",
            "_view_count": null,
            "flex_flow": null,
            "width": null,
            "min_width": null,
            "border": null,
            "align_items": null,
            "bottom": null,
            "_model_module": "@jupyter-widgets/base",
            "top": null,
            "grid_column": null,
            "overflow_y": null,
            "overflow_x": null,
            "grid_auto_flow": null,
            "grid_area": null,
            "grid_template_columns": null,
            "flex": null,
            "_model_name": "LayoutModel",
            "justify_items": null,
            "grid_row": null,
            "max_height": null,
            "align_content": null,
            "visibility": null,
            "align_self": null,
            "height": null,
            "min_height": null,
            "padding": null,
            "grid_auto_rows": null,
            "grid_gap": null,
            "max_width": null,
            "order": null,
            "_view_module_version": "1.2.0",
            "grid_template_areas": null,
            "object_position": null,
            "object_fit": null,
            "grid_auto_columns": null,
            "margin": null,
            "display": null,
            "left": null
          }
        },
        "5c225b83acb54edea5f84b893019b1b4": {
          "model_module": "@jupyter-widgets/controls",
          "model_name": "FloatProgressModel",
          "state": {
            "_view_name": "ProgressView",
            "style": "IPY_MODEL_6443e7509f3041a282dcfc18a31dfb9c",
            "_dom_classes": [],
            "description": "",
            "_model_name": "FloatProgressModel",
            "bar_style": "info",
            "max": 1,
            "_view_module": "@jupyter-widgets/controls",
            "_model_module_version": "1.5.0",
            "value": 1,
            "_view_count": null,
            "_view_module_version": "1.5.0",
            "orientation": "horizontal",
            "min": 0,
            "description_tooltip": null,
            "_model_module": "@jupyter-widgets/controls",
            "layout": "IPY_MODEL_2ebc63905f3d4cf8b9bd213d5f536fa0"
          }
        },
        "fe74e36139f74d55b283d50f65e4f916": {
          "model_module": "@jupyter-widgets/controls",
          "model_name": "HTMLModel",
          "state": {
            "_view_name": "HTMLView",
            "style": "IPY_MODEL_059ce2c0f0274b14b807938966a4f8d8",
            "_dom_classes": [],
            "description": "",
            "_model_name": "HTMLModel",
            "placeholder": "​",
            "_view_module": "@jupyter-widgets/controls",
            "_model_module_version": "1.5.0",
            "value": " 26427392/? [00:20&lt;00:00, 6955843.84it/s]",
            "_view_count": null,
            "_view_module_version": "1.5.0",
            "description_tooltip": null,
            "_model_module": "@jupyter-widgets/controls",
            "layout": "IPY_MODEL_d78070d4950a4d6690daf0cecc5f0a4e"
          }
        },
        "6443e7509f3041a282dcfc18a31dfb9c": {
          "model_module": "@jupyter-widgets/controls",
          "model_name": "ProgressStyleModel",
          "state": {
            "_view_name": "StyleView",
            "_model_name": "ProgressStyleModel",
            "description_width": "initial",
            "_view_module": "@jupyter-widgets/base",
            "_model_module_version": "1.5.0",
            "_view_count": null,
            "_view_module_version": "1.2.0",
            "bar_color": null,
            "_model_module": "@jupyter-widgets/controls"
          }
        },
        "2ebc63905f3d4cf8b9bd213d5f536fa0": {
          "model_module": "@jupyter-widgets/base",
          "model_name": "LayoutModel",
          "state": {
            "_view_name": "LayoutView",
            "grid_template_rows": null,
            "right": null,
            "justify_content": null,
            "_view_module": "@jupyter-widgets/base",
            "overflow": null,
            "_model_module_version": "1.2.0",
            "_view_count": null,
            "flex_flow": null,
            "width": null,
            "min_width": null,
            "border": null,
            "align_items": null,
            "bottom": null,
            "_model_module": "@jupyter-widgets/base",
            "top": null,
            "grid_column": null,
            "overflow_y": null,
            "overflow_x": null,
            "grid_auto_flow": null,
            "grid_area": null,
            "grid_template_columns": null,
            "flex": null,
            "_model_name": "LayoutModel",
            "justify_items": null,
            "grid_row": null,
            "max_height": null,
            "align_content": null,
            "visibility": null,
            "align_self": null,
            "height": null,
            "min_height": null,
            "padding": null,
            "grid_auto_rows": null,
            "grid_gap": null,
            "max_width": null,
            "order": null,
            "_view_module_version": "1.2.0",
            "grid_template_areas": null,
            "object_position": null,
            "object_fit": null,
            "grid_auto_columns": null,
            "margin": null,
            "display": null,
            "left": null
          }
        },
        "059ce2c0f0274b14b807938966a4f8d8": {
          "model_module": "@jupyter-widgets/controls",
          "model_name": "DescriptionStyleModel",
          "state": {
            "_view_name": "StyleView",
            "_model_name": "DescriptionStyleModel",
            "description_width": "",
            "_view_module": "@jupyter-widgets/base",
            "_model_module_version": "1.5.0",
            "_view_count": null,
            "_view_module_version": "1.2.0",
            "_model_module": "@jupyter-widgets/controls"
          }
        },
        "d78070d4950a4d6690daf0cecc5f0a4e": {
          "model_module": "@jupyter-widgets/base",
          "model_name": "LayoutModel",
          "state": {
            "_view_name": "LayoutView",
            "grid_template_rows": null,
            "right": null,
            "justify_content": null,
            "_view_module": "@jupyter-widgets/base",
            "overflow": null,
            "_model_module_version": "1.2.0",
            "_view_count": null,
            "flex_flow": null,
            "width": null,
            "min_width": null,
            "border": null,
            "align_items": null,
            "bottom": null,
            "_model_module": "@jupyter-widgets/base",
            "top": null,
            "grid_column": null,
            "overflow_y": null,
            "overflow_x": null,
            "grid_auto_flow": null,
            "grid_area": null,
            "grid_template_columns": null,
            "flex": null,
            "_model_name": "LayoutModel",
            "justify_items": null,
            "grid_row": null,
            "max_height": null,
            "align_content": null,
            "visibility": null,
            "align_self": null,
            "height": null,
            "min_height": null,
            "padding": null,
            "grid_auto_rows": null,
            "grid_gap": null,
            "max_width": null,
            "order": null,
            "_view_module_version": "1.2.0",
            "grid_template_areas": null,
            "object_position": null,
            "object_fit": null,
            "grid_auto_columns": null,
            "margin": null,
            "display": null,
            "left": null
          }
        },
        "fe76ae9962564d629c28d5857ef9701a": {
          "model_module": "@jupyter-widgets/controls",
          "model_name": "HBoxModel",
          "state": {
            "_view_name": "HBoxView",
            "_dom_classes": [],
            "_model_name": "HBoxModel",
            "_view_module": "@jupyter-widgets/controls",
            "_model_module_version": "1.5.0",
            "_view_count": null,
            "_view_module_version": "1.5.0",
            "box_style": "",
            "layout": "IPY_MODEL_bcaa399aadf3401cb9f55de5ac67c3d7",
            "_model_module": "@jupyter-widgets/controls",
            "children": [
              "IPY_MODEL_d52d71b7d14543ab8d70b240b7e29796",
              "IPY_MODEL_1e4f251ab3d1477387c4f6c31bf375cb"
            ]
          }
        },
        "bcaa399aadf3401cb9f55de5ac67c3d7": {
          "model_module": "@jupyter-widgets/base",
          "model_name": "LayoutModel",
          "state": {
            "_view_name": "LayoutView",
            "grid_template_rows": null,
            "right": null,
            "justify_content": null,
            "_view_module": "@jupyter-widgets/base",
            "overflow": null,
            "_model_module_version": "1.2.0",
            "_view_count": null,
            "flex_flow": null,
            "width": null,
            "min_width": null,
            "border": null,
            "align_items": null,
            "bottom": null,
            "_model_module": "@jupyter-widgets/base",
            "top": null,
            "grid_column": null,
            "overflow_y": null,
            "overflow_x": null,
            "grid_auto_flow": null,
            "grid_area": null,
            "grid_template_columns": null,
            "flex": null,
            "_model_name": "LayoutModel",
            "justify_items": null,
            "grid_row": null,
            "max_height": null,
            "align_content": null,
            "visibility": null,
            "align_self": null,
            "height": null,
            "min_height": null,
            "padding": null,
            "grid_auto_rows": null,
            "grid_gap": null,
            "max_width": null,
            "order": null,
            "_view_module_version": "1.2.0",
            "grid_template_areas": null,
            "object_position": null,
            "object_fit": null,
            "grid_auto_columns": null,
            "margin": null,
            "display": null,
            "left": null
          }
        },
        "d52d71b7d14543ab8d70b240b7e29796": {
          "model_module": "@jupyter-widgets/controls",
          "model_name": "FloatProgressModel",
          "state": {
            "_view_name": "ProgressView",
            "style": "IPY_MODEL_03059d7115ce4136b5cc7bd8900c6db1",
            "_dom_classes": [],
            "description": "",
            "_model_name": "FloatProgressModel",
            "bar_style": "success",
            "max": 1,
            "_view_module": "@jupyter-widgets/controls",
            "_model_module_version": "1.5.0",
            "value": 1,
            "_view_count": null,
            "_view_module_version": "1.5.0",
            "orientation": "horizontal",
            "min": 0,
            "description_tooltip": null,
            "_model_module": "@jupyter-widgets/controls",
            "layout": "IPY_MODEL_05e22ce9ad0d43758e41b499dbcbb222"
          }
        },
        "1e4f251ab3d1477387c4f6c31bf375cb": {
          "model_module": "@jupyter-widgets/controls",
          "model_name": "HTMLModel",
          "state": {
            "_view_name": "HTMLView",
            "style": "IPY_MODEL_9c3da30dffea4b7d8a6d8f372aaae12d",
            "_dom_classes": [],
            "description": "",
            "_model_name": "HTMLModel",
            "placeholder": "​",
            "_view_module": "@jupyter-widgets/controls",
            "_model_module_version": "1.5.0",
            "value": " 32768/? [00:00&lt;00:00, 64008.42it/s]",
            "_view_count": null,
            "_view_module_version": "1.5.0",
            "description_tooltip": null,
            "_model_module": "@jupyter-widgets/controls",
            "layout": "IPY_MODEL_a9a2e7d4567d49e18516b4e812f56015"
          }
        },
        "03059d7115ce4136b5cc7bd8900c6db1": {
          "model_module": "@jupyter-widgets/controls",
          "model_name": "ProgressStyleModel",
          "state": {
            "_view_name": "StyleView",
            "_model_name": "ProgressStyleModel",
            "description_width": "initial",
            "_view_module": "@jupyter-widgets/base",
            "_model_module_version": "1.5.0",
            "_view_count": null,
            "_view_module_version": "1.2.0",
            "bar_color": null,
            "_model_module": "@jupyter-widgets/controls"
          }
        },
        "05e22ce9ad0d43758e41b499dbcbb222": {
          "model_module": "@jupyter-widgets/base",
          "model_name": "LayoutModel",
          "state": {
            "_view_name": "LayoutView",
            "grid_template_rows": null,
            "right": null,
            "justify_content": null,
            "_view_module": "@jupyter-widgets/base",
            "overflow": null,
            "_model_module_version": "1.2.0",
            "_view_count": null,
            "flex_flow": null,
            "width": null,
            "min_width": null,
            "border": null,
            "align_items": null,
            "bottom": null,
            "_model_module": "@jupyter-widgets/base",
            "top": null,
            "grid_column": null,
            "overflow_y": null,
            "overflow_x": null,
            "grid_auto_flow": null,
            "grid_area": null,
            "grid_template_columns": null,
            "flex": null,
            "_model_name": "LayoutModel",
            "justify_items": null,
            "grid_row": null,
            "max_height": null,
            "align_content": null,
            "visibility": null,
            "align_self": null,
            "height": null,
            "min_height": null,
            "padding": null,
            "grid_auto_rows": null,
            "grid_gap": null,
            "max_width": null,
            "order": null,
            "_view_module_version": "1.2.0",
            "grid_template_areas": null,
            "object_position": null,
            "object_fit": null,
            "grid_auto_columns": null,
            "margin": null,
            "display": null,
            "left": null
          }
        },
        "9c3da30dffea4b7d8a6d8f372aaae12d": {
          "model_module": "@jupyter-widgets/controls",
          "model_name": "DescriptionStyleModel",
          "state": {
            "_view_name": "StyleView",
            "_model_name": "DescriptionStyleModel",
            "description_width": "",
            "_view_module": "@jupyter-widgets/base",
            "_model_module_version": "1.5.0",
            "_view_count": null,
            "_view_module_version": "1.2.0",
            "_model_module": "@jupyter-widgets/controls"
          }
        },
        "a9a2e7d4567d49e18516b4e812f56015": {
          "model_module": "@jupyter-widgets/base",
          "model_name": "LayoutModel",
          "state": {
            "_view_name": "LayoutView",
            "grid_template_rows": null,
            "right": null,
            "justify_content": null,
            "_view_module": "@jupyter-widgets/base",
            "overflow": null,
            "_model_module_version": "1.2.0",
            "_view_count": null,
            "flex_flow": null,
            "width": null,
            "min_width": null,
            "border": null,
            "align_items": null,
            "bottom": null,
            "_model_module": "@jupyter-widgets/base",
            "top": null,
            "grid_column": null,
            "overflow_y": null,
            "overflow_x": null,
            "grid_auto_flow": null,
            "grid_area": null,
            "grid_template_columns": null,
            "flex": null,
            "_model_name": "LayoutModel",
            "justify_items": null,
            "grid_row": null,
            "max_height": null,
            "align_content": null,
            "visibility": null,
            "align_self": null,
            "height": null,
            "min_height": null,
            "padding": null,
            "grid_auto_rows": null,
            "grid_gap": null,
            "max_width": null,
            "order": null,
            "_view_module_version": "1.2.0",
            "grid_template_areas": null,
            "object_position": null,
            "object_fit": null,
            "grid_auto_columns": null,
            "margin": null,
            "display": null,
            "left": null
          }
        },
        "37652ebd1be74794bf2b7b3c43933901": {
          "model_module": "@jupyter-widgets/controls",
          "model_name": "HBoxModel",
          "state": {
            "_view_name": "HBoxView",
            "_dom_classes": [],
            "_model_name": "HBoxModel",
            "_view_module": "@jupyter-widgets/controls",
            "_model_module_version": "1.5.0",
            "_view_count": null,
            "_view_module_version": "1.5.0",
            "box_style": "",
            "layout": "IPY_MODEL_ad2c9f06a166450fbea57590499f3288",
            "_model_module": "@jupyter-widgets/controls",
            "children": [
              "IPY_MODEL_19ab75ad925f48e99f2c307b50ee856d",
              "IPY_MODEL_2cbd2203e79948b28b80f4e88780449d"
            ]
          }
        },
        "ad2c9f06a166450fbea57590499f3288": {
          "model_module": "@jupyter-widgets/base",
          "model_name": "LayoutModel",
          "state": {
            "_view_name": "LayoutView",
            "grid_template_rows": null,
            "right": null,
            "justify_content": null,
            "_view_module": "@jupyter-widgets/base",
            "overflow": null,
            "_model_module_version": "1.2.0",
            "_view_count": null,
            "flex_flow": null,
            "width": null,
            "min_width": null,
            "border": null,
            "align_items": null,
            "bottom": null,
            "_model_module": "@jupyter-widgets/base",
            "top": null,
            "grid_column": null,
            "overflow_y": null,
            "overflow_x": null,
            "grid_auto_flow": null,
            "grid_area": null,
            "grid_template_columns": null,
            "flex": null,
            "_model_name": "LayoutModel",
            "justify_items": null,
            "grid_row": null,
            "max_height": null,
            "align_content": null,
            "visibility": null,
            "align_self": null,
            "height": null,
            "min_height": null,
            "padding": null,
            "grid_auto_rows": null,
            "grid_gap": null,
            "max_width": null,
            "order": null,
            "_view_module_version": "1.2.0",
            "grid_template_areas": null,
            "object_position": null,
            "object_fit": null,
            "grid_auto_columns": null,
            "margin": null,
            "display": null,
            "left": null
          }
        },
        "19ab75ad925f48e99f2c307b50ee856d": {
          "model_module": "@jupyter-widgets/controls",
          "model_name": "FloatProgressModel",
          "state": {
            "_view_name": "ProgressView",
            "style": "IPY_MODEL_8b46cfa9a9a14e368696f9ee098ee784",
            "_dom_classes": [],
            "description": "",
            "_model_name": "FloatProgressModel",
            "bar_style": "info",
            "max": 1,
            "_view_module": "@jupyter-widgets/controls",
            "_model_module_version": "1.5.0",
            "value": 1,
            "_view_count": null,
            "_view_module_version": "1.5.0",
            "orientation": "horizontal",
            "min": 0,
            "description_tooltip": null,
            "_model_module": "@jupyter-widgets/controls",
            "layout": "IPY_MODEL_6a5f69ad1ec84ab78af3dd643eed8cbe"
          }
        },
        "2cbd2203e79948b28b80f4e88780449d": {
          "model_module": "@jupyter-widgets/controls",
          "model_name": "HTMLModel",
          "state": {
            "_view_name": "HTMLView",
            "style": "IPY_MODEL_bf7c4f09fc59400cb0b9249038eb86b1",
            "_dom_classes": [],
            "description": "",
            "_model_name": "HTMLModel",
            "placeholder": "​",
            "_view_module": "@jupyter-widgets/controls",
            "_model_module_version": "1.5.0",
            "value": " 4423680/? [00:16&lt;00:00, 815523.16it/s]",
            "_view_count": null,
            "_view_module_version": "1.5.0",
            "description_tooltip": null,
            "_model_module": "@jupyter-widgets/controls",
            "layout": "IPY_MODEL_c5acc2ea0bc14602bfdde0c56f93704b"
          }
        },
        "8b46cfa9a9a14e368696f9ee098ee784": {
          "model_module": "@jupyter-widgets/controls",
          "model_name": "ProgressStyleModel",
          "state": {
            "_view_name": "StyleView",
            "_model_name": "ProgressStyleModel",
            "description_width": "initial",
            "_view_module": "@jupyter-widgets/base",
            "_model_module_version": "1.5.0",
            "_view_count": null,
            "_view_module_version": "1.2.0",
            "bar_color": null,
            "_model_module": "@jupyter-widgets/controls"
          }
        },
        "6a5f69ad1ec84ab78af3dd643eed8cbe": {
          "model_module": "@jupyter-widgets/base",
          "model_name": "LayoutModel",
          "state": {
            "_view_name": "LayoutView",
            "grid_template_rows": null,
            "right": null,
            "justify_content": null,
            "_view_module": "@jupyter-widgets/base",
            "overflow": null,
            "_model_module_version": "1.2.0",
            "_view_count": null,
            "flex_flow": null,
            "width": null,
            "min_width": null,
            "border": null,
            "align_items": null,
            "bottom": null,
            "_model_module": "@jupyter-widgets/base",
            "top": null,
            "grid_column": null,
            "overflow_y": null,
            "overflow_x": null,
            "grid_auto_flow": null,
            "grid_area": null,
            "grid_template_columns": null,
            "flex": null,
            "_model_name": "LayoutModel",
            "justify_items": null,
            "grid_row": null,
            "max_height": null,
            "align_content": null,
            "visibility": null,
            "align_self": null,
            "height": null,
            "min_height": null,
            "padding": null,
            "grid_auto_rows": null,
            "grid_gap": null,
            "max_width": null,
            "order": null,
            "_view_module_version": "1.2.0",
            "grid_template_areas": null,
            "object_position": null,
            "object_fit": null,
            "grid_auto_columns": null,
            "margin": null,
            "display": null,
            "left": null
          }
        },
        "bf7c4f09fc59400cb0b9249038eb86b1": {
          "model_module": "@jupyter-widgets/controls",
          "model_name": "DescriptionStyleModel",
          "state": {
            "_view_name": "StyleView",
            "_model_name": "DescriptionStyleModel",
            "description_width": "",
            "_view_module": "@jupyter-widgets/base",
            "_model_module_version": "1.5.0",
            "_view_count": null,
            "_view_module_version": "1.2.0",
            "_model_module": "@jupyter-widgets/controls"
          }
        },
        "c5acc2ea0bc14602bfdde0c56f93704b": {
          "model_module": "@jupyter-widgets/base",
          "model_name": "LayoutModel",
          "state": {
            "_view_name": "LayoutView",
            "grid_template_rows": null,
            "right": null,
            "justify_content": null,
            "_view_module": "@jupyter-widgets/base",
            "overflow": null,
            "_model_module_version": "1.2.0",
            "_view_count": null,
            "flex_flow": null,
            "width": null,
            "min_width": null,
            "border": null,
            "align_items": null,
            "bottom": null,
            "_model_module": "@jupyter-widgets/base",
            "top": null,
            "grid_column": null,
            "overflow_y": null,
            "overflow_x": null,
            "grid_auto_flow": null,
            "grid_area": null,
            "grid_template_columns": null,
            "flex": null,
            "_model_name": "LayoutModel",
            "justify_items": null,
            "grid_row": null,
            "max_height": null,
            "align_content": null,
            "visibility": null,
            "align_self": null,
            "height": null,
            "min_height": null,
            "padding": null,
            "grid_auto_rows": null,
            "grid_gap": null,
            "max_width": null,
            "order": null,
            "_view_module_version": "1.2.0",
            "grid_template_areas": null,
            "object_position": null,
            "object_fit": null,
            "grid_auto_columns": null,
            "margin": null,
            "display": null,
            "left": null
          }
        },
        "b0d8e7d62c6a4c97b72641cb3db1793c": {
          "model_module": "@jupyter-widgets/controls",
          "model_name": "HBoxModel",
          "state": {
            "_view_name": "HBoxView",
            "_dom_classes": [],
            "_model_name": "HBoxModel",
            "_view_module": "@jupyter-widgets/controls",
            "_model_module_version": "1.5.0",
            "_view_count": null,
            "_view_module_version": "1.5.0",
            "box_style": "",
            "layout": "IPY_MODEL_2ac4de25dda5403691ec8279983c9a99",
            "_model_module": "@jupyter-widgets/controls",
            "children": [
              "IPY_MODEL_57733f5c2b26479faaa4bb8ef10af386",
              "IPY_MODEL_545d16d0961f4d41a6134bb2261130af"
            ]
          }
        },
        "2ac4de25dda5403691ec8279983c9a99": {
          "model_module": "@jupyter-widgets/base",
          "model_name": "LayoutModel",
          "state": {
            "_view_name": "LayoutView",
            "grid_template_rows": null,
            "right": null,
            "justify_content": null,
            "_view_module": "@jupyter-widgets/base",
            "overflow": null,
            "_model_module_version": "1.2.0",
            "_view_count": null,
            "flex_flow": null,
            "width": null,
            "min_width": null,
            "border": null,
            "align_items": null,
            "bottom": null,
            "_model_module": "@jupyter-widgets/base",
            "top": null,
            "grid_column": null,
            "overflow_y": null,
            "overflow_x": null,
            "grid_auto_flow": null,
            "grid_area": null,
            "grid_template_columns": null,
            "flex": null,
            "_model_name": "LayoutModel",
            "justify_items": null,
            "grid_row": null,
            "max_height": null,
            "align_content": null,
            "visibility": null,
            "align_self": null,
            "height": null,
            "min_height": null,
            "padding": null,
            "grid_auto_rows": null,
            "grid_gap": null,
            "max_width": null,
            "order": null,
            "_view_module_version": "1.2.0",
            "grid_template_areas": null,
            "object_position": null,
            "object_fit": null,
            "grid_auto_columns": null,
            "margin": null,
            "display": null,
            "left": null
          }
        },
        "57733f5c2b26479faaa4bb8ef10af386": {
          "model_module": "@jupyter-widgets/controls",
          "model_name": "FloatProgressModel",
          "state": {
            "_view_name": "ProgressView",
            "style": "IPY_MODEL_8caf5a507faa4b189538a60379fecfbe",
            "_dom_classes": [],
            "description": "  0%",
            "_model_name": "FloatProgressModel",
            "bar_style": "info",
            "max": 1,
            "_view_module": "@jupyter-widgets/controls",
            "_model_module_version": "1.5.0",
            "value": 0,
            "_view_count": null,
            "_view_module_version": "1.5.0",
            "orientation": "horizontal",
            "min": 0,
            "description_tooltip": null,
            "_model_module": "@jupyter-widgets/controls",
            "layout": "IPY_MODEL_daa3748db9384a86b199aab6fa1eaee7"
          }
        },
        "545d16d0961f4d41a6134bb2261130af": {
          "model_module": "@jupyter-widgets/controls",
          "model_name": "HTMLModel",
          "state": {
            "_view_name": "HTMLView",
            "style": "IPY_MODEL_f4ee71f63b2a462b95f1fe94c012e93e",
            "_dom_classes": [],
            "description": "",
            "_model_name": "HTMLModel",
            "placeholder": "​",
            "_view_module": "@jupyter-widgets/controls",
            "_model_module_version": "1.5.0",
            "value": " 0/5148 [00:00&lt;?, ?it/s]",
            "_view_count": null,
            "_view_module_version": "1.5.0",
            "description_tooltip": null,
            "_model_module": "@jupyter-widgets/controls",
            "layout": "IPY_MODEL_49277d91569f413381df1c23aead8825"
          }
        },
        "8caf5a507faa4b189538a60379fecfbe": {
          "model_module": "@jupyter-widgets/controls",
          "model_name": "ProgressStyleModel",
          "state": {
            "_view_name": "StyleView",
            "_model_name": "ProgressStyleModel",
            "description_width": "initial",
            "_view_module": "@jupyter-widgets/base",
            "_model_module_version": "1.5.0",
            "_view_count": null,
            "_view_module_version": "1.2.0",
            "bar_color": null,
            "_model_module": "@jupyter-widgets/controls"
          }
        },
        "daa3748db9384a86b199aab6fa1eaee7": {
          "model_module": "@jupyter-widgets/base",
          "model_name": "LayoutModel",
          "state": {
            "_view_name": "LayoutView",
            "grid_template_rows": null,
            "right": null,
            "justify_content": null,
            "_view_module": "@jupyter-widgets/base",
            "overflow": null,
            "_model_module_version": "1.2.0",
            "_view_count": null,
            "flex_flow": null,
            "width": null,
            "min_width": null,
            "border": null,
            "align_items": null,
            "bottom": null,
            "_model_module": "@jupyter-widgets/base",
            "top": null,
            "grid_column": null,
            "overflow_y": null,
            "overflow_x": null,
            "grid_auto_flow": null,
            "grid_area": null,
            "grid_template_columns": null,
            "flex": null,
            "_model_name": "LayoutModel",
            "justify_items": null,
            "grid_row": null,
            "max_height": null,
            "align_content": null,
            "visibility": null,
            "align_self": null,
            "height": null,
            "min_height": null,
            "padding": null,
            "grid_auto_rows": null,
            "grid_gap": null,
            "max_width": null,
            "order": null,
            "_view_module_version": "1.2.0",
            "grid_template_areas": null,
            "object_position": null,
            "object_fit": null,
            "grid_auto_columns": null,
            "margin": null,
            "display": null,
            "left": null
          }
        },
        "f4ee71f63b2a462b95f1fe94c012e93e": {
          "model_module": "@jupyter-widgets/controls",
          "model_name": "DescriptionStyleModel",
          "state": {
            "_view_name": "StyleView",
            "_model_name": "DescriptionStyleModel",
            "description_width": "",
            "_view_module": "@jupyter-widgets/base",
            "_model_module_version": "1.5.0",
            "_view_count": null,
            "_view_module_version": "1.2.0",
            "_model_module": "@jupyter-widgets/controls"
          }
        },
        "49277d91569f413381df1c23aead8825": {
          "model_module": "@jupyter-widgets/base",
          "model_name": "LayoutModel",
          "state": {
            "_view_name": "LayoutView",
            "grid_template_rows": null,
            "right": null,
            "justify_content": null,
            "_view_module": "@jupyter-widgets/base",
            "overflow": null,
            "_model_module_version": "1.2.0",
            "_view_count": null,
            "flex_flow": null,
            "width": null,
            "min_width": null,
            "border": null,
            "align_items": null,
            "bottom": null,
            "_model_module": "@jupyter-widgets/base",
            "top": null,
            "grid_column": null,
            "overflow_y": null,
            "overflow_x": null,
            "grid_auto_flow": null,
            "grid_area": null,
            "grid_template_columns": null,
            "flex": null,
            "_model_name": "LayoutModel",
            "justify_items": null,
            "grid_row": null,
            "max_height": null,
            "align_content": null,
            "visibility": null,
            "align_self": null,
            "height": null,
            "min_height": null,
            "padding": null,
            "grid_auto_rows": null,
            "grid_gap": null,
            "max_width": null,
            "order": null,
            "_view_module_version": "1.2.0",
            "grid_template_areas": null,
            "object_position": null,
            "object_fit": null,
            "grid_auto_columns": null,
            "margin": null,
            "display": null,
            "left": null
          }
        }
      }
    }
  },
  "cells": [
    {
      "cell_type": "code",
      "metadata": {
        "id": "pvwgwO4CFco2",
        "colab_type": "code",
        "colab": {}
      },
      "source": [
        "#required libraries are imported here\n",
        "import torch\n",
        "import numpy as np\n",
        "import torch.nn as nn\n",
        "import torch.optim as optim\n",
        "from torch.utils.data import DataLoader\n",
        "import torch.nn.functional as F\n",
        "from torchvision import datasets, transforms\n",
        "from torchvision.utils import make_grid\n",
        "from tqdm import tqdm\n",
        "#divide the dataset to subsets\n",
        "from torch.utils.data.sampler import SubsetRandomSampler\n",
        "\n",
        "import matplotlib.pyplot as plt\n",
        "%matplotlib inline"
      ],
      "execution_count": null,
      "outputs": []
    },
    {
      "cell_type": "code",
      "metadata": {
        "id": "fAoNK7YnGHdE",
        "colab_type": "code",
        "colab": {
          "base_uri": "https://localhost:8080/",
          "height": 386,
          "referenced_widgets": [
            "1af50a667eb74074b9403facbacc7324",
            "9a1db797642245aa8ca5484fdad58b88",
            "5c225b83acb54edea5f84b893019b1b4",
            "fe74e36139f74d55b283d50f65e4f916",
            "6443e7509f3041a282dcfc18a31dfb9c",
            "2ebc63905f3d4cf8b9bd213d5f536fa0",
            "059ce2c0f0274b14b807938966a4f8d8",
            "d78070d4950a4d6690daf0cecc5f0a4e",
            "fe76ae9962564d629c28d5857ef9701a",
            "bcaa399aadf3401cb9f55de5ac67c3d7",
            "d52d71b7d14543ab8d70b240b7e29796",
            "1e4f251ab3d1477387c4f6c31bf375cb",
            "03059d7115ce4136b5cc7bd8900c6db1",
            "05e22ce9ad0d43758e41b499dbcbb222",
            "9c3da30dffea4b7d8a6d8f372aaae12d",
            "a9a2e7d4567d49e18516b4e812f56015",
            "37652ebd1be74794bf2b7b3c43933901",
            "ad2c9f06a166450fbea57590499f3288",
            "19ab75ad925f48e99f2c307b50ee856d",
            "2cbd2203e79948b28b80f4e88780449d",
            "8b46cfa9a9a14e368696f9ee098ee784",
            "6a5f69ad1ec84ab78af3dd643eed8cbe",
            "bf7c4f09fc59400cb0b9249038eb86b1",
            "c5acc2ea0bc14602bfdde0c56f93704b",
            "b0d8e7d62c6a4c97b72641cb3db1793c",
            "2ac4de25dda5403691ec8279983c9a99",
            "57733f5c2b26479faaa4bb8ef10af386",
            "545d16d0961f4d41a6134bb2261130af",
            "8caf5a507faa4b189538a60379fecfbe",
            "daa3748db9384a86b199aab6fa1eaee7",
            "f4ee71f63b2a462b95f1fe94c012e93e",
            "49277d91569f413381df1c23aead8825"
          ]
        },
        "outputId": "31396b5d-7152-4b5b-8878-d8dc81913e1a"
      },
      "source": [
        "\n",
        "# Define a transform to normalize the data\n",
        "transform = transforms.Compose([transforms.ToTensor(),\n",
        "transforms.Normalize((0.5,), (0.5,))\n",
        "])\n",
        "\n",
        "# Download and load the training data\n",
        "trainset = datasets.FashionMNIST('MNIST_data/', download = True, train = True, transform = transform)\n",
        "testset = datasets.FashionMNIST('MNIST_data/', download = True, train = False, transform = transform)\n",
        "trainloader = torch.utils.data.DataLoader(trainset, batch_size = 64, shuffle = True)\n",
        "testloader = torch.utils.data.DataLoader(testset, batch_size = 64, shuffle = True)"
      ],
      "execution_count": null,
      "outputs": [
        {
          "output_type": "stream",
          "text": [
            "Downloading http://fashion-mnist.s3-website.eu-central-1.amazonaws.com/train-images-idx3-ubyte.gz to MNIST_data/FashionMNIST/raw/train-images-idx3-ubyte.gz\n"
          ],
          "name": "stdout"
        },
        {
          "output_type": "display_data",
          "data": {
            "application/vnd.jupyter.widget-view+json": {
              "model_id": "1af50a667eb74074b9403facbacc7324",
              "version_minor": 0,
              "version_major": 2
            },
            "text/plain": [
              "HBox(children=(FloatProgress(value=1.0, bar_style='info', max=1.0), HTML(value='')))"
            ]
          },
          "metadata": {
            "tags": []
          }
        },
        {
          "output_type": "stream",
          "text": [
            "Extracting MNIST_data/FashionMNIST/raw/train-images-idx3-ubyte.gz to MNIST_data/FashionMNIST/raw\n",
            "Downloading http://fashion-mnist.s3-website.eu-central-1.amazonaws.com/train-labels-idx1-ubyte.gz to MNIST_data/FashionMNIST/raw/train-labels-idx1-ubyte.gz\n"
          ],
          "name": "stdout"
        },
        {
          "output_type": "display_data",
          "data": {
            "application/vnd.jupyter.widget-view+json": {
              "model_id": "fe76ae9962564d629c28d5857ef9701a",
              "version_minor": 0,
              "version_major": 2
            },
            "text/plain": [
              "HBox(children=(FloatProgress(value=1.0, bar_style='info', max=1.0), HTML(value='')))"
            ]
          },
          "metadata": {
            "tags": []
          }
        },
        {
          "output_type": "stream",
          "text": [
            "Extracting MNIST_data/FashionMNIST/raw/train-labels-idx1-ubyte.gz to MNIST_data/FashionMNIST/raw\n",
            "Downloading http://fashion-mnist.s3-website.eu-central-1.amazonaws.com/t10k-images-idx3-ubyte.gz to MNIST_data/FashionMNIST/raw/t10k-images-idx3-ubyte.gz\n",
            "\n"
          ],
          "name": "stdout"
        },
        {
          "output_type": "display_data",
          "data": {
            "application/vnd.jupyter.widget-view+json": {
              "model_id": "37652ebd1be74794bf2b7b3c43933901",
              "version_minor": 0,
              "version_major": 2
            },
            "text/plain": [
              "HBox(children=(FloatProgress(value=1.0, bar_style='info', max=1.0), HTML(value='')))"
            ]
          },
          "metadata": {
            "tags": []
          }
        },
        {
          "output_type": "stream",
          "text": [
            "Extracting MNIST_data/FashionMNIST/raw/t10k-images-idx3-ubyte.gz to MNIST_data/FashionMNIST/raw\n",
            "Downloading http://fashion-mnist.s3-website.eu-central-1.amazonaws.com/t10k-labels-idx1-ubyte.gz to MNIST_data/FashionMNIST/raw/t10k-labels-idx1-ubyte.gz\n"
          ],
          "name": "stdout"
        },
        {
          "output_type": "display_data",
          "data": {
            "application/vnd.jupyter.widget-view+json": {
              "model_id": "b0d8e7d62c6a4c97b72641cb3db1793c",
              "version_minor": 0,
              "version_major": 2
            },
            "text/plain": [
              "HBox(children=(FloatProgress(value=1.0, bar_style='info', max=1.0), HTML(value='')))"
            ]
          },
          "metadata": {
            "tags": []
          }
        },
        {
          "output_type": "stream",
          "text": [
            "Extracting MNIST_data/FashionMNIST/raw/t10k-labels-idx1-ubyte.gz to MNIST_data/FashionMNIST/raw\n",
            "Processing...\n",
            "Done!\n"
          ],
          "name": "stdout"
        },
        {
          "output_type": "stream",
          "text": [
            "/usr/local/lib/python3.6/dist-packages/torchvision/datasets/mnist.py:469: UserWarning: The given NumPy array is not writeable, and PyTorch does not support non-writeable tensors. This means you can write to the underlying (supposedly non-writeable) NumPy array using the tensor. You may want to copy the array to protect its data or make it writeable before converting it to a tensor. This type of warning will be suppressed for the rest of this program. (Triggered internally at  /pytorch/torch/csrc/utils/tensor_numpy.cpp:141.)\n",
            "  return torch.from_numpy(parsed.astype(m[2], copy=False)).view(*s)\n"
          ],
          "name": "stderr"
        }
      ]
    },
    {
      "cell_type": "code",
      "metadata": {
        "id": "bBA3RGRsGL1c",
        "colab_type": "code",
        "colab": {
          "base_uri": "https://localhost:8080/",
          "height": 68
        },
        "outputId": "a456bf5e-f05d-444c-af5f-d0e365c53aa3"
      },
      "source": [
        "# check for the  sample\n",
        "dataiter = iter(trainloader)\n",
        "images, labels = dataiter.next()\n",
        "print(type(images))\n",
        "print(images.shape)\n",
        "print(labels.shape)"
      ],
      "execution_count": null,
      "outputs": [
        {
          "output_type": "stream",
          "text": [
            "<class 'torch.Tensor'>\n",
            "torch.Size([64, 1, 28, 28])\n",
            "torch.Size([64])\n"
          ],
          "name": "stdout"
        }
      ]
    },
    {
      "cell_type": "code",
      "metadata": {
        "id": "nNxsUP2HLGsq",
        "colab_type": "code",
        "colab": {
          "base_uri": "https://localhost:8080/",
          "height": 282
        },
        "outputId": "1844b525-d357-46ba-f4a5-cb7eddb34369"
      },
      "source": [
        "# visualizing data\n",
        "plt.imshow(images[1].numpy().squeeze(), cmap = 'Greys_r')"
      ],
      "execution_count": null,
      "outputs": [
        {
          "output_type": "execute_result",
          "data": {
            "text/plain": [
              "<matplotlib.image.AxesImage at 0x7fd60d27d7b8>"
            ]
          },
          "metadata": {
            "tags": []
          },
          "execution_count": 4
        },
        {
          "output_type": "display_data",
          "data": {
            "image/png": "[encoded data removed]",
            "text/plain": [
              "<Figure size 432x288 with 1 Axes>"
            ]
          },
          "metadata": {
            "tags": [],
            "needs_background": "light"
          }
        }
      ]
    },
    {
      "cell_type": "code",
      "metadata": {
        "id": "Kl6KrBW3LnSc",
        "colab_type": "code",
        "colab": {
          "base_uri": "https://localhost:8080/",
          "height": 1000
        },
        "outputId": "731c65c0-dd1a-4de6-c599-a0ae3119d2c5"
      },
      "source": [
        "# Define the network architecture\n",
        "model = nn.Sequential(nn.Linear(784, 650),\n",
        "                      nn.ReLU(),\n",
        "                      nn.Dropout(0.2),\n",
        "                      nn.Linear(650, 420),\n",
        "                      nn.ReLU(),\n",
        "                      nn.Dropout(0.2),\n",
        "                      nn.Linear(420, 360),\n",
        "                      nn.ReLU(),\n",
        "                      nn.Dropout(0.2),\n",
        "                      nn.Linear(360, 230),\n",
        "                      nn.ReLU(),\n",
        "                      nn.Dropout(0.2),\n",
        "                      nn.Linear(230, 10),\n",
        "                      nn.LogSoftmax(dim = 1)\n",
        "                     )\n",
        "\n",
        "# Define the loss\n",
        "criterion = nn.NLLLoss()\n",
        "\n",
        "# Define the optimizer\n",
        "optimizer = optim.Adam(model.parameters(), lr = 0.001)\n",
        "\n",
        "# Define the epochs\n",
        "epochs = 150\n",
        "train_losses, test_losses = [], []\n",
        "\n",
        "for e in range(epochs):\n",
        "  running_loss = 0\n",
        "  for images, labels in trainloader:\n",
        "    # Flatten Fashion-MNIST images into a 784 long vector\n",
        "    images = images.view(images.shape[0], -1)\n",
        "    optimizer.zero_grad()\n",
        "    \n",
        "    output = model.forward(images)\n",
        "    loss = criterion(output, labels)\n",
        "    #backward propagation\n",
        "    loss.backward()\n",
        "    optimizer.step()\n",
        "    \n",
        "    running_loss += loss.item()\n",
        "  else:\n",
        "    test_loss = 0\n",
        "    accuracy = 0\n",
        "    # Turn off gradients for validation\n",
        "    with torch.no_grad():\n",
        "      # Set the model to evaluation mode\n",
        "      model.eval()\n",
        "      \n",
        "      # Validation pass\n",
        "      for images, labels in testloader:\n",
        "        images = images.view(images.shape[0], -1)\n",
        "        log_ps = model(images)\n",
        "        test_loss += criterion(log_ps, labels)\n",
        "        \n",
        "        ps = torch.exp(log_ps)\n",
        "        top_p, top_class = ps.topk(1, dim = 1)\n",
        "        equals = top_class == labels.view(*top_class.shape)\n",
        "        accuracy += torch.mean(equals.type(torch.FloatTensor))\n",
        "    \n",
        "    model.train()\n",
        "    train_losses.append(running_loss/len(trainloader))\n",
        "    test_losses.append(test_loss/len(testloader))\n",
        "    \n",
        "    print(\"Epoch: {}/{}..\".format(e+1, epochs),\n",
        "          \"Training loss: {:.4f}..\".format(running_loss/len(trainloader)),\n",
        "          \"Test loss: {:.4f}..\".format(test_loss/len(testloader)),\n",
        "          \"Test Accuracy: {:.4f}\".format(accuracy/len(testloader)),\n",
        "        )\n",
        "    "
      ],
      "execution_count": null,
      "outputs": [
        {
          "output_type": "stream",
          "text": [
            "Epoch: 1/150.. Training loss: 0.5688.. Test loss: 0.4453.. Test Accuracy: 0.8397\n",
            "Epoch: 2/150.. Training loss: 0.4330.. Test loss: 0.4208.. Test Accuracy: 0.8485\n",
            "Epoch: 3/150.. Training loss: 0.3947.. Test loss: 0.4125.. Test Accuracy: 0.8546\n",
            "Epoch: 4/150.. Training loss: 0.3742.. Test loss: 0.3670.. Test Accuracy: 0.8695\n",
            "Epoch: 5/150.. Training loss: 0.3556.. Test loss: 0.3765.. Test Accuracy: 0.8617\n",
            "Epoch: 6/150.. Training loss: 0.3420.. Test loss: 0.3586.. Test Accuracy: 0.8723\n",
            "Epoch: 7/150.. Training loss: 0.3318.. Test loss: 0.3600.. Test Accuracy: 0.8700\n",
            "Epoch: 8/150.. Training loss: 0.3197.. Test loss: 0.3524.. Test Accuracy: 0.8736\n",
            "Epoch: 9/150.. Training loss: 0.3115.. Test loss: 0.3802.. Test Accuracy: 0.8711\n",
            "Epoch: 10/150.. Training loss: 0.3006.. Test loss: 0.3557.. Test Accuracy: 0.8705\n",
            "Epoch: 11/150.. Training loss: 0.2996.. Test loss: 0.3443.. Test Accuracy: 0.8773\n",
            "Epoch: 12/150.. Training loss: 0.2930.. Test loss: 0.3436.. Test Accuracy: 0.8824\n",
            "Epoch: 13/150.. Training loss: 0.2865.. Test loss: 0.3463.. Test Accuracy: 0.8833\n",
            "Epoch: 14/150.. Training loss: 0.2850.. Test loss: 0.3430.. Test Accuracy: 0.8827\n",
            "Epoch: 15/150.. Training loss: 0.2787.. Test loss: 0.3518.. Test Accuracy: 0.8752\n",
            "Epoch: 16/150.. Training loss: 0.2710.. Test loss: 0.3451.. Test Accuracy: 0.8837\n",
            "Epoch: 17/150.. Training loss: 0.2689.. Test loss: 0.3599.. Test Accuracy: 0.8782\n",
            "Epoch: 18/150.. Training loss: 0.2635.. Test loss: 0.3574.. Test Accuracy: 0.8836\n",
            "Epoch: 19/150.. Training loss: 0.2601.. Test loss: 0.3442.. Test Accuracy: 0.8831\n",
            "Epoch: 20/150.. Training loss: 0.2562.. Test loss: 0.3409.. Test Accuracy: 0.8854\n",
            "Epoch: 21/150.. Training loss: 0.2516.. Test loss: 0.3268.. Test Accuracy: 0.8882\n",
            "Epoch: 22/150.. Training loss: 0.2512.. Test loss: 0.3407.. Test Accuracy: 0.8867\n",
            "Epoch: 23/150.. Training loss: 0.2491.. Test loss: 0.3596.. Test Accuracy: 0.8844\n",
            "Epoch: 24/150.. Training loss: 0.2428.. Test loss: 0.3465.. Test Accuracy: 0.8878\n",
            "Epoch: 25/150.. Training loss: 0.2432.. Test loss: 0.3491.. Test Accuracy: 0.8825\n",
            "Epoch: 26/150.. Training loss: 0.2387.. Test loss: 0.3529.. Test Accuracy: 0.8902\n",
            "Epoch: 27/150.. Training loss: 0.2354.. Test loss: 0.3277.. Test Accuracy: 0.8884\n",
            "Epoch: 28/150.. Training loss: 0.2348.. Test loss: 0.3485.. Test Accuracy: 0.8829\n",
            "Epoch: 29/150.. Training loss: 0.2323.. Test loss: 0.3313.. Test Accuracy: 0.8927\n",
            "Epoch: 30/150.. Training loss: 0.2355.. Test loss: 0.3407.. Test Accuracy: 0.8854\n",
            "Epoch: 31/150.. Training loss: 0.2253.. Test loss: 0.3414.. Test Accuracy: 0.8874\n",
            "Epoch: 32/150.. Training loss: 0.2279.. Test loss: 0.3440.. Test Accuracy: 0.8892\n",
            "Epoch: 33/150.. Training loss: 0.2257.. Test loss: 0.3257.. Test Accuracy: 0.8908\n",
            "Epoch: 34/150.. Training loss: 0.2199.. Test loss: 0.3464.. Test Accuracy: 0.8898\n",
            "Epoch: 35/150.. Training loss: 0.2205.. Test loss: 0.3655.. Test Accuracy: 0.8893\n",
            "Epoch: 36/150.. Training loss: 0.2182.. Test loss: 0.3515.. Test Accuracy: 0.8899\n",
            "Epoch: 37/150.. Training loss: 0.2208.. Test loss: 0.3506.. Test Accuracy: 0.8926\n",
            "Epoch: 38/150.. Training loss: 0.2180.. Test loss: 0.3384.. Test Accuracy: 0.8936\n",
            "Epoch: 39/150.. Training loss: 0.2143.. Test loss: 0.3507.. Test Accuracy: 0.8926\n",
            "Epoch: 40/150.. Training loss: 0.2118.. Test loss: 0.3424.. Test Accuracy: 0.8926\n",
            "Epoch: 41/150.. Training loss: 0.2094.. Test loss: 0.3594.. Test Accuracy: 0.8866\n",
            "Epoch: 42/150.. Training loss: 0.2110.. Test loss: 0.3513.. Test Accuracy: 0.8881\n",
            "Epoch: 43/150.. Training loss: 0.2086.. Test loss: 0.3616.. Test Accuracy: 0.8874\n",
            "Epoch: 44/150.. Training loss: 0.2062.. Test loss: 0.3593.. Test Accuracy: 0.8883\n",
            "Epoch: 45/150.. Training loss: 0.2069.. Test loss: 0.3384.. Test Accuracy: 0.8901\n",
            "Epoch: 46/150.. Training loss: 0.2048.. Test loss: 0.3539.. Test Accuracy: 0.8920\n",
            "Epoch: 47/150.. Training loss: 0.2024.. Test loss: 0.3541.. Test Accuracy: 0.8897\n",
            "Epoch: 48/150.. Training loss: 0.1964.. Test loss: 0.3702.. Test Accuracy: 0.8888\n",
            "Epoch: 49/150.. Training loss: 0.2078.. Test loss: 0.3869.. Test Accuracy: 0.8881\n",
            "Epoch: 50/150.. Training loss: 0.2038.. Test loss: 0.3354.. Test Accuracy: 0.8970\n",
            "Epoch: 51/150.. Training loss: 0.1923.. Test loss: 0.3666.. Test Accuracy: 0.8962\n",
            "Epoch: 52/150.. Training loss: 0.1918.. Test loss: 0.3559.. Test Accuracy: 0.8941\n",
            "Epoch: 53/150.. Training loss: 0.1926.. Test loss: 0.3558.. Test Accuracy: 0.8990\n",
            "Epoch: 54/150.. Training loss: 0.1975.. Test loss: 0.3648.. Test Accuracy: 0.8918\n",
            "Epoch: 55/150.. Training loss: 0.1930.. Test loss: 0.3609.. Test Accuracy: 0.8953\n",
            "Epoch: 56/150.. Training loss: 0.1968.. Test loss: 0.3706.. Test Accuracy: 0.8912\n",
            "Epoch: 57/150.. Training loss: 0.1874.. Test loss: 0.3582.. Test Accuracy: 0.8922\n",
            "Epoch: 58/150.. Training loss: 0.1869.. Test loss: 0.3397.. Test Accuracy: 0.8953\n",
            "Epoch: 59/150.. Training loss: 0.1852.. Test loss: 0.3643.. Test Accuracy: 0.8945\n",
            "Epoch: 60/150.. Training loss: 0.1850.. Test loss: 0.3571.. Test Accuracy: 0.8937\n",
            "Epoch: 61/150.. Training loss: 0.1811.. Test loss: 0.3695.. Test Accuracy: 0.8948\n",
            "Epoch: 62/150.. Training loss: 0.1883.. Test loss: 0.3663.. Test Accuracy: 0.8977\n",
            "Epoch: 63/150.. Training loss: 0.1906.. Test loss: 0.3643.. Test Accuracy: 0.8962\n",
            "Epoch: 64/150.. Training loss: 0.1777.. Test loss: 0.3628.. Test Accuracy: 0.8897\n",
            "Epoch: 65/150.. Training loss: 0.1817.. Test loss: 0.3756.. Test Accuracy: 0.8929\n",
            "Epoch: 66/150.. Training loss: 0.1848.. Test loss: 0.3699.. Test Accuracy: 0.8931\n",
            "Epoch: 67/150.. Training loss: 0.1806.. Test loss: 0.3849.. Test Accuracy: 0.8917\n",
            "Epoch: 68/150.. Training loss: 0.1886.. Test loss: 0.3552.. Test Accuracy: 0.9003\n",
            "Epoch: 69/150.. Training loss: 0.1806.. Test loss: 0.3432.. Test Accuracy: 0.8980\n",
            "Epoch: 70/150.. Training loss: 0.1701.. Test loss: 0.3615.. Test Accuracy: 0.8986\n",
            "Epoch: 71/150.. Training loss: 0.1752.. Test loss: 0.3779.. Test Accuracy: 0.8936\n",
            "Epoch: 72/150.. Training loss: 0.1825.. Test loss: 0.3782.. Test Accuracy: 0.8998\n",
            "Epoch: 73/150.. Training loss: 0.1724.. Test loss: 0.3853.. Test Accuracy: 0.8947\n",
            "Epoch: 74/150.. Training loss: 0.1761.. Test loss: 0.3416.. Test Accuracy: 0.8991\n",
            "Epoch: 75/150.. Training loss: 0.1799.. Test loss: 0.3615.. Test Accuracy: 0.8947\n",
            "Epoch: 76/150.. Training loss: 0.1710.. Test loss: 0.3864.. Test Accuracy: 0.8980\n",
            "Epoch: 77/150.. Training loss: 0.1704.. Test loss: 0.3930.. Test Accuracy: 0.8953\n",
            "Epoch: 78/150.. Training loss: 0.1724.. Test loss: 0.3812.. Test Accuracy: 0.8984\n",
            "Epoch: 79/150.. Training loss: 0.1777.. Test loss: 0.3858.. Test Accuracy: 0.8924\n",
            "Epoch: 80/150.. Training loss: 0.1782.. Test loss: 0.4193.. Test Accuracy: 0.8905\n",
            "Epoch: 81/150.. Training loss: 0.1763.. Test loss: 0.4011.. Test Accuracy: 0.8968\n",
            "Epoch: 82/150.. Training loss: 0.1695.. Test loss: 0.4172.. Test Accuracy: 0.8961\n",
            "Epoch: 83/150.. Training loss: 0.1718.. Test loss: 0.4033.. Test Accuracy: 0.8946\n",
            "Epoch: 84/150.. Training loss: 0.1648.. Test loss: 0.4140.. Test Accuracy: 0.8930\n",
            "Epoch: 85/150.. Training loss: 0.1708.. Test loss: 0.4044.. Test Accuracy: 0.8921\n",
            "Epoch: 86/150.. Training loss: 0.1653.. Test loss: 0.3804.. Test Accuracy: 0.8938\n",
            "Epoch: 87/150.. Training loss: 0.1597.. Test loss: 0.4151.. Test Accuracy: 0.8989\n",
            "Epoch: 88/150.. Training loss: 0.1854.. Test loss: 0.3587.. Test Accuracy: 0.8980\n",
            "Epoch: 89/150.. Training loss: 0.1605.. Test loss: 0.3937.. Test Accuracy: 0.8968\n",
            "Epoch: 90/150.. Training loss: 0.1646.. Test loss: 0.3957.. Test Accuracy: 0.8983\n",
            "Epoch: 91/150.. Training loss: 0.1659.. Test loss: 0.3892.. Test Accuracy: 0.8965\n",
            "Epoch: 92/150.. Training loss: 0.1685.. Test loss: 0.4204.. Test Accuracy: 0.8979\n",
            "Epoch: 93/150.. Training loss: 0.1704.. Test loss: 0.3948.. Test Accuracy: 0.8915\n",
            "Epoch: 94/150.. Training loss: 0.2025.. Test loss: 0.3886.. Test Accuracy: 0.8938\n",
            "Epoch: 95/150.. Training loss: 0.1665.. Test loss: 0.4284.. Test Accuracy: 0.8982\n",
            "Epoch: 96/150.. Training loss: 0.1554.. Test loss: 0.4063.. Test Accuracy: 0.8986\n",
            "Epoch: 97/150.. Training loss: 0.1604.. Test loss: 0.4120.. Test Accuracy: 0.8952\n",
            "Epoch: 98/150.. Training loss: 0.1671.. Test loss: 0.4089.. Test Accuracy: 0.8982\n",
            "Epoch: 99/150.. Training loss: 0.1583.. Test loss: 0.3965.. Test Accuracy: 0.9002\n",
            "Epoch: 100/150.. Training loss: 0.1539.. Test loss: 0.4154.. Test Accuracy: 0.8970\n",
            "Epoch: 101/150.. Training loss: 0.1576.. Test loss: 0.3894.. Test Accuracy: 0.8934\n",
            "Epoch: 102/150.. Training loss: 0.1552.. Test loss: 0.4252.. Test Accuracy: 0.8971\n",
            "Epoch: 103/150.. Training loss: 0.1582.. Test loss: 0.4939.. Test Accuracy: 0.8968\n",
            "Epoch: 104/150.. Training loss: 0.1583.. Test loss: 0.4109.. Test Accuracy: 0.8957\n",
            "Epoch: 105/150.. Training loss: 0.1650.. Test loss: 0.4018.. Test Accuracy: 0.8959\n",
            "Epoch: 106/150.. Training loss: 0.1647.. Test loss: 0.4421.. Test Accuracy: 0.8987\n",
            "Epoch: 107/150.. Training loss: 0.1563.. Test loss: 0.4681.. Test Accuracy: 0.8987\n",
            "Epoch: 108/150.. Training loss: 0.1538.. Test loss: 0.5298.. Test Accuracy: 0.8952\n",
            "Epoch: 109/150.. Training loss: 0.1544.. Test loss: 0.4129.. Test Accuracy: 0.8960\n",
            "Epoch: 110/150.. Training loss: 0.1524.. Test loss: 0.4494.. Test Accuracy: 0.8947\n",
            "Epoch: 111/150.. Training loss: 0.1694.. Test loss: 0.4152.. Test Accuracy: 0.8921\n",
            "Epoch: 112/150.. Training loss: 0.1540.. Test loss: 0.4696.. Test Accuracy: 0.8971\n",
            "Epoch: 113/150.. Training loss: 0.1621.. Test loss: 0.4504.. Test Accuracy: 0.8996\n",
            "Epoch: 114/150.. Training loss: 0.1647.. Test loss: 0.3986.. Test Accuracy: 0.8956\n",
            "Epoch: 115/150.. Training loss: 0.1560.. Test loss: 0.4253.. Test Accuracy: 0.8980\n",
            "Epoch: 116/150.. Training loss: 0.1546.. Test loss: 0.3955.. Test Accuracy: 0.8957\n",
            "Epoch: 117/150.. Training loss: 0.1398.. Test loss: 0.4187.. Test Accuracy: 0.8988\n",
            "Epoch: 118/150.. Training loss: 0.1432.. Test loss: 0.4349.. Test Accuracy: 0.8970\n",
            "Epoch: 119/150.. Training loss: 0.1580.. Test loss: 0.4058.. Test Accuracy: 0.8970\n",
            "Epoch: 120/150.. Training loss: 0.1646.. Test loss: 0.4124.. Test Accuracy: 0.8953\n",
            "Epoch: 121/150.. Training loss: 0.1525.. Test loss: 0.4049.. Test Accuracy: 0.8994\n",
            "Epoch: 122/150.. Training loss: 0.1521.. Test loss: 0.4208.. Test Accuracy: 0.8929\n",
            "Epoch: 123/150.. Training loss: 0.1562.. Test loss: 0.4142.. Test Accuracy: 0.8923\n",
            "Epoch: 124/150.. Training loss: 0.1521.. Test loss: 0.4337.. Test Accuracy: 0.8958\n",
            "Epoch: 125/150.. Training loss: 0.1439.. Test loss: 0.4228.. Test Accuracy: 0.9013\n",
            "Epoch: 126/150.. Training loss: 0.1598.. Test loss: 0.4352.. Test Accuracy: 0.8956\n",
            "Epoch: 127/150.. Training loss: 0.1511.. Test loss: 0.4516.. Test Accuracy: 0.8967\n",
            "Epoch: 128/150.. Training loss: 0.1534.. Test loss: 0.4203.. Test Accuracy: 0.8952\n",
            "Epoch: 129/150.. Training loss: 0.1474.. Test loss: 0.4273.. Test Accuracy: 0.8956\n",
            "Epoch: 130/150.. Training loss: 0.1792.. Test loss: 0.3976.. Test Accuracy: 0.8920\n",
            "Epoch: 131/150.. Training loss: 0.1562.. Test loss: 0.4427.. Test Accuracy: 0.8964\n",
            "Epoch: 132/150.. Training loss: 0.1496.. Test loss: 0.4044.. Test Accuracy: 0.8926\n",
            "Epoch: 133/150.. Training loss: 0.1431.. Test loss: 0.4520.. Test Accuracy: 0.8937\n",
            "Epoch: 134/150.. Training loss: 0.1502.. Test loss: 0.4400.. Test Accuracy: 0.8871\n",
            "Epoch: 135/150.. Training loss: 0.1395.. Test loss: 0.4452.. Test Accuracy: 0.8975\n",
            "Epoch: 136/150.. Training loss: 0.1507.. Test loss: 0.3900.. Test Accuracy: 0.8987\n",
            "Epoch: 137/150.. Training loss: 0.1328.. Test loss: 0.4535.. Test Accuracy: 0.8970\n",
            "Epoch: 138/150.. Training loss: 0.1438.. Test loss: 0.4202.. Test Accuracy: 0.8973\n",
            "Epoch: 139/150.. Training loss: 0.1440.. Test loss: 0.4506.. Test Accuracy: 0.9002\n",
            "Epoch: 140/150.. Training loss: 0.1523.. Test loss: 0.4404.. Test Accuracy: 0.8991\n",
            "Epoch: 141/150.. Training loss: 0.1472.. Test loss: 0.4448.. Test Accuracy: 0.8991\n",
            "Epoch: 142/150.. Training loss: 0.1671.. Test loss: 0.4491.. Test Accuracy: 0.8981\n",
            "Epoch: 143/150.. Training loss: 0.1513.. Test loss: 0.4258.. Test Accuracy: 0.8954\n",
            "Epoch: 144/150.. Training loss: 0.1483.. Test loss: 0.4177.. Test Accuracy: 0.8973\n",
            "Epoch: 145/150.. Training loss: 0.1450.. Test loss: 0.5129.. Test Accuracy: 0.8961\n",
            "Epoch: 146/150.. Training loss: 0.1413.. Test loss: 0.4614.. Test Accuracy: 0.8949\n",
            "Epoch: 147/150.. Training loss: 0.1373.. Test loss: 0.5061.. Test Accuracy: 0.8976\n",
            "Epoch: 148/150.. Training loss: 0.1536.. Test loss: 0.4661.. Test Accuracy: 0.8943\n",
            "Epoch: 149/150.. Training loss: 0.1500.. Test loss: 0.4246.. Test Accuracy: 0.8955\n",
            "Epoch: 150/150.. Training loss: 0.1527.. Test loss: 0.4847.. Test Accuracy: 0.8983\n"
          ],
          "name": "stdout"
        }
      ]
    },
    {
      "cell_type": "code",
      "metadata": {
        "id": "wNgLMjSHMTFj",
        "colab_type": "code",
        "colab": {
          "base_uri": "https://localhost:8080/",
          "height": 282
        },
        "outputId": "8312efb4-9a8c-4572-8198-e4e211937960"
      },
      "source": [
        "#epochs => 25 accuracy => 0.8731\n",
        "#epochs => 50 accuracy => 0.8760\n",
        "#epochs => 70 accuracy => 0.8929\n",
        "#epochs => 100 accuracy => 0.8972\n",
        "#epochs ================> 0.8991 => 0.9002\n",
        "\n",
        "plt.plot(train_losses, label = \"Training loss\")\n",
        "plt.plot(test_losses, label = \"Validation loss\")\n",
        "plt.legend(frameon = False)"
      ],
      "execution_count": null,
      "outputs": [
        {
          "output_type": "execute_result",
          "data": {
            "text/plain": [
              "<matplotlib.legend.Legend at 0x7fd60cdc02e8>"
            ]
          },
          "metadata": {
            "tags": []
          },
          "execution_count": 6
        },
        {
          "output_type": "display_data",
          "data": {
            "image/png": "[encoded data removed]",
            "text/plain": [
              "<Figure size 432x288 with 1 Axes>"
            ]
          },
          "metadata": {
            "tags": [],
            "needs_background": "light"
          }
        }
      ]
    },
    {
      "cell_type": "code",
      "metadata": {
        "id": "KFSgfjP4OHRj",
        "colab_type": "code",
        "colab": {}
      },
      "source": [
        "# looks like the loss value is increasing after some epochs\n",
        "\n",
        "def view_classify(img, ps, version=\"MNIST\"):\n",
        "    ''' Function for viewing an image and it's predicted classes.\n",
        "    '''\n",
        "    ps = ps.data.numpy().squeeze()\n",
        "\n",
        "    fig, (ax1, ax2) = plt.subplots(figsize=(6,9), ncols=2)\n",
        "    ax1.imshow(img.resize_(1, 28, 28).numpy().squeeze())\n",
        "    ax1.axis('off')\n",
        "    ax2.barh(np.arange(10), ps)\n",
        "    ax2.set_aspect(0.1)\n",
        "    ax2.set_yticks(np.arange(10))\n",
        "    if version == \"MNIST\":\n",
        "        ax2.set_yticklabels(np.arange(10))\n",
        "    elif version == \"Fashion\":\n",
        "        ax2.set_yticklabels(['T-shirt/top',\n",
        "                            'Trouser',\n",
        "                            'Pullover',\n",
        "                            'Dress',\n",
        "                            'Coat',\n",
        "                            'Sandal',\n",
        "                            'Shirt',\n",
        "                            'Sneaker',\n",
        "                            'Bag',\n",
        "                            'Ankle Boot'], size='small');\n",
        "    ax2.set_title('Class Probability')\n",
        "    ax2.set_xlim(0, 1.1)\n",
        "\n",
        "    plt.tight_layout()"
      ],
      "execution_count": null,
      "outputs": []
    },
    {
      "cell_type": "code",
      "metadata": {
        "id": "nT8xg3hGex2S",
        "colab_type": "code",
        "colab": {
          "base_uri": "https://localhost:8080/",
          "height": 233
        },
        "outputId": "a35a16e4-d2de-4caa-c88d-254c6db2b485"
      },
      "source": [
        "%matplotlib inline\n",
        "%config InlineBackend.figure_format = 'retina'\n",
        "# Testing out the network\n",
        "dataiter = iter(testloader)\n",
        "images, labels = dataiter.next()\n",
        "img = images[0]\n",
        "img = img.resize_(1, 784)\n",
        "ps = torch.exp(model(img))\n",
        "view_classify(img, ps, version='Fashion')"
      ],
      "execution_count": null,
      "outputs": [
        {
          "output_type": "display_data",
          "data": {
            "image/png": "[encoded data removed]",
            "text/plain": [
              "<Figure size 432x648 with 2 Axes>"
            ]
          },
          "metadata": {
            "tags": [],
            "image/png": {
              "width": 424,
              "height": 216
            },
            "needs_background": "light"
          }
        }
      ]
    },
    {
      "cell_type": "code",
      "metadata": {
        "id": "hXjZeR9YibSo",
        "colab_type": "code",
        "colab": {
          "base_uri": "https://localhost:8080/",
          "height": 391
        },
        "outputId": "45a9d521-80c8-45e1-f35c-d38a86d26d91"
      },
      "source": [
        "\n",
        "print(\"My model: \\n\\n\", model, \"\\n\")\n",
        "print(\"The state dict keys: \\n\\n\", model.state_dict().keys())"
      ],
      "execution_count": null,
      "outputs": [
        {
          "output_type": "stream",
          "text": [
            "My model: \n",
            "\n",
            " Sequential(\n",
            "  (0): Linear(in_features=784, out_features=650, bias=True)\n",
            "  (1): ReLU()\n",
            "  (2): Dropout(p=0.2, inplace=False)\n",
            "  (3): Linear(in_features=650, out_features=420, bias=True)\n",
            "  (4): ReLU()\n",
            "  (5): Dropout(p=0.2, inplace=False)\n",
            "  (6): Linear(in_features=420, out_features=360, bias=True)\n",
            "  (7): ReLU()\n",
            "  (8): Dropout(p=0.2, inplace=False)\n",
            "  (9): Linear(in_features=360, out_features=230, bias=True)\n",
            "  (10): ReLU()\n",
            "  (11): Dropout(p=0.2, inplace=False)\n",
            "  (12): Linear(in_features=230, out_features=10, bias=True)\n",
            "  (13): LogSoftmax(dim=1)\n",
            ") \n",
            "\n",
            "The state dict keys: \n",
            "\n",
            " odict_keys(['0.weight', '0.bias', '3.weight', '3.bias', '6.weight', '6.bias', '9.weight', '9.bias', '12.weight', '12.bias'])\n"
          ],
          "name": "stdout"
        }
      ]
    },
    {
      "cell_type": "code",
      "metadata": {
        "id": "7s9j29mBiec2",
        "colab_type": "code",
        "colab": {}
      },
      "source": [
        ""
      ],
      "execution_count": null,
      "outputs": []
    },
    {
      "cell_type": "code",
      "metadata": {
        "id": "yJErynW-i1yY",
        "colab_type": "code",
        "colab": {}
      },
      "source": [
        ""
      ],
      "execution_count": null,
      "outputs": []
    },
    {
      "cell_type": "code",
      "metadata": {
        "id": "nftElHu9i7dL",
        "colab_type": "code",
        "colab": {}
      },
      "source": [
        ""
      ],
      "execution_count": null,
      "outputs": []
    }
  ]
}